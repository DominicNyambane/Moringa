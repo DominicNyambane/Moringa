{
 "cells": [
  {
   "cell_type": "markdown",
   "metadata": {},
   "source": [
    "# List\n",
    "* A collection of items in a particular order.\n",
    "* Can include strings, floats, intergers and any other datatypes including a List.\n",
    "* You can add anything in a list, and the items in your list dont have to be related in any particular way.\n",
    "* Use square brackets ```([])``` to indicate a list and individual items in the list are separated bu commas.\n",
    "\n",
    "**syntax** : ```(item_1, item_2, item_3)````\n"
   ]
  },
  {
   "cell_type": "code",
   "execution_count": null,
   "metadata": {},
   "outputs": [],
   "source": []
  },
  {
   "cell_type": "code",
   "execution_count": 4,
   "metadata": {},
   "outputs": [
    {
     "name": "stdout",
     "output_type": "stream",
     "text": [
      "['Mango', 'Banana', 'Orange', 'Apple']\n"
     ]
    }
   ],
   "source": [
    "#exampla\n",
    "fruits = [\"Mango\", \"Banana\", \"Orange\", \"Apple\"]\n",
    "print(fruits)"
   ]
  },
  {
   "cell_type": "code",
   "execution_count": 5,
   "metadata": {},
   "outputs": [
    {
     "data": {
      "text/plain": [
       "list"
      ]
     },
     "execution_count": 5,
     "metadata": {},
     "output_type": "execute_result"
    }
   ],
   "source": [
    "type(fruits)"
   ]
  },
  {
   "cell_type": "code",
   "execution_count": 6,
   "metadata": {},
   "outputs": [
    {
     "name": "stdout",
     "output_type": "stream",
     "text": [
      "[2549384940, 254959595, 25495859]\n"
     ]
    }
   ],
   "source": [
    "# example 2\n",
    "phone_no = [2549384940, 254959595, 25495859]\n",
    "print(phone_no)"
   ]
  },
  {
   "cell_type": "markdown",
   "metadata": {},
   "source": [
    "### Accessing items in a list\n",
    "* Lists are ordered collections. ie you can access individual items in a list by telling python the position of that item in a list.\n",
    "* The position of an item in a list is referred to as *index*\n",
    "* Syntax to access items in a list:\n",
    "\n",
    "```list_name[index]```\n",
    "\n"
   ]
  },
  {
   "cell_type": "code",
   "execution_count": 7,
   "metadata": {},
   "outputs": [
    {
     "name": "stdout",
     "output_type": "stream",
     "text": [
      "['Mango', 'Banana', 'Orange', 'Apple']\n"
     ]
    }
   ],
   "source": [
    "# using fruit list\n",
    "print(fruits)"
   ]
  },
  {
   "cell_type": "code",
   "execution_count": 8,
   "metadata": {},
   "outputs": [
    {
     "name": "stdout",
     "output_type": "stream",
     "text": [
      "Banana\n"
     ]
    }
   ],
   "source": [
    "# access banana\n",
    "print(fruits[1])"
   ]
  },
  {
   "cell_type": "markdown",
   "metadata": {},
   "source": [
    "* Index positions start at **0**, not ``1``\n",
    "\n"
   ]
  },
  {
   "cell_type": "code",
   "execution_count": 9,
   "metadata": {},
   "outputs": [
    {
     "name": "stdout",
     "output_type": "stream",
     "text": [
      "APPLE\n"
     ]
    }
   ],
   "source": [
    "# change case\n",
    "print(fruits[3].upper())"
   ]
  },
  {
   "cell_type": "code",
   "execution_count": 11,
   "metadata": {},
   "outputs": [
    {
     "name": "stdout",
     "output_type": "stream",
     "text": [
      "Apple\n",
      "Orange\n"
     ]
    }
   ],
   "source": [
    "# using negative ie printing from the last item\n",
    "# starts -1\n",
    "\n",
    "print(fruits[-1])\n",
    "print(fruits[-2])"
   ]
  },
  {
   "cell_type": "code",
   "execution_count": 13,
   "metadata": {},
   "outputs": [
    {
     "name": "stdout",
     "output_type": "stream",
     "text": [
      "Gilbert likes Apple, especially the green ones\n"
     ]
    }
   ],
   "source": [
    "# using individual items in a list\n",
    "message = f\"Gilbert likes {fruits[-1]}, especially the green ones\"\n",
    "print(message)"
   ]
  },
  {
   "cell_type": "code",
   "execution_count": 22,
   "metadata": {},
   "outputs": [
    {
     "name": "stdout",
     "output_type": "stream",
     "text": [
      "Alex likes both Mangoes and Oranges.\n"
     ]
    }
   ],
   "source": [
    "message_2 = f\"Alex likes both {fruits[0]}es and {fruits[2]}s.\"\n",
    "print(message_2)"
   ]
  },
  {
   "cell_type": "markdown",
   "metadata": {},
   "source": [
    "## Modifying, Adding, and Removing Elements in a List\n",
    "* Lists are dynamic, i.e most of the lists you will create, modify the you will add items, you will change the items, remove items and delete the entire list\n"
   ]
  },
  {
   "cell_type": "code",
   "execution_count": 27,
   "metadata": {},
   "outputs": [
    {
     "name": "stdout",
     "output_type": "stream",
     "text": [
      "['Supreme', 'High Coat']\n"
     ]
    }
   ],
   "source": [
    "# example list ..Note: high court is mispelled\n",
    "\n",
    "courts = [\"Supreme\", \"High Coat\"]\n",
    "print(courts)"
   ]
  },
  {
   "cell_type": "code",
   "execution_count": 28,
   "metadata": {},
   "outputs": [
    {
     "name": "stdout",
     "output_type": "stream",
     "text": [
      "['Supreme', 'High Court']\n"
     ]
    }
   ],
   "source": [
    "# modifying the list\n",
    "courts[1] = \"High Court\"\n",
    "print(courts)"
   ]
  },
  {
   "cell_type": "code",
   "execution_count": 30,
   "metadata": {},
   "outputs": [
    {
     "name": "stdout",
     "output_type": "stream",
     "text": [
      "['Supreme', 'High Court', 'Magistrate Court']\n"
     ]
    }
   ],
   "source": [
    "# adding item to a list - introducing new items to a list\n",
    "# 1. Adding elements at the end of a list .append(item)\n",
    "courts.append(\"Magistrate Court\")\n",
    "print(courts)\n"
   ]
  },
  {
   "cell_type": "code",
   "execution_count": 31,
   "metadata": {},
   "outputs": [
    {
     "name": "stdout",
     "output_type": "stream",
     "text": [
      "['Mango', 'Banana', 'Orange', 'Apple', 'Paw paw']\n"
     ]
    }
   ],
   "source": [
    "# example 2\n",
    "fruits.append(\"Paw paw\")\n",
    "print(fruits)"
   ]
  },
  {
   "cell_type": "code",
   "execution_count": 37,
   "metadata": {},
   "outputs": [
    {
     "name": "stdout",
     "output_type": "stream",
     "text": [
      "['Supreme', 'Court of Appeal', 'Court of Appeal', 'Court of Appeal', 'Court of Appeal', 'Court of Appeal', 'Court of Appeal', 'High Court', 'Magistrate Court']\n"
     ]
    }
   ],
   "source": [
    "# Insert an item into a lost at specific position\n",
    "# syntax .insert(index, item)\n",
    "courts.insert(1, \"Court of Appeal\")\n",
    "print(courts)"
   ]
  },
  {
   "cell_type": "code",
   "execution_count": 39,
   "metadata": {},
   "outputs": [
    {
     "name": "stdout",
     "output_type": "stream",
     "text": [
      "['Mango', 'Banana', 'Orange', 'Apple']\n"
     ]
    }
   ],
   "source": [
    "# removing items a list\n",
    "# 1. using .pop() to remove an item at the end of a list\n",
    "fruits.pop()\n",
    "print(fruits)\n"
   ]
  },
  {
   "cell_type": "code",
   "execution_count": 41,
   "metadata": {},
   "outputs": [
    {
     "name": "stdout",
     "output_type": "stream",
     "text": [
      "['Banana', 'Orange', 'Apple']\n"
     ]
    }
   ],
   "source": [
    "# use .pop(index) to remove an item at a particular position\n",
    "fruits.pop(0)\n",
    "print(fruits)"
   ]
  },
  {
   "cell_type": "code",
   "execution_count": 43,
   "metadata": {},
   "outputs": [
    {
     "name": "stdout",
     "output_type": "stream",
     "text": [
      "['Banana', 'Apple']\n"
     ]
    }
   ],
   "source": [
    "# 3. use removed(item_value) to remove item by value\n",
    "fruits.remove(\"Orange\")\n",
    "print(fruits)"
   ]
  },
  {
   "cell_type": "code",
   "execution_count": 44,
   "metadata": {},
   "outputs": [
    {
     "name": "stdout",
     "output_type": "stream",
     "text": [
      "['Banana']\n"
     ]
    }
   ],
   "source": [
    "# using del statememt to remove last item\n",
    "# syntax del list_name[index]\n",
    "del fruits[1]\n",
    "print(fruits)"
   ]
  }
 ],
 "metadata": {
  "kernelspec": {
   "display_name": "base",
   "language": "python",
   "name": "python3"
  },
  "language_info": {
   "codemirror_mode": {
    "name": "ipython",
    "version": 3
   },
   "file_extension": ".py",
   "mimetype": "text/x-python",
   "name": "python",
   "nbconvert_exporter": "python",
   "pygments_lexer": "ipython3",
   "version": "3.11.3"
  },
  "orig_nbformat": 4
 },
 "nbformat": 4,
 "nbformat_minor": 2
}
