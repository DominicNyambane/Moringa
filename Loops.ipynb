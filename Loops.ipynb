{
 "cells": [
  {
   "cell_type": "markdown",
   "metadata": {},
   "source": [
    "## Objectives\n",
    "\n",
    "* Understand the concept\n",
    "* Demonstrate the types of loops\n",
    "* Discuss the syntax\n",
    "* Understand the concept of loop control\n",
    "* Discuss iteration\n",
    "* Discuss nested loops\n",
    "* Enhancing loop functionality"
   ]
  },
  {
   "cell_type": "markdown",
   "metadata": {},
   "source": [
    "## Introduction to repitition\n",
    "\n",
    "* Repitition is a fundamental concept in programming that involves performing the same set of instructions multiple times\n",
    "* Used to automate tasks that require repeated execution of code e.g *MPESA menu*\n",
    "* Loops a key mechanism in programming to achieve this reptition efficiently"
   ]
  },
  {
   "cell_type": "code",
   "execution_count": 1,
   "metadata": {},
   "outputs": [
    {
     "name": "stdout",
     "output_type": "stream",
     "text": [
      "1\n",
      "2\n",
      "3\n"
     ]
    }
   ],
   "source": [
    "# consider a scenario counting 1 to 10\n",
    "print(1)\n",
    "print(2)\n",
    "print(3)"
   ]
  },
  {
   "cell_type": "code",
   "execution_count": 2,
   "metadata": {},
   "outputs": [
    {
     "name": "stdout",
     "output_type": "stream",
     "text": [
      "1\n",
      "2\n",
      "3\n",
      "4\n",
      "5\n",
      "6\n",
      "7\n",
      "8\n",
      "9\n"
     ]
    }
   ],
   "source": [
    "# programming loops automate such repetitive tasks\n",
    "for num in range(1, 10):\n",
    "    print(num)"
   ]
  },
  {
   "cell_type": "code",
   "execution_count": 11,
   "metadata": {},
   "outputs": [
    {
     "name": "stdout",
     "output_type": "stream",
     "text": [
      "Number: 0\n",
      "Number: 1\n",
      "Number: 2\n",
      "Number: 3\n",
      "Number: 4\n"
     ]
    }
   ],
   "source": [
    "# use while loops\n",
    "count = 0\n",
    "\n",
    "while (count < 5):\n",
    "    print(\"Number:\", count)\n",
    "    count += 1 # what does this code do?"
   ]
  },
  {
   "cell_type": "markdown",
   "metadata": {},
   "source": [
    "## What is a loop?\n",
    "* A loop is a programming construct that enables the repeated execution of a specific block of code(*indented code block*).\n",
    "* Loops are used when you want to automated a task that needs to be performed multiple times.\n",
    "* They control the flow of the programm, allowing certain code to be executed immediately until a **condition is met**.\n"
   ]
  },
  {
   "cell_type": "code",
   "execution_count": 13,
   "metadata": {},
   "outputs": [
    {
     "name": "stdout",
     "output_type": "stream",
     "text": [
      "1\n",
      "2\n",
      "3\n",
      "4\n",
      "5\n",
      "6\n",
      "7\n",
      "8\n",
      "9\n"
     ]
    }
   ],
   "source": [
    "# code goes here\n",
    "# list of numbers\n",
    "numbers = [1, 2, 3, 4, 5, 6, 7, 8, 9]\n",
    "\n",
    "even_numbers = []\n",
    "\n",
    "for num in numbers:\n",
    "    print(num)"
   ]
  },
  {
   "cell_type": "code",
   "execution_count": 18,
   "metadata": {},
   "outputs": [
    {
     "name": "stdout",
     "output_type": "stream",
     "text": [
      "[1, 2, 4, 6, 8]\n"
     ]
    }
   ],
   "source": [
    "# for fun\n",
    "# empty list to store even numbers\n",
    "even_numbers = [1]\n",
    "\n",
    "# looping through the numbers list and assigning every number as num\n",
    "for num in numbers:\n",
    "    # Checking if the number is even\n",
    "    if (num % 2 == 0):\n",
    "        # if condition is true\n",
    "        even_numbers.append(num)\n",
    "\n",
    "print(even_numbers)\n"
   ]
  },
  {
   "cell_type": "code",
   "execution_count": 19,
   "metadata": {},
   "outputs": [
    {
     "name": "stdout",
     "output_type": "stream",
     "text": [
      "55\n"
     ]
    }
   ],
   "source": [
    "# sum the numbers between 1 and 10\n",
    "\n",
    "sum = 1 + 2 + 3 + 4 + 5 + 6 + 7 + 8 + 9 + 10\n",
    "print(sum)"
   ]
  },
  {
   "cell_type": "code",
   "execution_count": 20,
   "metadata": {},
   "outputs": [
    {
     "name": "stdout",
     "output_type": "stream",
     "text": [
      "55\n"
     ]
    }
   ],
   "source": [
    "# use a loop to find the sum of numbers between 1 and 10\n",
    "\n",
    "# declare a varible to store the sum\n",
    "\n",
    "sum = 0\n",
    "\n",
    "for num in range(1, 11): # range (1, 11) means all the numbers between 1 and 11 excluding 11 \n",
    "    # increment the value of sum by the value of num\n",
    "    sum += num\n",
    "print(sum)"
   ]
  },
  {
   "cell_type": "markdown",
   "metadata": {},
   "source": [
    "## Control Flow \n",
    "* Loops influence the order in which instructions are executed \n",
    "* When a loop is encountered, the programme enters a loop body, executing the contained conde\n",
    "* syntax\n",
    "\n",
    "```\n",
    "loop made of a condition:\n",
    "    contained block of \n",
    "    code to be executed \n",
    "    when condition in True/met\n",
    "\n",
    "program exits the loop\n",
    "```\n",
    "* At each iteration, the programm checks the loop condition, if the condition remains **True**, the loop body is executed again. \n",
    "* If it becomes **False**, the program exits the loop\n",
    "\n",
    "* **Iteration** - Refers to each cycle of a loop."
   ]
  },
  {
   "cell_type": "code",
   "execution_count": 6,
   "metadata": {},
   "outputs": [
    {
     "name": "stdout",
     "output_type": "stream",
     "text": [
      "This is an example of a loop\n",
      "We are demonstrating while loop\n",
      "Countdown value: 5!!\n",
      "Countdown value: 4!!\n",
      "Countdown value: 3!!\n",
      "Countdown value: 2!!\n",
      "Countdown value: 1!!\n",
      "Exit loop!! and program continues\n"
     ]
    }
   ],
   "source": [
    "#     of control flow\n",
    "# assume the print statement below are blocks\n",
    "print(\"This is an example of a loop\")\n",
    "print(\"We are demonstrating while loop\")\n",
    "\n",
    "# loop to simulate a count down\n",
    "countdown = 5\n",
    "\n",
    "# our program meets a loop block >> while loop\n",
    "while (countdown > 0):\n",
    "    # code to execute when the condition is true\n",
    "    print(f\"Countdown value: {countdown}!!\")\n",
    "    countdown -= 1\n",
    "# propgram exits the loop when the condition is no longer met\n",
    "print(\"Exit loop!! and program continues\")"
   ]
  },
  {
   "cell_type": "markdown",
   "metadata": {},
   "source": [
    "# Types of loops\n",
    "\n",
    "* There two main types of loops in python:\n",
    ">> ```for ``` and ```while```\n",
    "* Type of loop you choose depends on whether you know the number of iterations in advance \n",
    "ot if it depends on a condition\n",
    "* When you know the number of iterations use while loop, when you don't, use the a for loop"
   ]
  },
  {
   "cell_type": "markdown",
   "metadata": {},
   "source": [
    "### For loop\n",
    "\n",
    "* Basic syntax\n",
    "```\n",
    "for item in sequence:\n",
    "    # code to be executed for each item\n",
    "    # ***\n",
    "```\n",
    "\n",
    "* 'for': Keyword that signals the start of a 'for' loop\n",
    "* 'item': Is a variable that represents the current item in the sequence during each iteration of the loop.\n",
    "* 'in' : A keyword used to specify that you are iterating *in* the given sequence.\n",
    "* 'sequence' : Collection of items that you want to iterate over (e.g, list, string, tuple, or range)\n",
    "* ':' : Signifies the start of the indented code block that will be executed in each iteration of the loop.\n",
    "\n",
    "Inside the indented code block, you place the actions or operations that you want to perform on each item in the sequence. The loop will automatically iterate through the entire sequence, executing the code block for each item. \n",
    "\n"
   ]
  },
  {
   "cell_type": "code",
   "execution_count": 5,
   "metadata": {},
   "outputs": [
    {
     "name": "stdout",
     "output_type": "stream",
     "text": [
      "Kisumu\n",
      "Kisii\n",
      "Nyamira\n",
      "Homa Bay\n",
      "Migori\n"
     ]
    }
   ],
   "source": [
    "# code demonstration\n",
    "# list of high courts in Kenya\n",
    "high_courts = ['Kisumu', 'Kisii', 'Nyamira', 'Homa Bay', 'Migori', 'Kitale', 'Mandera']\n",
    "\n",
    "for court in high_courts:\n",
    "    # code block to execute for each item\n",
    "    print(court)\n",
    "    if (court == 'Migori'):\n",
    "        break;"
   ]
  },
  {
   "cell_type": "markdown",
   "metadata": {},
   "source": [
    "###  Sequence types\n",
    "* Refers to data structures that hold a collection of elements, where each element is accessible by an index or a key.c\n",
    "* These elements are ordered, meaning they have a specific poisiton within the sequence.\n"
   ]
  },
  {
   "cell_type": "code",
   "execution_count": 7,
   "metadata": {},
   "outputs": [
    {
     "name": "stdout",
     "output_type": "stream",
     "text": [
      "['Kisumu', 'Kisii', 'Nyamira', 'Homa Bay', 'Migori', 'Kitale', 'Mandera']\n",
      "Homa Bay\n"
     ]
    }
   ],
   "source": [
    "# list \n",
    "print(high_courts)\n",
    "\n",
    "# accessing elements/items in a list by index\n",
    "print(high_courts[3])"
   ]
  },
  {
   "cell_type": "code",
   "execution_count": 10,
   "metadata": {},
   "outputs": [
    {
     "name": "stdout",
     "output_type": "stream",
     "text": [
      "kisumu\n",
      "kisii\n",
      "nyamira\n",
      "homa bay\n",
      "migori\n",
      "kitale\n",
      "mandera\n"
     ]
    }
   ],
   "source": [
    "# looping through list court\n",
    "for court in high_courts:\n",
    "    #c code to execute\n",
    "    lower_case = court.lower()\n",
    "    print(lower_case)"
   ]
  },
  {
   "cell_type": "code",
   "execution_count": 12,
   "metadata": {},
   "outputs": [
    {
     "name": "stdout",
     "output_type": "stream",
     "text": [
      "('Kocheli', 'Solo', 'Nyambane', 'Yusuf')\n"
     ]
    }
   ],
   "source": [
    "# tuple - is similar to lists, but they are immutable, meaning\n",
    "# thier contents cannot be changed after creation\n",
    "# syntax tuple_name = (item1, item2,...)\n",
    "\n",
    "noise_makers = (\"Kocheli\", \"Solo\", \"Nyambane\", \"Yusuf\")\n",
    "print(noise_makers)"
   ]
  },
  {
   "cell_type": "code",
   "execution_count": 14,
   "metadata": {},
   "outputs": [
    {
     "name": "stdout",
     "output_type": "stream",
     "text": [
      "Kocheli\n",
      "Solo\n",
      "Nyambane\n",
      "Yusuf\n"
     ]
    }
   ],
   "source": [
    "# loop through the items in a tuple\n",
    "for noise_maker in noise_makers:\n",
    "    # code to be executed\n",
    "    print(noise_maker)"
   ]
  },
  {
   "cell_type": "code",
   "execution_count": 1,
   "metadata": {},
   "outputs": [
    {
     "name": "stdout",
     "output_type": "stream",
     "text": [
      "J\n",
      "u\n",
      "d\n",
      "i\n",
      "c\n",
      "i\n",
      "a\n",
      "r\n",
      "y\n"
     ]
    }
   ],
   "source": [
    "# iterate through a string\n",
    "\n",
    "word = \"Judiciary\"\n",
    "for char in word:\n",
    "    print(char)"
   ]
  },
  {
   "cell_type": "code",
   "execution_count": 2,
   "metadata": {},
   "outputs": [
    {
     "name": "stdout",
     "output_type": "stream",
     "text": [
      "['J', 'u', 'd', 'i', 'c', 'i', 'a', 'r', 'y']\n"
     ]
    }
   ],
   "source": [
    "# empty list to store characters\n",
    "word_chars = []\n",
    "\n",
    "for char in word:\n",
    "    word_chars.append(char)\n",
    "print(word_chars)"
   ]
  },
  {
   "cell_type": "code",
   "execution_count": 3,
   "metadata": {},
   "outputs": [
    {
     "name": "stdout",
     "output_type": "stream",
     "text": [
      "[1, 3, 5, 7, 9]\n"
     ]
    }
   ],
   "source": [
    "# range\n",
    "\n",
    "# empty list to store odd numbers\n",
    "odd_nums = []\n",
    "for num in range(1, 10):\n",
    "    if (num % 2 == 1):\n",
    "        odd_nums.append(num)\n",
    "print(odd_nums)"
   ]
  },
  {
   "cell_type": "markdown",
   "metadata": {},
   "source": [
    "## Looop Body \n",
    "* Refers to the block of code that is executed repeatedly for each iteration of loop.\n",
    "* In programming, a loop is designed to perform repeated tasks automatically and the loop body contains the instructions that define what those actions are.\n",
    "\n",
    "\n"
   ]
  },
  {
   "cell_type": "markdown",
   "metadata": {},
   "source": [
    "#### Important points to consider:\n",
    "1. **indentation** - the loop body is indented to indicate that is the part of the loop\n",
    "It defines the scope of the loop body. \n",
    "\n",
    "2. **Iteration** - loop body is executed once for each item in the sequence that contains the elements upon which the instructions and executions will be repeated.\n",
    "\n",
    "3. **accessing loop variable** - the loop variable value can be accessed inside the loop body to perform specific actions to that value. \n",
    "\n",
    "4. **manipulation** - inside the loop body, you can perform the various operations on the loop variable or use it to interact with other part of the program. "
   ]
  },
  {
   "cell_type": "code",
   "execution_count": 6,
   "metadata": {},
   "outputs": [
    {
     "name": "stdout",
     "output_type": "stream",
     "text": [
      "The square of 1 = 1\n",
      "The square of 2 = 4\n",
      "The square of 3 = 9\n",
      "The square of 4 = 16\n",
      "The square of 5 = 25\n"
     ]
    }
   ],
   "source": [
    "# example\n",
    "\n",
    "for num in range(1, 6):\n",
    "    square =num ** 2\n",
    "    print(f\"The square of {num} = {square}\")"
   ]
  },
  {
   "cell_type": "code",
   "execution_count": 10,
   "metadata": {},
   "outputs": [
    {
     "name": "stdout",
     "output_type": "stream",
     "text": [
      "Hello Dominic, welcome to training!!\n"
     ]
    }
   ],
   "source": [
    "def greet_students(student_name):\n",
    "    message = f\"Hello {student_name}, welcome to training!!\"\n",
    "    return print(message)\n",
    "greet_students(\"Dominic\")"
   ]
  },
  {
   "cell_type": "code",
   "execution_count": 33,
   "metadata": {},
   "outputs": [
    {
     "name": "stdout",
     "output_type": "stream",
     "text": [
      "Hello Prof, welcome to training!!\n",
      "Hello Kirui, welcome to training!!\n",
      "Hello Mercy, welcome to training!!\n",
      "Hello Lumumba, welcome to training!!\n"
     ]
    }
   ],
   "source": [
    "student_names = ['Prof', 'Kirui', 'Mercy', 'Lumumba']\n",
    "\n",
    "for name in student_names:\n",
    "    greet_students(name)"
   ]
  },
  {
   "cell_type": "markdown",
   "metadata": {},
   "source": [
    "### 'Range()'\n",
    "\n",
    "* a function commonly used especially when workig with loops.\n",
    "* Generates a sequence of numbers within a specified range, which can be used for various purposes, e.g., iterating through a loop of certain numbers or creating a list of numbers. \n",
    "* 'range()' takes uptp three arguments:\n",
    "\n",
    "1. **start(inclusive, optuional)** - The starting value of the sequence. If omitted, the sequence starts from zero by default.\n",
    "2. **stop*(exclusive)* - The ending value of the sequence. The sequence will go up to the value, but not include the value in sequence. exampl if stop is 50, and start is 0, the sequence will be all numbers including 0 - 49, but not 50.\n",
    "3. **step(optional)** - The difference between consecutive values in the sequence. By default, the value of step is 1\n",
    "\n",
    "* sytanx\n",
    "```range(start, stop, step)```\n"
   ]
  },
  {
   "cell_type": "markdown",
   "metadata": {},
   "source": [
    "#### Basic range\n",
    "* Only using stop to generate a sequence of numbers from 0 to 10\n",
    "* Remember if you dont include start and step, python will automatically pick the numbers 0 and 1 as the default value for stop and step"
   ]
  },
  {
   "cell_type": "code",
   "execution_count": 16,
   "metadata": {},
   "outputs": [
    {
     "name": "stdout",
     "output_type": "stream",
     "text": [
      "0\n",
      "1\n",
      "2\n",
      "3\n",
      "4\n",
      "5\n",
      "6\n",
      "7\n",
      "8\n",
      "9\n",
      "10\n"
     ]
    }
   ],
   "source": [
    "# from 0 to 10\n",
    "\n",
    "for num in range(11):\n",
    "    print(num)"
   ]
  },
  {
   "cell_type": "markdown",
   "metadata": {},
   "source": [
    "#### Specifying start and stop\n",
    "\n",
    "* Generate a sequence where we specify the start of the sequence."
   ]
  },
  {
   "cell_type": "code",
   "execution_count": 17,
   "metadata": {},
   "outputs": [
    {
     "name": "stdout",
     "output_type": "stream",
     "text": [
      "30\n",
      "31\n",
      "32\n",
      "33\n",
      "34\n",
      "35\n",
      "36\n",
      "37\n",
      "38\n",
      "39\n"
     ]
    }
   ],
   "source": [
    "# numbers between 30 and 40\n",
    "\n",
    "for num in range(30, 40):\n",
    "    print(num)"
   ]
  },
  {
   "cell_type": "markdown",
   "metadata": {},
   "source": [
    "#### Specifying start, stop and step\n",
    "\n",
    "* step is the difference between two consecutive numbers\n"
   ]
  },
  {
   "cell_type": "code",
   "execution_count": 26,
   "metadata": {},
   "outputs": [
    {
     "name": "stdout",
     "output_type": "stream",
     "text": [
      "6\n",
      "9\n",
      "12\n",
      "15\n",
      "18\n",
      "21\n",
      "24\n",
      "27\n",
      "30\n"
     ]
    }
   ],
   "source": [
    "# all numbers divisible by 3 between 6 and 30\n",
    "# start at 6 \n",
    "# stop at 30\n",
    "# step - difference between two consecutive values i.e interval\n",
    "\n",
    "for num in range(6, 31, 3):\n",
    "    print(num)"
   ]
  },
  {
   "cell_type": "code",
   "execution_count": 31,
   "metadata": {},
   "outputs": [
    {
     "name": "stdout",
     "output_type": "stream",
     "text": [
      "[0, 2, 4, 6, 8, 10, 12, 14, 16, 18, 20, 22, 24, 26, 28, 30, 32, 34, 36, 38, 40, 42, 44, 46, 48, 50, 52, 54, 56, 58, 60, 62, 64, 66, 68, 70, 72, 74, 76, 78, 80, 82, 84, 86, 88, 90, 92, 94, 96, 98, 100]\n"
     ]
    }
   ],
   "source": [
    "# disclaimer -- for demo purposes only!!\n",
    "odd_numbers = []\n",
    "for num in range(0, 101, 2):\n",
    "    odd_numbers.append(num)\n",
    "print(odd_numbers)"
   ]
  },
  {
   "cell_type": "code",
   "execution_count": 34,
   "metadata": {},
   "outputs": [
    {
     "name": "stdout",
     "output_type": "stream",
     "text": [
      "['Prof', 'Kirui', 'Mercy', 'Lumumba']\n"
     ]
    }
   ],
   "source": [
    "print(student_names)"
   ]
  },
  {
   "cell_type": "code",
   "execution_count": 36,
   "metadata": {},
   "outputs": [
    {
     "name": "stdout",
     "output_type": "stream",
     "text": [
      "P\n",
      "r\n",
      "o\n",
      "f\n",
      "Prof\n",
      "Kirui\n",
      "Mercy\n",
      "Lumumba\n"
     ]
    }
   ],
   "source": [
    "# nested loops\n",
    "\n",
    "item_1 = student_names[0]\n",
    "\n",
    "for letters in item_1:\n",
    "    print(letters)\n",
    "print\n",
    "for students in student_names:\n",
    "    print(students)"
   ]
  },
  {
   "cell_type": "code",
   "execution_count": 37,
   "metadata": {},
   "outputs": [
    {
     "name": "stdout",
     "output_type": "stream",
     "text": [
      "P\n",
      "r\n",
      "o\n",
      "f\n",
      "\n",
      "K\n",
      "i\n",
      "r\n",
      "u\n",
      "i\n",
      "\n",
      "M\n",
      "e\n",
      "r\n",
      "c\n",
      "y\n",
      "\n",
      "L\n",
      "u\n",
      "m\n",
      "u\n",
      "m\n",
      "b\n",
      "a\n",
      "\n"
     ]
    }
   ],
   "source": [
    "# nested loops -  a loop with a loop is the second loop within the loop body of the first loop\n",
    "\n",
    "for student in student_names: # first loop\n",
    "    for letter in student: # second loop\n",
    "        print(letter)\n",
    "    print() # line break after every name\n"
   ]
  },
  {
   "cell_type": "markdown",
   "metadata": {},
   "source": [
    "```\n",
    "Challenge\n",
    "*\n",
    "***\n",
    "****\n"
   ]
  },
  {
   "cell_type": "code",
   "execution_count": 42,
   "metadata": {},
   "outputs": [
    {
     "name": "stdout",
     "output_type": "stream",
     "text": [
      "* \n",
      "* * \n",
      "* * * \n",
      "* * * * \n"
     ]
    }
   ],
   "source": [
    "# define the number of rows\n",
    "num_rows = 4\n",
    "\n",
    "# outer loop for the rows\n",
    "for rows in range(num_rows):\n",
    "    # inner loop for printing the asteriks (*)\n",
    "    for asteriks in range(rows + 1):\n",
    "        print(\"*\", end=\" \") # by default value of end is new line\n",
    "    # move to the next line after each row is printed\n",
    "    print()\n"
   ]
  },
  {
   "cell_type": "markdown",
   "metadata": {},
   "source": [
    "challenge 2\n",
    "```\n",
    "      *\n",
    "    * *\n",
    "  * * * \n",
    "* * * *\n",
    "\n",
    "```"
   ]
  },
  {
   "cell_type": "code",
   "execution_count": 11,
   "metadata": {},
   "outputs": [
    {
     "name": "stdout",
     "output_type": "stream",
     "text": [
      "      * \n",
      "    * * \n",
      "  * * * \n",
      "* * * * \n"
     ]
    }
   ],
   "source": [
    "# Number of rows\n",
    "rows = 4\n",
    "# loop through each row\n",
    "for i in range(0, rows):\n",
    "    for j in range(rows -i -1): # add spaces before each star in eac row\n",
    "        print(\" \", end=\" \")\n",
    "\n",
    "    for k in range(0, i+1):\n",
    "        print(\"*\", end=\" \")\n",
    "\n",
    "    print() # move to the next line after each row\n",
    "\n",
    "\n"
   ]
  },
  {
   "cell_type": "markdown",
   "metadata": {},
   "source": [
    "#### Break and Continue"
   ]
  },
  {
   "cell_type": "markdown",
   "metadata": {},
   "source": [
    "* They are control fow statements (used to control the flow of loops.)\n",
    "* **Break** - used to immediately exit a loop when a certain condition is met.\n",
    " When the programme enconters the ```break``` statement, it terminates the loop and continues to execute the code after the loop. It is often used when a specific condition is satisfied, and there is no need to condition looping further. "
   ]
  },
  {
   "cell_type": "code",
   "execution_count": 14,
   "metadata": {},
   "outputs": [
    {
     "name": "stdout",
     "output_type": "stream",
     "text": [
      "0\n",
      "1\n",
      "2\n",
      "3\n",
      "4\n"
     ]
    }
   ],
   "source": [
    "# example\n",
    "for i in range(10):\n",
    "    if i == 5:\n",
    "        break # exit the loop when i becomes 5\n",
    "    print(i)"
   ]
  },
  {
   "cell_type": "markdown",
   "metadata": {},
   "source": [
    "* **Continue** - Used to skip the remianing code in the current iteration of a loop and move to the next iteration. Useful when you want to skip certain steps on conditions within a loop without exiting the loop entirely. "
   ]
  },
  {
   "cell_type": "code",
   "execution_count": 15,
   "metadata": {},
   "outputs": [
    {
     "name": "stdout",
     "output_type": "stream",
     "text": [
      "['Mahamri', 'Mbaazi', 'Tea']\n"
     ]
    }
   ],
   "source": [
    "# food list\n",
    "breakfast = [\"Eggs\", \"Mahamri\", \"Mbaazi\", \"Vucheni\", \"Tea\"]\n",
    "\n",
    "eugene_list = []\n",
    "\n",
    "for food in breakfast:\n",
    "    if (food == \"Eggs\"):\n",
    "        continue\n",
    "    elif (food == \"Vucheni\"):\n",
    "        continue\n",
    "    else:\n",
    "        eugene_list.append(food)\n",
    "\n",
    "print(eugene_list)"
   ]
  },
  {
   "cell_type": "code",
   "execution_count": 23,
   "metadata": {},
   "outputs": [
    {
     "name": "stdout",
     "output_type": "stream",
     "text": [
      "0\n",
      "1\n",
      "2\n",
      "3\n",
      "4\n",
      "6\n",
      "7\n",
      "8\n",
      "9\n"
     ]
    }
   ],
   "source": [
    "# example 2\n",
    "for i in range(10):\n",
    "    if (i == 5):\n",
    "     continue # skip when value of i is 5\n",
    "    print(i)"
   ]
  },
  {
   "cell_type": "markdown",
   "metadata": {},
   "source": [
    "### While Loops\n",
    "\n",
    "* Allow you to repeat a block of code as long as a certain condition remains `True`.\n",
    "* Basic Syntax \n",
    "```\n",
    "while condition:\n",
    "    # code block \n",
    "    # to execute\n",
    "```\n",
    "\n",
    "* It's crucial to make sure that the condition eventually becomes `False`; Reason - otherwise you will end up with an infinite loop, cause your program to run indefinitely(Well till your ram crashes)"
   ]
  },
  {
   "cell_type": "markdown",
   "metadata": {},
   "source": [
    " #### While Loop key concepts\n",
    "\n",
    " 1. **Initialisation** - Initialise any variables that are going to be used in the loop condition before entering the loop.\n",
    " 2. **Update our condition** - Inside the loop make sure that the condition is modified in a way that leads to it eventually becoming `False`. Otherwise, you will create an infinite loop."
   ]
  },
  {
   "cell_type": "code",
   "execution_count": 24,
   "metadata": {},
   "outputs": [
    {
     "name": "stdout",
     "output_type": "stream",
     "text": [
      "0\n",
      "1\n",
      "2\n",
      "3\n",
      "4\n",
      "5\n"
     ]
    }
   ],
   "source": [
    "# example - while loop to print numbers 1 to 5\n",
    "\n",
    "count = 0    # initialisation\n",
    "while (count <=5): # while loop with condition\n",
    "    print(count)\n",
    "    count += 1     # updating our condition after every iteration "
   ]
  },
  {
   "cell_type": "code",
   "execution_count": 26,
   "metadata": {},
   "outputs": [
    {
     "name": "stdout",
     "output_type": "stream",
     "text": [
      "apple\n",
      "banana\n"
     ]
    }
   ],
   "source": [
    "# example 2\n",
    "fruits = [\"apple\", \"banana\", \"cherry\", \"mango\", \"paw paw\"]\n",
    "\n",
    "# repitition in displaying values of the list\n",
    "print(fruits[0])\n",
    "print(fruits[1])"
   ]
  },
  {
   "cell_type": "code",
   "execution_count": 38,
   "metadata": {},
   "outputs": [
    {
     "name": "stdout",
     "output_type": "stream",
     "text": [
      "apple\n",
      "banana\n",
      "cherry\n",
      "mango\n",
      "paw paw\n"
     ]
    }
   ],
   "source": [
    "# print everything in the list\n",
    "index = 0\n",
    "\n",
    "while (index < 5):\n",
    "    print(fruits[index])\n",
    "    index += 1 # updating the condition\n"
   ]
  },
  {
   "cell_type": "code",
   "execution_count": 43,
   "metadata": {},
   "outputs": [
    {
     "name": "stdout",
     "output_type": "stream",
     "text": [
      "1 * 9 = 9\n",
      "2 * 9 = 18\n",
      "3 * 9 = 27\n",
      "4 * 9 = 36\n",
      "5 * 9 = 45\n",
      "6 * 9 = 54\n",
      "7 * 9 = 63\n",
      "8 * 9 = 72\n",
      "9 * 9 = 81\n",
      "10 * 9 = 90\n"
     ]
    }
   ],
   "source": [
    "# example 3 - Multiplication table of 9\n",
    "multiplier = 1\n",
    "\n",
    "while (multiplier <= 10):\n",
    "    product = multiplier * 9\n",
    "    print(f\"{multiplier} * 9 = {product}\")\n",
    "          \n",
    "    multiplier +=1    # updating condition\n",
    "\n",
    "\n"
   ]
  },
  {
   "cell_type": "code",
   "execution_count": 49,
   "metadata": {},
   "outputs": [
    {
     "name": "stdout",
     "output_type": "stream",
     "text": [
      "* \n",
      "* * \n",
      "* * * \n",
      "* * * * \n",
      "* * * * * \n"
     ]
    }
   ],
   "source": [
    "# nested loop\n",
    "\n",
    "rows = 5 # initialise\n",
    "i = 0\n",
    "\n",
    "while (i < rows):   # condition for outer loop\n",
    "    j = 0           # initialise the loop\n",
    "    while j <= i:   # condition for inner loop\n",
    "        print(\"*\", end=\" \") \n",
    "        j += 1      # update inner loop condition\n",
    "    print()\n",
    "    i += 1          # update outer loop condition"
   ]
  },
  {
   "cell_type": "markdown",
   "metadata": {},
   "source": []
  }
 ],
 "metadata": {
  "kernelspec": {
   "display_name": "base",
   "language": "python",
   "name": "python3"
  },
  "language_info": {
   "codemirror_mode": {
    "name": "ipython",
    "version": 3
   },
   "file_extension": ".py",
   "mimetype": "text/x-python",
   "name": "python",
   "nbconvert_exporter": "python",
   "pygments_lexer": "ipython3",
   "version": "3.11.3"
  },
  "orig_nbformat": 4
 },
 "nbformat": 4,
 "nbformat_minor": 2
}
