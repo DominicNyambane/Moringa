{
 "cells": [
  {
   "cell_type": "markdown",
   "metadata": {},
   "source": [
    "## Objectives\n",
    "\n",
    "* Understand the concept\n",
    "* Demonstrate the types of loops\n",
    "* Discuss the syntax\n",
    "* Understand the concept of loop control\n",
    "* Discuss iteration\n",
    "* Discuss nested loops\n",
    "* Enhancing loop functionality"
   ]
  },
  {
   "cell_type": "markdown",
   "metadata": {},
   "source": [
    "## Introduction to repitition\n",
    "\n",
    "* Repitition is a fundamental concept in programming that involves performing the same set of instructions multiple times\n",
    "* Used to automate tasks that require repeated execution of code e.g *MPESA menu*\n",
    "* Loops a key mechanism in programming to achieve this reptition efficiently"
   ]
  },
  {
   "cell_type": "code",
   "execution_count": 1,
   "metadata": {},
   "outputs": [
    {
     "name": "stdout",
     "output_type": "stream",
     "text": [
      "1\n",
      "2\n",
      "3\n"
     ]
    }
   ],
   "source": [
    "# consider a scenario counting 1 to 10\n",
    "print(1)\n",
    "print(2)\n",
    "print(3)"
   ]
  },
  {
   "cell_type": "code",
   "execution_count": 2,
   "metadata": {},
   "outputs": [
    {
     "name": "stdout",
     "output_type": "stream",
     "text": [
      "1\n",
      "2\n",
      "3\n",
      "4\n",
      "5\n",
      "6\n",
      "7\n",
      "8\n",
      "9\n"
     ]
    }
   ],
   "source": [
    "# programming loops automate such repetitive tasks\n",
    "for num in range(1, 10):\n",
    "    print(num)"
   ]
  },
  {
   "cell_type": "code",
   "execution_count": 11,
   "metadata": {},
   "outputs": [
    {
     "name": "stdout",
     "output_type": "stream",
     "text": [
      "Number: 0\n",
      "Number: 1\n",
      "Number: 2\n",
      "Number: 3\n",
      "Number: 4\n"
     ]
    }
   ],
   "source": [
    "# use while loops\n",
    "count = 0\n",
    "\n",
    "while (count < 5):\n",
    "    print(\"Number:\", count)\n",
    "    count += 1 # what does this code do?"
   ]
  },
  {
   "cell_type": "markdown",
   "metadata": {},
   "source": [
    "## What is a loop?\n",
    "* A loop is a programming construct that enables the repeated execution of a specific block of code(*indented code block*).\n",
    "* Loops are used when you want to automated a task that needs to be performed multiple times.\n",
    "* They control the flow of the programm, allowing certain code to be executed immediately until a **condition is met**.\n"
   ]
  },
  {
   "cell_type": "code",
   "execution_count": 13,
   "metadata": {},
   "outputs": [
    {
     "name": "stdout",
     "output_type": "stream",
     "text": [
      "1\n",
      "2\n",
      "3\n",
      "4\n",
      "5\n",
      "6\n",
      "7\n",
      "8\n",
      "9\n"
     ]
    }
   ],
   "source": [
    "# code goes here\n",
    "# list of numbers\n",
    "numbers = [1, 2, 3, 4, 5, 6, 7, 8, 9]\n",
    "\n",
    "even_numbers = []\n",
    "\n",
    "for num in numbers:\n",
    "    print(num)"
   ]
  },
  {
   "cell_type": "code",
   "execution_count": 18,
   "metadata": {},
   "outputs": [
    {
     "name": "stdout",
     "output_type": "stream",
     "text": [
      "[1, 2, 4, 6, 8]\n"
     ]
    }
   ],
   "source": [
    "# for fun\n",
    "# empty list to store even numbers\n",
    "even_numbers = [1]\n",
    "\n",
    "# looping through the numbers list and assigning every number as num\n",
    "for num in numbers:\n",
    "    # Checking if the number is even\n",
    "    if (num % 2 == 0):\n",
    "        # if condition is true\n",
    "        even_numbers.append(num)\n",
    "\n",
    "print(even_numbers)\n"
   ]
  },
  {
   "cell_type": "code",
   "execution_count": 19,
   "metadata": {},
   "outputs": [
    {
     "name": "stdout",
     "output_type": "stream",
     "text": [
      "55\n"
     ]
    }
   ],
   "source": [
    "# sum the numbers between 1 and 10\n",
    "\n",
    "sum = 1 + 2 + 3 + 4 + 5 + 6 + 7 + 8 + 9 + 10\n",
    "print(sum)"
   ]
  },
  {
   "cell_type": "code",
   "execution_count": 20,
   "metadata": {},
   "outputs": [
    {
     "name": "stdout",
     "output_type": "stream",
     "text": [
      "55\n"
     ]
    }
   ],
   "source": [
    "# use a loop to find the sum of numbers between 1 and 10\n",
    "\n",
    "# declare a varible to store the sum\n",
    "\n",
    "sum = 0\n",
    "\n",
    "for num in range(1, 11): # range (1, 11) means all the numbers between 1 and 11 excluding 11 \n",
    "    # increment the value of sum by the value of num\n",
    "    sum += num\n",
    "print(sum)"
   ]
  },
  {
   "cell_type": "markdown",
   "metadata": {},
   "source": [
    "## Control Flow \n",
    "* Loops influence the order in which instructions are executed \n",
    "* When a loop is encountered, the programme enters a loop body, executing the contained conde\n",
    "* syntax\n",
    "\n",
    "```\n",
    "loop made of a condition:\n",
    "    contained block of \n",
    "    code to be executed \n",
    "    when condition in True/met\n",
    "\n",
    "program exits the loop\n",
    "```\n",
    "* At each iteration, the programm checks the loop condition, if the condition remains **True**, the loop body is executed again. \n",
    "* If it becomes **False**, the program exits the loop\n",
    "\n",
    "* **Iteration** - Refers to each cycle of a loop."
   ]
  },
  {
   "cell_type": "code",
   "execution_count": 6,
   "metadata": {},
   "outputs": [
    {
     "name": "stdout",
     "output_type": "stream",
     "text": [
      "This is an example of a loop\n",
      "We are demonstrating while loop\n",
      "Countdown value: 5!!\n",
      "Countdown value: 4!!\n",
      "Countdown value: 3!!\n",
      "Countdown value: 2!!\n",
      "Countdown value: 1!!\n",
      "Exit loop!! and program continues\n"
     ]
    }
   ],
   "source": [
    "#     of control flow\n",
    "# assume the print statement below are blocks\n",
    "print(\"This is an example of a loop\")\n",
    "print(\"We are demonstrating while loop\")\n",
    "\n",
    "# loop to simulate a count down\n",
    "countdown = 5\n",
    "\n",
    "# our program meets a loop block >> while loop\n",
    "while (countdown > 0):\n",
    "    # code to execute when the condition is true\n",
    "    print(f\"Countdown value: {countdown}!!\")\n",
    "    countdown -= 1\n",
    "# propgram exits the loop when the condition is no longer met\n",
    "print(\"Exit loop!! and program continues\")"
   ]
  },
  {
   "cell_type": "markdown",
   "metadata": {},
   "source": [
    "# Types of loops\n",
    "\n",
    "* There two main types of loops in python:\n",
    ">> ```for ``` and ```while```\n",
    "* Type of loop you choose depends on whether you know the number of iterations in advance \n",
    "ot if it depends on a condition\n",
    "* When you know the number of iterations use while loop, when you don't, use the a for loop"
   ]
  },
  {
   "cell_type": "markdown",
   "metadata": {},
   "source": [
    "### For loop\n",
    "\n",
    "* Basic syntax\n",
    "```\n",
    "for item in sequence:\n",
    "    # code to be executed for each item\n",
    "    # ***\n",
    "```\n",
    "\n",
    "* 'for': Keyword that signals the start of a 'for' loop\n",
    "* 'item': Is a variable that represents the current item in the sequence during each iteration of the loop.\n",
    "* 'in' : A keyword used to specify that you are iterating *in* the given sequence.\n",
    "* 'sequence' : Collection of items that you want to iterate over (e.g, list, string, tuple, or range)\n",
    "* ':' : Signifies the start of the indented code block that will be executed in each iteration of the loop.\n",
    "\n",
    "Inside the indented code block, you place the actions or operations that you want to perform on each item in the sequence. The loop will automatically iterate through the entire sequence, executing the code block for each item. \n",
    "\n"
   ]
  },
  {
   "cell_type": "code",
   "execution_count": 5,
   "metadata": {},
   "outputs": [
    {
     "name": "stdout",
     "output_type": "stream",
     "text": [
      "Kisumu\n",
      "Kisii\n",
      "Nyamira\n",
      "Homa Bay\n",
      "Migori\n"
     ]
    }
   ],
   "source": [
    "# code demonstration\n",
    "# list of high courts in Kenya\n",
    "high_courts = ['Kisumu', 'Kisii', 'Nyamira', 'Homa Bay', 'Migori', 'Kitale', 'Mandera']\n",
    "\n",
    "for court in high_courts:\n",
    "    # code block to execute for each item\n",
    "    print(court)\n",
    "    if (court == 'Migori'):\n",
    "        break;"
   ]
  },
  {
   "cell_type": "markdown",
   "metadata": {},
   "source": [
    "###  Sequence types\n",
    "* Refers to data structures that hold a collection of elements, where each element is accessible by an index or a key.c\n",
    "* These elements are ordered, meaning they have a specific poisiton within the sequence.\n"
   ]
  },
  {
   "cell_type": "code",
   "execution_count": 7,
   "metadata": {},
   "outputs": [
    {
     "name": "stdout",
     "output_type": "stream",
     "text": [
      "['Kisumu', 'Kisii', 'Nyamira', 'Homa Bay', 'Migori', 'Kitale', 'Mandera']\n",
      "Homa Bay\n"
     ]
    }
   ],
   "source": [
    "# list \n",
    "print(high_courts)\n",
    "\n",
    "# accessing elements/items in a list by index\n",
    "print(high_courts[3])"
   ]
  },
  {
   "cell_type": "code",
   "execution_count": 10,
   "metadata": {},
   "outputs": [
    {
     "name": "stdout",
     "output_type": "stream",
     "text": [
      "kisumu\n",
      "kisii\n",
      "nyamira\n",
      "homa bay\n",
      "migori\n",
      "kitale\n",
      "mandera\n"
     ]
    }
   ],
   "source": [
    "# looping through list court\n",
    "for court in high_courts:\n",
    "    #c code to execute\n",
    "    lower_case = court.lower()\n",
    "    print(lower_case)"
   ]
  },
  {
   "cell_type": "code",
   "execution_count": 12,
   "metadata": {},
   "outputs": [
    {
     "name": "stdout",
     "output_type": "stream",
     "text": [
      "('Kocheli', 'Solo', 'Nyambane', 'Yusuf')\n"
     ]
    }
   ],
   "source": [
    "# tuple - is similar to lists, but they are immutable, meaning\n",
    "# thier contents cannot be changed after creation\n",
    "# syntax tuple_name = (item1, item2,...)\n",
    "\n",
    "noise_makers = (\"Kocheli\", \"Solo\", \"Nyambane\", \"Yusuf\")\n",
    "print(noise_makers)"
   ]
  },
  {
   "cell_type": "code",
   "execution_count": 14,
   "metadata": {},
   "outputs": [
    {
     "name": "stdout",
     "output_type": "stream",
     "text": [
      "Kocheli\n",
      "Solo\n",
      "Nyambane\n",
      "Yusuf\n"
     ]
    }
   ],
   "source": [
    "# loop through the items in a tuple\n",
    "for noise_maker in noise_makers:\n",
    "    # code to be executed\n",
    "    print(noise_maker)"
   ]
  }
 ],
 "metadata": {
  "kernelspec": {
   "display_name": "base",
   "language": "python",
   "name": "python3"
  },
  "language_info": {
   "codemirror_mode": {
    "name": "ipython",
    "version": 3
   },
   "file_extension": ".py",
   "mimetype": "text/x-python",
   "name": "python",
   "nbconvert_exporter": "python",
   "pygments_lexer": "ipython3",
   "version": "3.11.3"
  },
  "orig_nbformat": 4
 },
 "nbformat": 4,
 "nbformat_minor": 2
}
