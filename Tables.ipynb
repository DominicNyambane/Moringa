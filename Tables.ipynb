{
 "cells": [
  {
   "cell_type": "markdown",
   "metadata": {},
   "source": [
    "# Premier League Table\n"
   ]
  },
  {
   "cell_type": "markdown",
   "metadata": {},
   "source": [
    "| |Team|W|D|L|\n",
    "|---|------|----|----|----|\n",
    "| 1 | Kabras| 3 | 0 | 0 | \n",
    "| 2 | KCB|1 | 1 | 1 | \n",
    "| 1 | Queens| 0 | 1 | 2 | \n",
    "| 1 | Strathmore| 0 | 1 | 2 | \n",
    "\n"
   ]
  }
 ],
 "metadata": {
  "language_info": {
   "name": "python"
  },
  "orig_nbformat": 4
 },
 "nbformat": 4,
 "nbformat_minor": 2
}
