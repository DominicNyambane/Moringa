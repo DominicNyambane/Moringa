{
 "cells": [
  {
   "cell_type": "markdown",
   "id": "50efb3ed-9ef7-426f-8a9e-736e48c77a28",
   "metadata": {},
   "source": [
    "# What are the different types of data issues?"
   ]
  },
  {
   "cell_type": "markdown",
   "id": "1bc4d986-d804-4792-9cfd-5404518b6e70",
   "metadata": {},
   "source": [
    "* Various types of data issues may occur in an organization when collecting data, combining multiple datasets, receiving data from clients, customers or other departments and inputting data. Some example data issues include;\n"
   ]
  },
  {
   "cell_type": "markdown",
   "id": "d34c519a-f685-411b-a4b0-65833a22917a",
   "metadata": {},
   "source": [
    "## Incomplete data"
   ]
  },
  {
   "cell_type": "markdown",
   "id": "b65df432-a91b-4ee4-84e1-d8ebd480eac9",
   "metadata": {},
   "source": [
    "* This is data with missing fields and rows that occurs when no data value is stored for an attribute in an observation. Missing data are a common occurrence and can have a significant effect on the insights that can be drawn from the data.\n"
   ]
  },
  {
   "cell_type": "markdown",
   "id": "278e29c7-5ea9-4c76-ac54-588ea7341ec2",
   "metadata": {},
   "source": [
    "## Duplicated entries"
   ]
  },
  {
   "cell_type": "markdown",
   "id": "3108504d-0f9c-4ab8-a9f2-7222b664b5be",
   "metadata": {},
   "source": [
    "* Duplicate data is any entry that inadvertently shares data with another entry in a Database, ie a complete carbon copy. Duplicate entries in a dataset are also a common occurrence.\n"
   ]
  },
  {
   "cell_type": "markdown",
   "id": "d624c705-614c-4b96-b06c-9d53492a5abf",
   "metadata": {},
   "source": [
    "## Invalid Data"
   ]
  },
  {
   "cell_type": "markdown",
   "id": "aaaaf4a3-1975-4a97-a12d-b5c9bc6b8188",
   "metadata": {},
   "source": [
    "* Data attributes are not conforming with the logical dataset mapping. This includes wrong data types and wrong data formats which in turn interferes with the analysis process. Remember the computer doesn’t understand 95% as a numerical representation but instead as a string.\n"
   ]
  },
  {
   "cell_type": "markdown",
   "id": "b7ee6cf1-03b8-4a3e-8f87-e4d12ddf285d",
   "metadata": {},
   "source": [
    "## Conflicting data"
   ]
  },
  {
   "cell_type": "markdown",
   "id": "fe11b84d-ed7e-421c-ae90-ef07ca1a0364",
   "metadata": {},
   "source": [
    "* Occurs when there are same records with different attributes ie there are deviations between data intended to capture the same real-world entity and can mislead any analysis done on it.\n"
   ]
  },
  {
   "cell_type": "markdown",
   "id": "7cb682f7-e185-434a-a069-4b8def6e75b1",
   "metadata": {},
   "source": [
    "## Import Python Libraries"
   ]
  },
  {
   "cell_type": "code",
   "execution_count": 191,
   "id": "ae26cab4-e97b-4918-bac4-59b9674eab73",
   "metadata": {},
   "outputs": [],
   "source": [
    "import pandas as pd\n",
    "import numpy as np\n",
    "\n",
    "import seaborn as sns\n",
    "import matplotlib.pyplot as plt"
   ]
  },
  {
   "cell_type": "markdown",
   "id": "b3b6d7c7-c8d6-444e-92fb-faf835761827",
   "metadata": {},
   "source": [
    "## Load the data "
   ]
  },
  {
   "cell_type": "code",
   "execution_count": 192,
   "id": "5e552f28-e367-44f9-aaa7-097990d3b96f",
   "metadata": {
    "tags": []
   },
   "outputs": [],
   "source": [
    "# index_col = 0 >> specify the first column as indexs\n",
    "data = pd.read_csv(\"Data/students_data.csv\", index_col = 0) "
   ]
  },
  {
   "cell_type": "markdown",
   "id": "d072bb49-a5a6-42c4-9f88-173d03763c21",
   "metadata": {},
   "source": [
    "## Understanding the Data"
   ]
  },
  {
   "cell_type": "code",
   "execution_count": 193,
   "id": "821f633a-10d9-449d-81bd-c072308b4180",
   "metadata": {
    "tags": []
   },
   "outputs": [
    {
     "data": {
      "text/html": [
       "<div>\n",
       "<style scoped>\n",
       "    .dataframe tbody tr th:only-of-type {\n",
       "        vertical-align: middle;\n",
       "    }\n",
       "\n",
       "    .dataframe tbody tr th {\n",
       "        vertical-align: top;\n",
       "    }\n",
       "\n",
       "    .dataframe thead th {\n",
       "        text-align: right;\n",
       "    }\n",
       "</style>\n",
       "<table border=\"1\" class=\"dataframe\">\n",
       "  <thead>\n",
       "    <tr style=\"text-align: right;\">\n",
       "      <th></th>\n",
       "      <th>names</th>\n",
       "      <th>admission number</th>\n",
       "      <th>house</th>\n",
       "      <th>balance</th>\n",
       "      <th>english</th>\n",
       "      <th>kiswahili</th>\n",
       "      <th>mathematics</th>\n",
       "      <th>science</th>\n",
       "      <th>sst/cre</th>\n",
       "      <th>Creative Arts</th>\n",
       "      <th>music</th>\n",
       "    </tr>\n",
       "  </thead>\n",
       "  <tbody>\n",
       "    <tr>\n",
       "      <th>0</th>\n",
       "      <td>JERIEL NDEDA, OBURA</td>\n",
       "      <td>13259.0</td>\n",
       "      <td>NaN</td>\n",
       "      <td>NaN</td>\n",
       "      <td>81.0</td>\n",
       "      <td>39.0</td>\n",
       "      <td>50.0</td>\n",
       "      <td>30.0</td>\n",
       "      <td>59.0</td>\n",
       "      <td>99%</td>\n",
       "      <td>80%</td>\n",
       "    </tr>\n",
       "    <tr>\n",
       "      <th>1</th>\n",
       "      <td>MUKUHA TIMOTHY, KAMAU</td>\n",
       "      <td>13243.0</td>\n",
       "      <td>NaN</td>\n",
       "      <td>NaN</td>\n",
       "      <td>85.0</td>\n",
       "      <td>74.0</td>\n",
       "      <td>68.0</td>\n",
       "      <td>49.0</td>\n",
       "      <td>78.0</td>\n",
       "      <td>38%</td>\n",
       "      <td>86%</td>\n",
       "    </tr>\n",
       "    <tr>\n",
       "      <th>2</th>\n",
       "      <td>JOB, NGARA</td>\n",
       "      <td>13307.0</td>\n",
       "      <td>NaN</td>\n",
       "      <td>NaN</td>\n",
       "      <td>54.0</td>\n",
       "      <td>49.0</td>\n",
       "      <td>53.0</td>\n",
       "      <td>59.0</td>\n",
       "      <td>72.0</td>\n",
       "      <td>86%</td>\n",
       "      <td>62%</td>\n",
       "    </tr>\n",
       "    <tr>\n",
       "      <th>3</th>\n",
       "      <td>CHEGE DAVID, KAMAU</td>\n",
       "      <td>13258.0</td>\n",
       "      <td>NaN</td>\n",
       "      <td>NaN</td>\n",
       "      <td>71.0</td>\n",
       "      <td>97.0</td>\n",
       "      <td>92.0</td>\n",
       "      <td>41.0</td>\n",
       "      <td>81.0</td>\n",
       "      <td>77%</td>\n",
       "      <td>80%</td>\n",
       "    </tr>\n",
       "    <tr>\n",
       "      <th>4</th>\n",
       "      <td>RAMADHAN MUSA, TEPO</td>\n",
       "      <td>13363.0</td>\n",
       "      <td>NaN</td>\n",
       "      <td>NaN</td>\n",
       "      <td>40.0</td>\n",
       "      <td>84.0</td>\n",
       "      <td>74.0</td>\n",
       "      <td>82.0</td>\n",
       "      <td>89.0</td>\n",
       "      <td>64%</td>\n",
       "      <td>46%</td>\n",
       "    </tr>\n",
       "  </tbody>\n",
       "</table>\n",
       "</div>"
      ],
      "text/plain": [
       "                   names  admission number house balance  english  kiswahili  \\\n",
       "0    JERIEL NDEDA, OBURA           13259.0   NaN     NaN     81.0       39.0   \n",
       "1  MUKUHA TIMOTHY, KAMAU           13243.0   NaN     NaN     85.0       74.0   \n",
       "2             JOB, NGARA           13307.0   NaN     NaN     54.0       49.0   \n",
       "3     CHEGE DAVID, KAMAU           13258.0   NaN     NaN     71.0       97.0   \n",
       "4    RAMADHAN MUSA, TEPO           13363.0   NaN     NaN     40.0       84.0   \n",
       "\n",
       "   mathematics  science  sst/cre Creative Arts music  \n",
       "0         50.0     30.0     59.0           99%   80%  \n",
       "1         68.0     49.0     78.0           38%   86%  \n",
       "2         53.0     59.0     72.0           86%   62%  \n",
       "3         92.0     41.0     81.0           77%   80%  \n",
       "4         74.0     82.0     89.0           64%   46%  "
      ]
     },
     "execution_count": 193,
     "metadata": {},
     "output_type": "execute_result"
    }
   ],
   "source": [
    "# preview the first five rows \n",
    "data.head()"
   ]
  },
  {
   "cell_type": "markdown",
   "id": "ee58e1d8-c7a4-4c2d-b899-5c25b13b8906",
   "metadata": {
    "tags": []
   },
   "source": [
    "data.tail()"
   ]
  },
  {
   "cell_type": "code",
   "execution_count": 194,
   "id": "d7a6c174-714f-4d3d-b735-d85e47bfb32b",
   "metadata": {
    "tags": []
   },
   "outputs": [
    {
     "data": {
      "text/plain": [
       "Index(['names', 'admission number', 'house', 'balance', 'english', 'kiswahili',\n",
       "       'mathematics', 'science', 'sst/cre', 'Creative Arts', 'music'],\n",
       "      dtype='object')"
      ]
     },
     "execution_count": 194,
     "metadata": {},
     "output_type": "execute_result"
    }
   ],
   "source": [
    "# column names \n",
    "data.columns"
   ]
  },
  {
   "cell_type": "code",
   "execution_count": 195,
   "id": "87db4d51-87a9-413f-84e4-f548f108d02d",
   "metadata": {
    "tags": []
   },
   "outputs": [
    {
     "data": {
      "text/plain": [
       "(147, 11)"
      ]
     },
     "execution_count": 195,
     "metadata": {},
     "output_type": "execute_result"
    }
   ],
   "source": [
    "# shape \n",
    "data.shape"
   ]
  },
  {
   "cell_type": "code",
   "execution_count": 196,
   "id": "bb6d5484-d784-4551-adcb-8b885c5eff9b",
   "metadata": {
    "tags": []
   },
   "outputs": [
    {
     "name": "stdout",
     "output_type": "stream",
     "text": [
      "<class 'pandas.core.frame.DataFrame'>\n",
      "Int64Index: 147 entries, 0 to 146\n",
      "Data columns (total 11 columns):\n",
      " #   Column            Non-Null Count  Dtype  \n",
      "---  ------            --------------  -----  \n",
      " 0   names             147 non-null    object \n",
      " 1   admission number  124 non-null    float64\n",
      " 2   house             26 non-null     object \n",
      " 3   balance           58 non-null     object \n",
      " 4   english           121 non-null    float64\n",
      " 5   kiswahili         119 non-null    float64\n",
      " 6   mathematics       130 non-null    float64\n",
      " 7   science           117 non-null    float64\n",
      " 8   sst/cre           132 non-null    float64\n",
      " 9   Creative Arts     143 non-null    object \n",
      " 10  music             147 non-null    object \n",
      "dtypes: float64(6), object(5)\n",
      "memory usage: 13.8+ KB\n"
     ]
    }
   ],
   "source": [
    "# overview of the data \n",
    "data.info()"
   ]
  },
  {
   "cell_type": "markdown",
   "id": "9b4ec263-d914-4cd3-8255-d71f939c3d20",
   "metadata": {
    "tags": []
   },
   "source": [
    "## Duplicates and Unwanted Observations"
   ]
  },
  {
   "cell_type": "code",
   "execution_count": 197,
   "id": "21c366d1-9a73-42cd-ba2c-510712fdb0be",
   "metadata": {
    "tags": []
   },
   "outputs": [
    {
     "data": {
      "text/plain": [
       "True"
      ]
     },
     "execution_count": 197,
     "metadata": {},
     "output_type": "execute_result"
    }
   ],
   "source": [
    "# duplicates \n",
    "data.duplicated().any()"
   ]
  },
  {
   "cell_type": "code",
   "execution_count": 198,
   "id": "00f02cd1-4eb0-4771-9bbe-533bf1a508b0",
   "metadata": {
    "tags": []
   },
   "outputs": [
    {
     "name": "stdout",
     "output_type": "stream",
     "text": [
      "8\n"
     ]
    }
   ],
   "source": [
    "# variable to store number of duplicates\n",
    "no_true = 0\n",
    "\n",
    "\n",
    "# loop through a bool series, where True is duplicated and False in not duplicated \n",
    "for val in data.duplicated():\n",
    "    if (val == True):\n",
    "        # increment the number of True values by one upon finding a duplicate\n",
    "        no_true += 1\n",
    "\n",
    "print(no_true)\n",
    "# print(f\"{ np.round(((no_true/len(data)) * 100), 4) } %\")"
   ]
  },
  {
   "cell_type": "code",
   "execution_count": 199,
   "id": "be8fc271-ae58-43bb-970d-c239fbbb09a6",
   "metadata": {
    "tags": []
   },
   "outputs": [
    {
     "name": "stdout",
     "output_type": "stream",
     "text": [
      "0.05442176870748299\n"
     ]
    }
   ],
   "source": [
    "# Convert the number into a percentage \n",
    "percentage = no_true / len(data)\n",
    "print(percentage)"
   ]
  },
  {
   "cell_type": "code",
   "execution_count": 200,
   "id": "c4b2401a-3686-432c-9305-adcd0d1a902b",
   "metadata": {
    "tags": []
   },
   "outputs": [
    {
     "name": "stdout",
     "output_type": "stream",
     "text": [
      "5.442176870748299\n"
     ]
    }
   ],
   "source": [
    "# Converting to percentage\n",
    "conv_per = percentage * 100 \n",
    "print(conv_per)"
   ]
  },
  {
   "cell_type": "code",
   "execution_count": 201,
   "id": "634fdc86-60c8-41be-a429-7d6eaaf05c43",
   "metadata": {
    "tags": []
   },
   "outputs": [
    {
     "name": "stdout",
     "output_type": "stream",
     "text": [
      "5.4422\n"
     ]
    }
   ],
   "source": [
    "# round off\n",
    "round_off = np.round(conv_per, 4)\n",
    "print(round_off)"
   ]
  },
  {
   "cell_type": "code",
   "execution_count": 202,
   "id": "4312d328-b450-4b18-aae9-198b86959034",
   "metadata": {
    "tags": []
   },
   "outputs": [
    {
     "name": "stdout",
     "output_type": "stream",
     "text": [
      "5.4422% of the data is duplicated\n"
     ]
    }
   ],
   "source": [
    "# display the percentage \n",
    "print(f\"{round_off}% of the data is duplicated\")"
   ]
  },
  {
   "cell_type": "code",
   "execution_count": 203,
   "id": "a925de76-8a1b-4fe1-b42b-b85e51859bd3",
   "metadata": {
    "tags": []
   },
   "outputs": [],
   "source": [
    "data.drop_duplicates(subset = None, keep = \"first\", inplace = True)"
   ]
  },
  {
   "cell_type": "code",
   "execution_count": 204,
   "id": "9d91e4c3-8f0c-401a-8a3e-6eccc24f6435",
   "metadata": {
    "tags": []
   },
   "outputs": [],
   "source": [
    "# once you drop duplicates reset the index\n",
    "data.reset_index(drop = True, inplace = True)"
   ]
  },
  {
   "cell_type": "code",
   "execution_count": 205,
   "id": "44a9d5ab-10d6-4474-840e-868597b3d0a8",
   "metadata": {
    "tags": []
   },
   "outputs": [
    {
     "data": {
      "text/plain": [
       "False"
      ]
     },
     "execution_count": 205,
     "metadata": {},
     "output_type": "execute_result"
    }
   ],
   "source": [
    "data.duplicated().any()"
   ]
  },
  {
   "cell_type": "markdown",
   "id": "7494b4cd-1128-4cd6-bd03-e4431979c9cf",
   "metadata": {
    "tags": []
   },
   "source": [
    "#### `df.loc[]` and `df.iloc[]`\n",
    "\n",
    "* syntax \n",
    "```\n",
    "df.loc[row_label, column_label]\n",
    "df.iloc[row_index, column_index]\n",
    "```"
   ]
  },
  {
   "cell_type": "markdown",
   "id": "9f8ae735-a2a2-4c82-a76f-a963a9034898",
   "metadata": {},
   "source": [
    "* Syntax \n",
    "```\n",
    "df.loc[row_label, start_column_label: end_column_label]\n",
    "```\n",
    "\n",
    "Intend to access a single row \n",
    "\n",
    "```\n",
    "df.loc[row_label, : ] \n",
    "```\n",
    "\n",
    "leaving the column label as blank so that python uses the default values ie the **first** column to the **last**."
   ]
  },
  {
   "cell_type": "code",
   "execution_count": 206,
   "id": "2a2d3353-4236-4b8e-821a-d0780e6a957f",
   "metadata": {
    "tags": []
   },
   "outputs": [
    {
     "data": {
      "text/plain": [
       "0         13259.0\n",
       "1         13243.0\n",
       "2         13307.0\n",
       "3         13258.0\n",
       "4         13363.0\n",
       "          ...    \n",
       "134    13322634.0\n",
       "135     1932845.0\n",
       "136     1430232.0\n",
       "137         159.0\n",
       "138          87.0\n",
       "Name: admission number, Length: 139, dtype: float64"
      ]
     },
     "execution_count": 206,
     "metadata": {},
     "output_type": "execute_result"
    }
   ],
   "source": [
    "# accessing column admission number by name of the column\n",
    "data['admission number']"
   ]
  },
  {
   "cell_type": "code",
   "execution_count": 207,
   "id": "1b4288e2-e2ff-43dc-b575-947f2d29607e",
   "metadata": {
    "tags": []
   },
   "outputs": [
    {
     "data": {
      "text/plain": [
       "159.0"
      ]
     },
     "execution_count": 207,
     "metadata": {},
     "output_type": "execute_result"
    }
   ],
   "source": [
    "# accessing a value of a series by it index\n",
    "data['admission number'][137]"
   ]
  },
  {
   "cell_type": "code",
   "execution_count": 208,
   "id": "0cf28b17-faed-4bc1-8144-4681e15bf40b",
   "metadata": {
    "tags": []
   },
   "outputs": [
    {
     "name": "stdout",
     "output_type": "stream",
     "text": [
      "159.0\n"
     ]
    }
   ],
   "source": [
    "# single element \n",
    "value = data.loc[137, \"admission number\"]\n",
    "print(value)"
   ]
  },
  {
   "cell_type": "code",
   "execution_count": 209,
   "id": "77dd5000-213e-45cf-809f-b1de5ef30ebd",
   "metadata": {
    "tags": []
   },
   "outputs": [
    {
     "data": {
      "text/plain": [
       "159.0"
      ]
     },
     "execution_count": 209,
     "metadata": {},
     "output_type": "execute_result"
    }
   ],
   "source": [
    "value = data.iloc[137, 1]\n",
    "value"
   ]
  },
  {
   "cell_type": "code",
   "execution_count": 210,
   "id": "cf7c41b9-e183-4936-8445-490e95e3065d",
   "metadata": {
    "tags": []
   },
   "outputs": [
    {
     "data": {
      "text/plain": [
       "names               CHEGE, KAMAU\n",
       "admission number           159.0\n",
       "house                      Nandi\n",
       "balance                      NaN\n",
       "english                    508.0\n",
       "kiswahili                  409.0\n",
       "mathematics                 77.0\n",
       "science                     58.0\n",
       "sst/cre                     56.0\n",
       "Creative Arts                88%\n",
       "music                        84%\n",
       "Name: 137, dtype: object"
      ]
     },
     "execution_count": 210,
     "metadata": {},
     "output_type": "execute_result"
    }
   ],
   "source": [
    "# whole row \n",
    "data.loc[137, :]"
   ]
  },
  {
   "cell_type": "code",
   "execution_count": 211,
   "id": "e5410939-713f-4da6-8cf7-2d63757cab47",
   "metadata": {
    "tags": []
   },
   "outputs": [
    {
     "data": {
      "text/plain": [
       "names               CHEGE, KAMAU\n",
       "admission number           159.0\n",
       "house                      Nandi\n",
       "balance                      NaN\n",
       "english                    508.0\n",
       "kiswahili                  409.0\n",
       "mathematics                 77.0\n",
       "science                     58.0\n",
       "sst/cre                     56.0\n",
       "Creative Arts                88%\n",
       "music                        84%\n",
       "Name: 137, dtype: object"
      ]
     },
     "execution_count": 211,
     "metadata": {},
     "output_type": "execute_result"
    }
   ],
   "source": [
    "data.iloc[137, :]"
   ]
  },
  {
   "cell_type": "markdown",
   "id": "4c096080-b962-4e2b-b430-6974f2f62d4c",
   "metadata": {},
   "source": [
    "Selecting multiple rows \n",
    "\n",
    "```\n",
    "df.loc[start_row_label:end_row_label, start_column_label:end_column_label]\n",
    "```"
   ]
  },
  {
   "cell_type": "code",
   "execution_count": 212,
   "id": "0ed61487-9753-446d-bd59-e5365780bcd9",
   "metadata": {
    "tags": []
   },
   "outputs": [
    {
     "data": {
      "text/html": [
       "<div>\n",
       "<style scoped>\n",
       "    .dataframe tbody tr th:only-of-type {\n",
       "        vertical-align: middle;\n",
       "    }\n",
       "\n",
       "    .dataframe tbody tr th {\n",
       "        vertical-align: top;\n",
       "    }\n",
       "\n",
       "    .dataframe thead th {\n",
       "        text-align: right;\n",
       "    }\n",
       "</style>\n",
       "<table border=\"1\" class=\"dataframe\">\n",
       "  <thead>\n",
       "    <tr style=\"text-align: right;\">\n",
       "      <th></th>\n",
       "      <th>names</th>\n",
       "      <th>admission number</th>\n",
       "      <th>house</th>\n",
       "      <th>balance</th>\n",
       "      <th>english</th>\n",
       "      <th>kiswahili</th>\n",
       "      <th>mathematics</th>\n",
       "      <th>science</th>\n",
       "      <th>sst/cre</th>\n",
       "      <th>Creative Arts</th>\n",
       "      <th>music</th>\n",
       "    </tr>\n",
       "  </thead>\n",
       "  <tbody>\n",
       "    <tr>\n",
       "      <th>0</th>\n",
       "      <td>JERIEL NDEDA, OBURA</td>\n",
       "      <td>13259.0</td>\n",
       "      <td>NaN</td>\n",
       "      <td>NaN</td>\n",
       "      <td>81.0</td>\n",
       "      <td>39.0</td>\n",
       "      <td>50.0</td>\n",
       "      <td>30.0</td>\n",
       "      <td>59.0</td>\n",
       "      <td>99%</td>\n",
       "      <td>80%</td>\n",
       "    </tr>\n",
       "    <tr>\n",
       "      <th>1</th>\n",
       "      <td>MUKUHA TIMOTHY, KAMAU</td>\n",
       "      <td>13243.0</td>\n",
       "      <td>NaN</td>\n",
       "      <td>NaN</td>\n",
       "      <td>85.0</td>\n",
       "      <td>74.0</td>\n",
       "      <td>68.0</td>\n",
       "      <td>49.0</td>\n",
       "      <td>78.0</td>\n",
       "      <td>38%</td>\n",
       "      <td>86%</td>\n",
       "    </tr>\n",
       "    <tr>\n",
       "      <th>2</th>\n",
       "      <td>JOB, NGARA</td>\n",
       "      <td>13307.0</td>\n",
       "      <td>NaN</td>\n",
       "      <td>NaN</td>\n",
       "      <td>54.0</td>\n",
       "      <td>49.0</td>\n",
       "      <td>53.0</td>\n",
       "      <td>59.0</td>\n",
       "      <td>72.0</td>\n",
       "      <td>86%</td>\n",
       "      <td>62%</td>\n",
       "    </tr>\n",
       "    <tr>\n",
       "      <th>3</th>\n",
       "      <td>CHEGE DAVID, KAMAU</td>\n",
       "      <td>13258.0</td>\n",
       "      <td>NaN</td>\n",
       "      <td>NaN</td>\n",
       "      <td>71.0</td>\n",
       "      <td>97.0</td>\n",
       "      <td>92.0</td>\n",
       "      <td>41.0</td>\n",
       "      <td>81.0</td>\n",
       "      <td>77%</td>\n",
       "      <td>80%</td>\n",
       "    </tr>\n",
       "    <tr>\n",
       "      <th>4</th>\n",
       "      <td>RAMADHAN MUSA, TEPO</td>\n",
       "      <td>13363.0</td>\n",
       "      <td>NaN</td>\n",
       "      <td>NaN</td>\n",
       "      <td>40.0</td>\n",
       "      <td>84.0</td>\n",
       "      <td>74.0</td>\n",
       "      <td>82.0</td>\n",
       "      <td>89.0</td>\n",
       "      <td>64%</td>\n",
       "      <td>46%</td>\n",
       "    </tr>\n",
       "    <tr>\n",
       "      <th>5</th>\n",
       "      <td>MUENDO CICILY, MUTHEU</td>\n",
       "      <td>13283.0</td>\n",
       "      <td>NaN</td>\n",
       "      <td>NaN</td>\n",
       "      <td>43.0</td>\n",
       "      <td>60.0</td>\n",
       "      <td>48.0</td>\n",
       "      <td>94.0</td>\n",
       "      <td>97.0</td>\n",
       "      <td>69%</td>\n",
       "      <td>45%</td>\n",
       "    </tr>\n",
       "    <tr>\n",
       "      <th>6</th>\n",
       "      <td>IAN MWAI, TOYOTA</td>\n",
       "      <td>13233.0</td>\n",
       "      <td>NaN</td>\n",
       "      <td>23,204</td>\n",
       "      <td>82.0</td>\n",
       "      <td>68.0</td>\n",
       "      <td>91.0</td>\n",
       "      <td>69.0</td>\n",
       "      <td>81.0</td>\n",
       "      <td>44%</td>\n",
       "      <td>59%</td>\n",
       "    </tr>\n",
       "    <tr>\n",
       "      <th>7</th>\n",
       "      <td>PITA SHEKINAH, WISE</td>\n",
       "      <td>13389.0</td>\n",
       "      <td>NaN</td>\n",
       "      <td>NaN</td>\n",
       "      <td>61.0</td>\n",
       "      <td>81.0</td>\n",
       "      <td>53.0</td>\n",
       "      <td>73.0</td>\n",
       "      <td>83.0</td>\n",
       "      <td>64%</td>\n",
       "      <td>64%</td>\n",
       "    </tr>\n",
       "  </tbody>\n",
       "</table>\n",
       "</div>"
      ],
      "text/plain": [
       "                   names  admission number house balance  english  kiswahili  \\\n",
       "0    JERIEL NDEDA, OBURA           13259.0   NaN     NaN     81.0       39.0   \n",
       "1  MUKUHA TIMOTHY, KAMAU           13243.0   NaN     NaN     85.0       74.0   \n",
       "2             JOB, NGARA           13307.0   NaN     NaN     54.0       49.0   \n",
       "3     CHEGE DAVID, KAMAU           13258.0   NaN     NaN     71.0       97.0   \n",
       "4    RAMADHAN MUSA, TEPO           13363.0   NaN     NaN     40.0       84.0   \n",
       "5  MUENDO CICILY, MUTHEU           13283.0   NaN     NaN     43.0       60.0   \n",
       "6       IAN MWAI, TOYOTA           13233.0   NaN  23,204     82.0       68.0   \n",
       "7    PITA SHEKINAH, WISE           13389.0   NaN     NaN     61.0       81.0   \n",
       "\n",
       "   mathematics  science  sst/cre Creative Arts music  \n",
       "0         50.0     30.0     59.0           99%   80%  \n",
       "1         68.0     49.0     78.0           38%   86%  \n",
       "2         53.0     59.0     72.0           86%   62%  \n",
       "3         92.0     41.0     81.0           77%   80%  \n",
       "4         74.0     82.0     89.0           64%   46%  \n",
       "5         48.0     94.0     97.0           69%   45%  \n",
       "6         91.0     69.0     81.0           44%   59%  \n",
       "7         53.0     73.0     83.0           64%   64%  "
      ]
     },
     "execution_count": 212,
     "metadata": {},
     "output_type": "execute_result"
    }
   ],
   "source": [
    "# selecting multiple rows\n",
    "data.loc[0:7, :]"
   ]
  },
  {
   "cell_type": "code",
   "execution_count": 213,
   "id": "79da95ef-ccab-4aab-a619-67c0ce793e86",
   "metadata": {
    "tags": []
   },
   "outputs": [
    {
     "data": {
      "text/html": [
       "<div>\n",
       "<style scoped>\n",
       "    .dataframe tbody tr th:only-of-type {\n",
       "        vertical-align: middle;\n",
       "    }\n",
       "\n",
       "    .dataframe tbody tr th {\n",
       "        vertical-align: top;\n",
       "    }\n",
       "\n",
       "    .dataframe thead th {\n",
       "        text-align: right;\n",
       "    }\n",
       "</style>\n",
       "<table border=\"1\" class=\"dataframe\">\n",
       "  <thead>\n",
       "    <tr style=\"text-align: right;\">\n",
       "      <th></th>\n",
       "      <th>names</th>\n",
       "      <th>admission number</th>\n",
       "      <th>house</th>\n",
       "      <th>balance</th>\n",
       "      <th>english</th>\n",
       "      <th>kiswahili</th>\n",
       "      <th>mathematics</th>\n",
       "      <th>science</th>\n",
       "      <th>sst/cre</th>\n",
       "      <th>Creative Arts</th>\n",
       "      <th>music</th>\n",
       "    </tr>\n",
       "  </thead>\n",
       "  <tbody>\n",
       "    <tr>\n",
       "      <th>0</th>\n",
       "      <td>JERIEL NDEDA, OBURA</td>\n",
       "      <td>13259.0</td>\n",
       "      <td>NaN</td>\n",
       "      <td>NaN</td>\n",
       "      <td>81.0</td>\n",
       "      <td>39.0</td>\n",
       "      <td>50.0</td>\n",
       "      <td>30.0</td>\n",
       "      <td>59.0</td>\n",
       "      <td>99%</td>\n",
       "      <td>80%</td>\n",
       "    </tr>\n",
       "    <tr>\n",
       "      <th>1</th>\n",
       "      <td>MUKUHA TIMOTHY, KAMAU</td>\n",
       "      <td>13243.0</td>\n",
       "      <td>NaN</td>\n",
       "      <td>NaN</td>\n",
       "      <td>85.0</td>\n",
       "      <td>74.0</td>\n",
       "      <td>68.0</td>\n",
       "      <td>49.0</td>\n",
       "      <td>78.0</td>\n",
       "      <td>38%</td>\n",
       "      <td>86%</td>\n",
       "    </tr>\n",
       "    <tr>\n",
       "      <th>2</th>\n",
       "      <td>JOB, NGARA</td>\n",
       "      <td>13307.0</td>\n",
       "      <td>NaN</td>\n",
       "      <td>NaN</td>\n",
       "      <td>54.0</td>\n",
       "      <td>49.0</td>\n",
       "      <td>53.0</td>\n",
       "      <td>59.0</td>\n",
       "      <td>72.0</td>\n",
       "      <td>86%</td>\n",
       "      <td>62%</td>\n",
       "    </tr>\n",
       "    <tr>\n",
       "      <th>3</th>\n",
       "      <td>CHEGE DAVID, KAMAU</td>\n",
       "      <td>13258.0</td>\n",
       "      <td>NaN</td>\n",
       "      <td>NaN</td>\n",
       "      <td>71.0</td>\n",
       "      <td>97.0</td>\n",
       "      <td>92.0</td>\n",
       "      <td>41.0</td>\n",
       "      <td>81.0</td>\n",
       "      <td>77%</td>\n",
       "      <td>80%</td>\n",
       "    </tr>\n",
       "    <tr>\n",
       "      <th>4</th>\n",
       "      <td>RAMADHAN MUSA, TEPO</td>\n",
       "      <td>13363.0</td>\n",
       "      <td>NaN</td>\n",
       "      <td>NaN</td>\n",
       "      <td>40.0</td>\n",
       "      <td>84.0</td>\n",
       "      <td>74.0</td>\n",
       "      <td>82.0</td>\n",
       "      <td>89.0</td>\n",
       "      <td>64%</td>\n",
       "      <td>46%</td>\n",
       "    </tr>\n",
       "    <tr>\n",
       "      <th>5</th>\n",
       "      <td>MUENDO CICILY, MUTHEU</td>\n",
       "      <td>13283.0</td>\n",
       "      <td>NaN</td>\n",
       "      <td>NaN</td>\n",
       "      <td>43.0</td>\n",
       "      <td>60.0</td>\n",
       "      <td>48.0</td>\n",
       "      <td>94.0</td>\n",
       "      <td>97.0</td>\n",
       "      <td>69%</td>\n",
       "      <td>45%</td>\n",
       "    </tr>\n",
       "    <tr>\n",
       "      <th>6</th>\n",
       "      <td>IAN MWAI, TOYOTA</td>\n",
       "      <td>13233.0</td>\n",
       "      <td>NaN</td>\n",
       "      <td>23,204</td>\n",
       "      <td>82.0</td>\n",
       "      <td>68.0</td>\n",
       "      <td>91.0</td>\n",
       "      <td>69.0</td>\n",
       "      <td>81.0</td>\n",
       "      <td>44%</td>\n",
       "      <td>59%</td>\n",
       "    </tr>\n",
       "  </tbody>\n",
       "</table>\n",
       "</div>"
      ],
      "text/plain": [
       "                   names  admission number house balance  english  kiswahili  \\\n",
       "0    JERIEL NDEDA, OBURA           13259.0   NaN     NaN     81.0       39.0   \n",
       "1  MUKUHA TIMOTHY, KAMAU           13243.0   NaN     NaN     85.0       74.0   \n",
       "2             JOB, NGARA           13307.0   NaN     NaN     54.0       49.0   \n",
       "3     CHEGE DAVID, KAMAU           13258.0   NaN     NaN     71.0       97.0   \n",
       "4    RAMADHAN MUSA, TEPO           13363.0   NaN     NaN     40.0       84.0   \n",
       "5  MUENDO CICILY, MUTHEU           13283.0   NaN     NaN     43.0       60.0   \n",
       "6       IAN MWAI, TOYOTA           13233.0   NaN  23,204     82.0       68.0   \n",
       "\n",
       "   mathematics  science  sst/cre Creative Arts music  \n",
       "0         50.0     30.0     59.0           99%   80%  \n",
       "1         68.0     49.0     78.0           38%   86%  \n",
       "2         53.0     59.0     72.0           86%   62%  \n",
       "3         92.0     41.0     81.0           77%   80%  \n",
       "4         74.0     82.0     89.0           64%   46%  \n",
       "5         48.0     94.0     97.0           69%   45%  \n",
       "6         91.0     69.0     81.0           44%   59%  "
      ]
     },
     "execution_count": 213,
     "metadata": {},
     "output_type": "execute_result"
    }
   ],
   "source": [
    "data.iloc[0:7, :]"
   ]
  },
  {
   "cell_type": "code",
   "execution_count": 214,
   "id": "598db714-19e5-40f1-8cfd-8bb69d7e71ed",
   "metadata": {
    "tags": []
   },
   "outputs": [
    {
     "data": {
      "text/plain": [
       "0             NaN\n",
       "1             NaN\n",
       "2             NaN\n",
       "3             NaN\n",
       "4             NaN\n",
       "          ...    \n",
       "134         Elgon\n",
       "135    Cherangani\n",
       "136         Nandi\n",
       "137         Nandi\n",
       "138    Cherangani\n",
       "Name: house, Length: 139, dtype: object"
      ]
     },
     "execution_count": 214,
     "metadata": {},
     "output_type": "execute_result"
    }
   ],
   "source": [
    "# select a column\n",
    "\n",
    "data.loc[:, \"house\"]"
   ]
  },
  {
   "cell_type": "code",
   "execution_count": 215,
   "id": "c0cecf2b-e241-4c9b-a4aa-e4dc63cbe400",
   "metadata": {
    "tags": []
   },
   "outputs": [
    {
     "data": {
      "text/plain": [
       "0             NaN\n",
       "1             NaN\n",
       "2             NaN\n",
       "3             NaN\n",
       "4             NaN\n",
       "          ...    \n",
       "134         Elgon\n",
       "135    Cherangani\n",
       "136         Nandi\n",
       "137         Nandi\n",
       "138    Cherangani\n",
       "Name: house, Length: 139, dtype: object"
      ]
     },
     "execution_count": 215,
     "metadata": {},
     "output_type": "execute_result"
    }
   ],
   "source": [
    "data.iloc[:, 2]"
   ]
  },
  {
   "cell_type": "code",
   "execution_count": 216,
   "id": "9e91c2e6-9d9b-48a2-a954-c5ada00b2904",
   "metadata": {
    "tags": []
   },
   "outputs": [
    {
     "data": {
      "text/html": [
       "<div>\n",
       "<style scoped>\n",
       "    .dataframe tbody tr th:only-of-type {\n",
       "        vertical-align: middle;\n",
       "    }\n",
       "\n",
       "    .dataframe tbody tr th {\n",
       "        vertical-align: top;\n",
       "    }\n",
       "\n",
       "    .dataframe thead th {\n",
       "        text-align: right;\n",
       "    }\n",
       "</style>\n",
       "<table border=\"1\" class=\"dataframe\">\n",
       "  <thead>\n",
       "    <tr style=\"text-align: right;\">\n",
       "      <th></th>\n",
       "      <th>house</th>\n",
       "      <th>balance</th>\n",
       "      <th>english</th>\n",
       "      <th>kiswahili</th>\n",
       "      <th>mathematics</th>\n",
       "      <th>science</th>\n",
       "    </tr>\n",
       "  </thead>\n",
       "  <tbody>\n",
       "    <tr>\n",
       "      <th>2</th>\n",
       "      <td>NaN</td>\n",
       "      <td>NaN</td>\n",
       "      <td>54.0</td>\n",
       "      <td>49.0</td>\n",
       "      <td>53.0</td>\n",
       "      <td>59.0</td>\n",
       "    </tr>\n",
       "    <tr>\n",
       "      <th>3</th>\n",
       "      <td>NaN</td>\n",
       "      <td>NaN</td>\n",
       "      <td>71.0</td>\n",
       "      <td>97.0</td>\n",
       "      <td>92.0</td>\n",
       "      <td>41.0</td>\n",
       "    </tr>\n",
       "    <tr>\n",
       "      <th>4</th>\n",
       "      <td>NaN</td>\n",
       "      <td>NaN</td>\n",
       "      <td>40.0</td>\n",
       "      <td>84.0</td>\n",
       "      <td>74.0</td>\n",
       "      <td>82.0</td>\n",
       "    </tr>\n",
       "    <tr>\n",
       "      <th>5</th>\n",
       "      <td>NaN</td>\n",
       "      <td>NaN</td>\n",
       "      <td>43.0</td>\n",
       "      <td>60.0</td>\n",
       "      <td>48.0</td>\n",
       "      <td>94.0</td>\n",
       "    </tr>\n",
       "    <tr>\n",
       "      <th>6</th>\n",
       "      <td>NaN</td>\n",
       "      <td>23,204</td>\n",
       "      <td>82.0</td>\n",
       "      <td>68.0</td>\n",
       "      <td>91.0</td>\n",
       "      <td>69.0</td>\n",
       "    </tr>\n",
       "    <tr>\n",
       "      <th>7</th>\n",
       "      <td>NaN</td>\n",
       "      <td>NaN</td>\n",
       "      <td>61.0</td>\n",
       "      <td>81.0</td>\n",
       "      <td>53.0</td>\n",
       "      <td>73.0</td>\n",
       "    </tr>\n",
       "  </tbody>\n",
       "</table>\n",
       "</div>"
      ],
      "text/plain": [
       "  house balance  english  kiswahili  mathematics  science\n",
       "2   NaN     NaN     54.0       49.0         53.0     59.0\n",
       "3   NaN     NaN     71.0       97.0         92.0     41.0\n",
       "4   NaN     NaN     40.0       84.0         74.0     82.0\n",
       "5   NaN     NaN     43.0       60.0         48.0     94.0\n",
       "6   NaN  23,204     82.0       68.0         91.0     69.0\n",
       "7   NaN     NaN     61.0       81.0         53.0     73.0"
      ]
     },
     "execution_count": 216,
     "metadata": {},
     "output_type": "execute_result"
    }
   ],
   "source": [
    "# crearing a slice \n",
    "data.loc[2:7, \"house\":\"science\"]"
   ]
  },
  {
   "cell_type": "code",
   "execution_count": 217,
   "id": "b9500350-e50a-4551-978f-d1e4af0b30c8",
   "metadata": {
    "tags": []
   },
   "outputs": [
    {
     "data": {
      "text/html": [
       "<div>\n",
       "<style scoped>\n",
       "    .dataframe tbody tr th:only-of-type {\n",
       "        vertical-align: middle;\n",
       "    }\n",
       "\n",
       "    .dataframe tbody tr th {\n",
       "        vertical-align: top;\n",
       "    }\n",
       "\n",
       "    .dataframe thead th {\n",
       "        text-align: right;\n",
       "    }\n",
       "</style>\n",
       "<table border=\"1\" class=\"dataframe\">\n",
       "  <thead>\n",
       "    <tr style=\"text-align: right;\">\n",
       "      <th></th>\n",
       "      <th>house</th>\n",
       "      <th>balance</th>\n",
       "      <th>english</th>\n",
       "      <th>kiswahili</th>\n",
       "      <th>mathematics</th>\n",
       "      <th>science</th>\n",
       "    </tr>\n",
       "  </thead>\n",
       "  <tbody>\n",
       "    <tr>\n",
       "      <th>2</th>\n",
       "      <td>NaN</td>\n",
       "      <td>NaN</td>\n",
       "      <td>54.0</td>\n",
       "      <td>49.0</td>\n",
       "      <td>53.0</td>\n",
       "      <td>59.0</td>\n",
       "    </tr>\n",
       "    <tr>\n",
       "      <th>3</th>\n",
       "      <td>NaN</td>\n",
       "      <td>NaN</td>\n",
       "      <td>71.0</td>\n",
       "      <td>97.0</td>\n",
       "      <td>92.0</td>\n",
       "      <td>41.0</td>\n",
       "    </tr>\n",
       "    <tr>\n",
       "      <th>4</th>\n",
       "      <td>NaN</td>\n",
       "      <td>NaN</td>\n",
       "      <td>40.0</td>\n",
       "      <td>84.0</td>\n",
       "      <td>74.0</td>\n",
       "      <td>82.0</td>\n",
       "    </tr>\n",
       "    <tr>\n",
       "      <th>5</th>\n",
       "      <td>NaN</td>\n",
       "      <td>NaN</td>\n",
       "      <td>43.0</td>\n",
       "      <td>60.0</td>\n",
       "      <td>48.0</td>\n",
       "      <td>94.0</td>\n",
       "    </tr>\n",
       "    <tr>\n",
       "      <th>6</th>\n",
       "      <td>NaN</td>\n",
       "      <td>23,204</td>\n",
       "      <td>82.0</td>\n",
       "      <td>68.0</td>\n",
       "      <td>91.0</td>\n",
       "      <td>69.0</td>\n",
       "    </tr>\n",
       "    <tr>\n",
       "      <th>7</th>\n",
       "      <td>NaN</td>\n",
       "      <td>NaN</td>\n",
       "      <td>61.0</td>\n",
       "      <td>81.0</td>\n",
       "      <td>53.0</td>\n",
       "      <td>73.0</td>\n",
       "    </tr>\n",
       "  </tbody>\n",
       "</table>\n",
       "</div>"
      ],
      "text/plain": [
       "  house balance  english  kiswahili  mathematics  science\n",
       "2   NaN     NaN     54.0       49.0         53.0     59.0\n",
       "3   NaN     NaN     71.0       97.0         92.0     41.0\n",
       "4   NaN     NaN     40.0       84.0         74.0     82.0\n",
       "5   NaN     NaN     43.0       60.0         48.0     94.0\n",
       "6   NaN  23,204     82.0       68.0         91.0     69.0\n",
       "7   NaN     NaN     61.0       81.0         53.0     73.0"
      ]
     },
     "execution_count": 217,
     "metadata": {},
     "output_type": "execute_result"
    }
   ],
   "source": [
    "data.iloc[2:8, 2:8] "
   ]
  },
  {
   "cell_type": "markdown",
   "id": "f9cf3fa4-c4b2-4a81-9868-d0e94a9069a6",
   "metadata": {},
   "source": [
    "### Duplicates in Specific Columns\n",
    "\n",
    "* Unique identifiers should not be duplicated."
   ]
  },
  {
   "cell_type": "code",
   "execution_count": 218,
   "id": "bcc11f40-036d-497c-a0dc-2f4830a9a8c2",
   "metadata": {
    "tags": []
   },
   "outputs": [
    {
     "data": {
      "text/plain": [
       "(139, 11)"
      ]
     },
     "execution_count": 218,
     "metadata": {},
     "output_type": "execute_result"
    }
   ],
   "source": [
    "data.shape"
   ]
  },
  {
   "cell_type": "code",
   "execution_count": 219,
   "id": "55d1d170-f2a3-4b01-be84-8ce6d93226e1",
   "metadata": {
    "tags": []
   },
   "outputs": [
    {
     "data": {
      "text/plain": [
       "True"
      ]
     },
     "execution_count": 219,
     "metadata": {},
     "output_type": "execute_result"
    }
   ],
   "source": [
    "data.duplicated(subset = ['admission number']).any()"
   ]
  },
  {
   "cell_type": "code",
   "execution_count": 220,
   "id": "3e8131e4-0dc9-4de7-b781-421a64a209ff",
   "metadata": {
    "tags": []
   },
   "outputs": [
    {
     "data": {
      "text/plain": [
       "pandas.core.series.Series"
      ]
     },
     "execution_count": 220,
     "metadata": {},
     "output_type": "execute_result"
    }
   ],
   "source": [
    "admission_col = data.duplicated(subset = ['admission number'])\n",
    "type(admission_col)"
   ]
  },
  {
   "cell_type": "code",
   "execution_count": 221,
   "id": "b945278d-3098-40ce-8cad-5b56596ed68f",
   "metadata": {
    "tags": []
   },
   "outputs": [
    {
     "name": "stdout",
     "output_type": "stream",
     "text": [
      "47\n"
     ]
    }
   ],
   "source": [
    "# set value of True as zero / variable to store number of True\n",
    "# True indicate Duplicated Admission Number \n",
    "no_true = 0\n",
    "\n",
    "# looping through the series\n",
    "# Series contains Bool ie True and False \n",
    "# True means the value has been dupicated \n",
    "# False means the value is unique\n",
    "for val in admission_col:\n",
    "    if (val == True):\n",
    "        no_true += 1\n",
    "        \n",
    "print(no_true)"
   ]
  },
  {
   "cell_type": "code",
   "execution_count": 222,
   "id": "7b137555-ec3f-40bf-ae4c-ffea4fbddb21",
   "metadata": {
    "tags": []
   },
   "outputs": [
    {
     "name": "stdout",
     "output_type": "stream",
     "text": [
      "[12, 16, 28, 37, 43, 44, 50, 52, 61, 63, 66, 70, 72, 74, 75, 78, 81, 82, 90, 91, 93, 94, 95, 100, 102, 112, 113, 114, 115, 116, 117, 118, 119, 120, 121, 122, 123, 124, 125, 126, 127, 128, 129, 130, 131, 132, 133]\n"
     ]
    }
   ],
   "source": [
    "shared_admission_index = []\n",
    "\n",
    "for index, val in enumerate(admission_col):\n",
    "    if (val == True):\n",
    "        shared_admission_index.append(index)\n",
    "        \n",
    "print(shared_admission_index)"
   ]
  },
  {
   "cell_type": "code",
   "execution_count": 223,
   "id": "36bbe718-2959-41c7-863b-9a6737d0e34a",
   "metadata": {
    "tags": []
   },
   "outputs": [
    {
     "data": {
      "text/plain": [
       "names               ADANGA, JAMES\n",
       "admission number          13383.0\n",
       "house                         NaN\n",
       "balance                       NaN\n",
       "english                      61.0\n",
       "kiswahili                    59.0\n",
       "mathematics                  95.0\n",
       "science                      79.0\n",
       "sst/cre                      78.0\n",
       "Creative Arts                 80%\n",
       "music                         82%\n",
       "Name: 12, dtype: object"
      ]
     },
     "execution_count": 223,
     "metadata": {},
     "output_type": "execute_result"
    }
   ],
   "source": [
    "# access a single row \n",
    "data.loc[12, :]"
   ]
  },
  {
   "cell_type": "code",
   "execution_count": 224,
   "id": "536bc06b-d8a4-4017-93ad-ef1750bce54f",
   "metadata": {
    "tags": []
   },
   "outputs": [
    {
     "data": {
      "text/html": [
       "<div>\n",
       "<style scoped>\n",
       "    .dataframe tbody tr th:only-of-type {\n",
       "        vertical-align: middle;\n",
       "    }\n",
       "\n",
       "    .dataframe tbody tr th {\n",
       "        vertical-align: top;\n",
       "    }\n",
       "\n",
       "    .dataframe thead th {\n",
       "        text-align: right;\n",
       "    }\n",
       "</style>\n",
       "<table border=\"1\" class=\"dataframe\">\n",
       "  <thead>\n",
       "    <tr style=\"text-align: right;\">\n",
       "      <th></th>\n",
       "      <th>names</th>\n",
       "      <th>admission number</th>\n",
       "      <th>house</th>\n",
       "      <th>balance</th>\n",
       "      <th>english</th>\n",
       "      <th>kiswahili</th>\n",
       "      <th>mathematics</th>\n",
       "      <th>science</th>\n",
       "      <th>sst/cre</th>\n",
       "      <th>Creative Arts</th>\n",
       "      <th>music</th>\n",
       "    </tr>\n",
       "  </thead>\n",
       "  <tbody>\n",
       "    <tr>\n",
       "      <th>11</th>\n",
       "      <td>PRETIE, ARIONA</td>\n",
       "      <td>13383.0</td>\n",
       "      <td>NaN</td>\n",
       "      <td>8,814</td>\n",
       "      <td>82.0</td>\n",
       "      <td>30.0</td>\n",
       "      <td>79.0</td>\n",
       "      <td>67.0</td>\n",
       "      <td>98.0</td>\n",
       "      <td>62%</td>\n",
       "      <td>79%</td>\n",
       "    </tr>\n",
       "    <tr>\n",
       "      <th>12</th>\n",
       "      <td>ADANGA, JAMES</td>\n",
       "      <td>13383.0</td>\n",
       "      <td>NaN</td>\n",
       "      <td>NaN</td>\n",
       "      <td>61.0</td>\n",
       "      <td>59.0</td>\n",
       "      <td>95.0</td>\n",
       "      <td>79.0</td>\n",
       "      <td>78.0</td>\n",
       "      <td>80%</td>\n",
       "      <td>82%</td>\n",
       "    </tr>\n",
       "  </tbody>\n",
       "</table>\n",
       "</div>"
      ],
      "text/plain": [
       "             names  admission number house balance  english  kiswahili  \\\n",
       "11  PRETIE, ARIONA           13383.0   NaN   8,814     82.0       30.0   \n",
       "12   ADANGA, JAMES           13383.0   NaN     NaN     61.0       59.0   \n",
       "\n",
       "    mathematics  science  sst/cre Creative Arts music  \n",
       "11         79.0     67.0     98.0           62%   79%  \n",
       "12         95.0     79.0     78.0           80%   82%  "
      ]
     },
     "execution_count": 224,
     "metadata": {},
     "output_type": "execute_result"
    }
   ],
   "source": [
    "# compare \n",
    "data[data[\"admission number\"] == 13383.0]"
   ]
  },
  {
   "cell_type": "code",
   "execution_count": 225,
   "id": "c939e560-6ebe-4967-acb1-bc8728371641",
   "metadata": {
    "tags": []
   },
   "outputs": [],
   "source": [
    "# changing Pretie admission Number \n",
    "# Pretie is the first duplicate \n",
    "# Adanga is the last duplicate \n",
    "# slicing/accessing the data based on the value of the column \"admission number\"\n",
    "# using .index[] to index value, \n",
    "# rem >> we already know pretie and james adanga share admission value\n",
    "adanga_index = data[data[\"admission number\"] == 13383.0].index[1]"
   ]
  },
  {
   "cell_type": "code",
   "execution_count": 226,
   "id": "96b13f30-90b2-4ce2-98e6-35fc4cc45941",
   "metadata": {
    "tags": []
   },
   "outputs": [],
   "source": [
    "# use loc to change \n",
    "data.loc[adanga_index, \"admission number\"] = 15000"
   ]
  },
  {
   "cell_type": "code",
   "execution_count": 227,
   "id": "c5df92d7-be99-4415-aec9-2f3128cc6afb",
   "metadata": {
    "tags": []
   },
   "outputs": [
    {
     "data": {
      "text/html": [
       "<div>\n",
       "<style scoped>\n",
       "    .dataframe tbody tr th:only-of-type {\n",
       "        vertical-align: middle;\n",
       "    }\n",
       "\n",
       "    .dataframe tbody tr th {\n",
       "        vertical-align: top;\n",
       "    }\n",
       "\n",
       "    .dataframe thead th {\n",
       "        text-align: right;\n",
       "    }\n",
       "</style>\n",
       "<table border=\"1\" class=\"dataframe\">\n",
       "  <thead>\n",
       "    <tr style=\"text-align: right;\">\n",
       "      <th></th>\n",
       "      <th>names</th>\n",
       "      <th>admission number</th>\n",
       "      <th>house</th>\n",
       "      <th>balance</th>\n",
       "      <th>english</th>\n",
       "      <th>kiswahili</th>\n",
       "      <th>mathematics</th>\n",
       "      <th>science</th>\n",
       "      <th>sst/cre</th>\n",
       "      <th>Creative Arts</th>\n",
       "      <th>music</th>\n",
       "    </tr>\n",
       "  </thead>\n",
       "  <tbody>\n",
       "    <tr>\n",
       "      <th>11</th>\n",
       "      <td>PRETIE, ARIONA</td>\n",
       "      <td>13383.0</td>\n",
       "      <td>NaN</td>\n",
       "      <td>8,814</td>\n",
       "      <td>82.0</td>\n",
       "      <td>30.0</td>\n",
       "      <td>79.0</td>\n",
       "      <td>67.0</td>\n",
       "      <td>98.0</td>\n",
       "      <td>62%</td>\n",
       "      <td>79%</td>\n",
       "    </tr>\n",
       "    <tr>\n",
       "      <th>12</th>\n",
       "      <td>ADANGA, JAMES</td>\n",
       "      <td>15000.0</td>\n",
       "      <td>NaN</td>\n",
       "      <td>NaN</td>\n",
       "      <td>61.0</td>\n",
       "      <td>59.0</td>\n",
       "      <td>95.0</td>\n",
       "      <td>79.0</td>\n",
       "      <td>78.0</td>\n",
       "      <td>80%</td>\n",
       "      <td>82%</td>\n",
       "    </tr>\n",
       "  </tbody>\n",
       "</table>\n",
       "</div>"
      ],
      "text/plain": [
       "             names  admission number house balance  english  kiswahili  \\\n",
       "11  PRETIE, ARIONA           13383.0   NaN   8,814     82.0       30.0   \n",
       "12   ADANGA, JAMES           15000.0   NaN     NaN     61.0       59.0   \n",
       "\n",
       "    mathematics  science  sst/cre Creative Arts music  \n",
       "11         79.0     67.0     98.0           62%   79%  \n",
       "12         95.0     79.0     78.0           80%   82%  "
      ]
     },
     "execution_count": 227,
     "metadata": {},
     "output_type": "execute_result"
    }
   ],
   "source": [
    "data.loc[11:12, :]"
   ]
  },
  {
   "cell_type": "markdown",
   "id": "d12e0754-6d99-4775-80c9-1bff6cf325b2",
   "metadata": {},
   "source": [
    "### Removing unwanted observations"
   ]
  },
  {
   "cell_type": "code",
   "execution_count": 228,
   "id": "140dbae2",
   "metadata": {},
   "outputs": [],
   "source": [
    "# removing columns\n",
    "data.drop(columns=['house'], inplace=True)"
   ]
  },
  {
   "cell_type": "code",
   "execution_count": 229,
   "id": "ae881881",
   "metadata": {},
   "outputs": [],
   "source": [
    "# alternative using axis\n",
    "#data.drop([date\", \"month, \"year\"], axis = 1, inplace=True)"
   ]
  },
  {
   "cell_type": "code",
   "execution_count": 230,
   "id": "4112a8cb",
   "metadata": {},
   "outputs": [
    {
     "data": {
      "text/html": [
       "<div>\n",
       "<style scoped>\n",
       "    .dataframe tbody tr th:only-of-type {\n",
       "        vertical-align: middle;\n",
       "    }\n",
       "\n",
       "    .dataframe tbody tr th {\n",
       "        vertical-align: top;\n",
       "    }\n",
       "\n",
       "    .dataframe thead th {\n",
       "        text-align: right;\n",
       "    }\n",
       "</style>\n",
       "<table border=\"1\" class=\"dataframe\">\n",
       "  <thead>\n",
       "    <tr style=\"text-align: right;\">\n",
       "      <th></th>\n",
       "      <th>names</th>\n",
       "      <th>admission number</th>\n",
       "      <th>balance</th>\n",
       "      <th>english</th>\n",
       "      <th>kiswahili</th>\n",
       "      <th>mathematics</th>\n",
       "      <th>science</th>\n",
       "      <th>sst/cre</th>\n",
       "      <th>Creative Arts</th>\n",
       "      <th>music</th>\n",
       "    </tr>\n",
       "  </thead>\n",
       "  <tbody>\n",
       "    <tr>\n",
       "      <th>0</th>\n",
       "      <td>JERIEL NDEDA, OBURA</td>\n",
       "      <td>13259.0</td>\n",
       "      <td>NaN</td>\n",
       "      <td>81.0</td>\n",
       "      <td>39.0</td>\n",
       "      <td>50.0</td>\n",
       "      <td>30.0</td>\n",
       "      <td>59.0</td>\n",
       "      <td>99%</td>\n",
       "      <td>80%</td>\n",
       "    </tr>\n",
       "    <tr>\n",
       "      <th>1</th>\n",
       "      <td>MUKUHA TIMOTHY, KAMAU</td>\n",
       "      <td>13243.0</td>\n",
       "      <td>NaN</td>\n",
       "      <td>85.0</td>\n",
       "      <td>74.0</td>\n",
       "      <td>68.0</td>\n",
       "      <td>49.0</td>\n",
       "      <td>78.0</td>\n",
       "      <td>38%</td>\n",
       "      <td>86%</td>\n",
       "    </tr>\n",
       "    <tr>\n",
       "      <th>2</th>\n",
       "      <td>JOB, NGARA</td>\n",
       "      <td>13307.0</td>\n",
       "      <td>NaN</td>\n",
       "      <td>54.0</td>\n",
       "      <td>49.0</td>\n",
       "      <td>53.0</td>\n",
       "      <td>59.0</td>\n",
       "      <td>72.0</td>\n",
       "      <td>86%</td>\n",
       "      <td>62%</td>\n",
       "    </tr>\n",
       "    <tr>\n",
       "      <th>3</th>\n",
       "      <td>CHEGE DAVID, KAMAU</td>\n",
       "      <td>13258.0</td>\n",
       "      <td>NaN</td>\n",
       "      <td>71.0</td>\n",
       "      <td>97.0</td>\n",
       "      <td>92.0</td>\n",
       "      <td>41.0</td>\n",
       "      <td>81.0</td>\n",
       "      <td>77%</td>\n",
       "      <td>80%</td>\n",
       "    </tr>\n",
       "    <tr>\n",
       "      <th>4</th>\n",
       "      <td>RAMADHAN MUSA, TEPO</td>\n",
       "      <td>13363.0</td>\n",
       "      <td>NaN</td>\n",
       "      <td>40.0</td>\n",
       "      <td>84.0</td>\n",
       "      <td>74.0</td>\n",
       "      <td>82.0</td>\n",
       "      <td>89.0</td>\n",
       "      <td>64%</td>\n",
       "      <td>46%</td>\n",
       "    </tr>\n",
       "  </tbody>\n",
       "</table>\n",
       "</div>"
      ],
      "text/plain": [
       "                   names  admission number balance  english  kiswahili  \\\n",
       "0    JERIEL NDEDA, OBURA           13259.0     NaN     81.0       39.0   \n",
       "1  MUKUHA TIMOTHY, KAMAU           13243.0     NaN     85.0       74.0   \n",
       "2             JOB, NGARA           13307.0     NaN     54.0       49.0   \n",
       "3     CHEGE DAVID, KAMAU           13258.0     NaN     71.0       97.0   \n",
       "4    RAMADHAN MUSA, TEPO           13363.0     NaN     40.0       84.0   \n",
       "\n",
       "   mathematics  science  sst/cre Creative Arts music  \n",
       "0         50.0     30.0     59.0           99%   80%  \n",
       "1         68.0     49.0     78.0           38%   86%  \n",
       "2         53.0     59.0     72.0           86%   62%  \n",
       "3         92.0     41.0     81.0           77%   80%  \n",
       "4         74.0     82.0     89.0           64%   46%  "
      ]
     },
     "execution_count": 230,
     "metadata": {},
     "output_type": "execute_result"
    }
   ],
   "source": [
    "data.head()"
   ]
  },
  {
   "cell_type": "code",
   "execution_count": 231,
   "id": "c274d021",
   "metadata": {},
   "outputs": [],
   "source": [
    "# remove rows\n",
    "data.drop(index=[129, 130, 131] , inplace=True)"
   ]
  },
  {
   "cell_type": "code",
   "execution_count": 232,
   "id": "564a3695",
   "metadata": {},
   "outputs": [
    {
     "data": {
      "text/html": [
       "<div>\n",
       "<style scoped>\n",
       "    .dataframe tbody tr th:only-of-type {\n",
       "        vertical-align: middle;\n",
       "    }\n",
       "\n",
       "    .dataframe tbody tr th {\n",
       "        vertical-align: top;\n",
       "    }\n",
       "\n",
       "    .dataframe thead th {\n",
       "        text-align: right;\n",
       "    }\n",
       "</style>\n",
       "<table border=\"1\" class=\"dataframe\">\n",
       "  <thead>\n",
       "    <tr style=\"text-align: right;\">\n",
       "      <th></th>\n",
       "      <th>names</th>\n",
       "      <th>admission number</th>\n",
       "      <th>balance</th>\n",
       "      <th>english</th>\n",
       "      <th>kiswahili</th>\n",
       "      <th>mathematics</th>\n",
       "      <th>science</th>\n",
       "      <th>sst/cre</th>\n",
       "      <th>Creative Arts</th>\n",
       "      <th>music</th>\n",
       "    </tr>\n",
       "  </thead>\n",
       "  <tbody>\n",
       "    <tr>\n",
       "      <th>126</th>\n",
       "      <td>Roselynn Kamau, Rose</td>\n",
       "      <td>NaN</td>\n",
       "      <td>5,907</td>\n",
       "      <td>NaN</td>\n",
       "      <td>NaN</td>\n",
       "      <td>89.0</td>\n",
       "      <td>NaN</td>\n",
       "      <td>48.0</td>\n",
       "      <td>42%</td>\n",
       "      <td>93%</td>\n",
       "    </tr>\n",
       "    <tr>\n",
       "      <th>127</th>\n",
       "      <td>Samuel Gitahi, Mwangi</td>\n",
       "      <td>NaN</td>\n",
       "      <td>NaN</td>\n",
       "      <td>NaN</td>\n",
       "      <td>NaN</td>\n",
       "      <td>87.0</td>\n",
       "      <td>NaN</td>\n",
       "      <td>NaN</td>\n",
       "      <td>96%</td>\n",
       "      <td>79%</td>\n",
       "    </tr>\n",
       "    <tr>\n",
       "      <th>128</th>\n",
       "      <td>Samuel, Kadima</td>\n",
       "      <td>NaN</td>\n",
       "      <td>NaN</td>\n",
       "      <td>NaN</td>\n",
       "      <td>NaN</td>\n",
       "      <td>76.0</td>\n",
       "      <td>NaN</td>\n",
       "      <td>77.0</td>\n",
       "      <td>61%</td>\n",
       "      <td>79%</td>\n",
       "    </tr>\n",
       "    <tr>\n",
       "      <th>132</th>\n",
       "      <td>Walter, Wanami</td>\n",
       "      <td>NaN</td>\n",
       "      <td>NaN</td>\n",
       "      <td>NaN</td>\n",
       "      <td>NaN</td>\n",
       "      <td>68.0</td>\n",
       "      <td>NaN</td>\n",
       "      <td>56.0</td>\n",
       "      <td>70%</td>\n",
       "      <td>96%</td>\n",
       "    </tr>\n",
       "    <tr>\n",
       "      <th>133</th>\n",
       "      <td>William, Okomba</td>\n",
       "      <td>NaN</td>\n",
       "      <td>4,141</td>\n",
       "      <td>NaN</td>\n",
       "      <td>NaN</td>\n",
       "      <td>60.0</td>\n",
       "      <td>NaN</td>\n",
       "      <td>NaN</td>\n",
       "      <td>70%</td>\n",
       "      <td>70%</td>\n",
       "    </tr>\n",
       "    <tr>\n",
       "      <th>134</th>\n",
       "      <td>TIMOTHY NDEDA, OBURA</td>\n",
       "      <td>13322634.0</td>\n",
       "      <td>0</td>\n",
       "      <td>-78.0</td>\n",
       "      <td>40.0</td>\n",
       "      <td>99.0</td>\n",
       "      <td>70.0</td>\n",
       "      <td>49.0</td>\n",
       "      <td>99&amp;</td>\n",
       "      <td>92&amp;</td>\n",
       "    </tr>\n",
       "    <tr>\n",
       "      <th>135</th>\n",
       "      <td>MUKUHA JERIEL, NGARA</td>\n",
       "      <td>1932845.0</td>\n",
       "      <td>321</td>\n",
       "      <td>94.0</td>\n",
       "      <td>780.0</td>\n",
       "      <td>420.0</td>\n",
       "      <td>71.0</td>\n",
       "      <td>88.0</td>\n",
       "      <td>56%</td>\n",
       "      <td>76%</td>\n",
       "    </tr>\n",
       "    <tr>\n",
       "      <th>136</th>\n",
       "      <td>JOB, KAMAU</td>\n",
       "      <td>1430232.0</td>\n",
       "      <td>43,200</td>\n",
       "      <td>98.0</td>\n",
       "      <td>80.0</td>\n",
       "      <td>86.0</td>\n",
       "      <td>64.0</td>\n",
       "      <td>99.0</td>\n",
       "      <td>49%</td>\n",
       "      <td>69%</td>\n",
       "    </tr>\n",
       "    <tr>\n",
       "      <th>137</th>\n",
       "      <td>CHEGE, KAMAU</td>\n",
       "      <td>159.0</td>\n",
       "      <td>NaN</td>\n",
       "      <td>508.0</td>\n",
       "      <td>409.0</td>\n",
       "      <td>77.0</td>\n",
       "      <td>58.0</td>\n",
       "      <td>56.0</td>\n",
       "      <td>88%</td>\n",
       "      <td>84%</td>\n",
       "    </tr>\n",
       "    <tr>\n",
       "      <th>138</th>\n",
       "      <td>RAMADHAN, MUSA</td>\n",
       "      <td>87.0</td>\n",
       "      <td>NaN</td>\n",
       "      <td>81.0</td>\n",
       "      <td>70.0</td>\n",
       "      <td>64.0</td>\n",
       "      <td>680.0</td>\n",
       "      <td>88.0</td>\n",
       "      <td>76%</td>\n",
       "      <td>72%</td>\n",
       "    </tr>\n",
       "  </tbody>\n",
       "</table>\n",
       "</div>"
      ],
      "text/plain": [
       "                     names  admission number balance  english  kiswahili  \\\n",
       "126   Roselynn Kamau, Rose               NaN   5,907      NaN        NaN   \n",
       "127  Samuel Gitahi, Mwangi               NaN     NaN      NaN        NaN   \n",
       "128         Samuel, Kadima               NaN     NaN      NaN        NaN   \n",
       "132         Walter, Wanami               NaN     NaN      NaN        NaN   \n",
       "133        William, Okomba               NaN   4,141      NaN        NaN   \n",
       "134   TIMOTHY NDEDA, OBURA        13322634.0       0    -78.0       40.0   \n",
       "135   MUKUHA JERIEL, NGARA         1932845.0     321     94.0      780.0   \n",
       "136             JOB, KAMAU         1430232.0  43,200     98.0       80.0   \n",
       "137           CHEGE, KAMAU             159.0     NaN    508.0      409.0   \n",
       "138         RAMADHAN, MUSA              87.0     NaN     81.0       70.0   \n",
       "\n",
       "     mathematics  science  sst/cre Creative Arts music  \n",
       "126         89.0      NaN     48.0           42%   93%  \n",
       "127         87.0      NaN      NaN           96%   79%  \n",
       "128         76.0      NaN     77.0           61%   79%  \n",
       "132         68.0      NaN     56.0           70%   96%  \n",
       "133         60.0      NaN      NaN           70%   70%  \n",
       "134         99.0     70.0     49.0           99&   92&  \n",
       "135        420.0     71.0     88.0           56%   76%  \n",
       "136         86.0     64.0     99.0           49%   69%  \n",
       "137         77.0     58.0     56.0           88%   84%  \n",
       "138         64.0    680.0     88.0           76%   72%  "
      ]
     },
     "execution_count": 232,
     "metadata": {},
     "output_type": "execute_result"
    }
   ],
   "source": [
    "data.tail(10)"
   ]
  },
  {
   "cell_type": "code",
   "execution_count": 233,
   "id": "a38e6b2a",
   "metadata": {},
   "outputs": [
    {
     "data": {
      "text/html": [
       "<div>\n",
       "<style scoped>\n",
       "    .dataframe tbody tr th:only-of-type {\n",
       "        vertical-align: middle;\n",
       "    }\n",
       "\n",
       "    .dataframe tbody tr th {\n",
       "        vertical-align: top;\n",
       "    }\n",
       "\n",
       "    .dataframe thead th {\n",
       "        text-align: right;\n",
       "    }\n",
       "</style>\n",
       "<table border=\"1\" class=\"dataframe\">\n",
       "  <thead>\n",
       "    <tr style=\"text-align: right;\">\n",
       "      <th></th>\n",
       "      <th>names</th>\n",
       "      <th>admission number</th>\n",
       "      <th>balance</th>\n",
       "      <th>english</th>\n",
       "      <th>kiswahili</th>\n",
       "      <th>mathematics</th>\n",
       "      <th>science</th>\n",
       "      <th>sst/cre</th>\n",
       "      <th>Creative Arts</th>\n",
       "      <th>music</th>\n",
       "    </tr>\n",
       "  </thead>\n",
       "  <tbody>\n",
       "    <tr>\n",
       "      <th>127</th>\n",
       "      <td>Samuel Gitahi, Mwangi</td>\n",
       "      <td>NaN</td>\n",
       "      <td>NaN</td>\n",
       "      <td>NaN</td>\n",
       "      <td>NaN</td>\n",
       "      <td>87.0</td>\n",
       "      <td>NaN</td>\n",
       "      <td>NaN</td>\n",
       "      <td>96%</td>\n",
       "      <td>79%</td>\n",
       "    </tr>\n",
       "    <tr>\n",
       "      <th>128</th>\n",
       "      <td>Samuel, Kadima</td>\n",
       "      <td>NaN</td>\n",
       "      <td>NaN</td>\n",
       "      <td>NaN</td>\n",
       "      <td>NaN</td>\n",
       "      <td>76.0</td>\n",
       "      <td>NaN</td>\n",
       "      <td>77.0</td>\n",
       "      <td>61%</td>\n",
       "      <td>79%</td>\n",
       "    </tr>\n",
       "    <tr>\n",
       "      <th>132</th>\n",
       "      <td>Walter, Wanami</td>\n",
       "      <td>NaN</td>\n",
       "      <td>NaN</td>\n",
       "      <td>NaN</td>\n",
       "      <td>NaN</td>\n",
       "      <td>68.0</td>\n",
       "      <td>NaN</td>\n",
       "      <td>56.0</td>\n",
       "      <td>70%</td>\n",
       "      <td>96%</td>\n",
       "    </tr>\n",
       "    <tr>\n",
       "      <th>133</th>\n",
       "      <td>William, Okomba</td>\n",
       "      <td>NaN</td>\n",
       "      <td>4,141</td>\n",
       "      <td>NaN</td>\n",
       "      <td>NaN</td>\n",
       "      <td>60.0</td>\n",
       "      <td>NaN</td>\n",
       "      <td>NaN</td>\n",
       "      <td>70%</td>\n",
       "      <td>70%</td>\n",
       "    </tr>\n",
       "    <tr>\n",
       "      <th>138</th>\n",
       "      <td>RAMADHAN, MUSA</td>\n",
       "      <td>87.0</td>\n",
       "      <td>NaN</td>\n",
       "      <td>81.0</td>\n",
       "      <td>70.0</td>\n",
       "      <td>64.0</td>\n",
       "      <td>680.0</td>\n",
       "      <td>88.0</td>\n",
       "      <td>76%</td>\n",
       "      <td>72%</td>\n",
       "    </tr>\n",
       "  </tbody>\n",
       "</table>\n",
       "</div>"
      ],
      "text/plain": [
       "                     names  admission number balance  english  kiswahili  \\\n",
       "127  Samuel Gitahi, Mwangi               NaN     NaN      NaN        NaN   \n",
       "128         Samuel, Kadima               NaN     NaN      NaN        NaN   \n",
       "132         Walter, Wanami               NaN     NaN      NaN        NaN   \n",
       "133        William, Okomba               NaN   4,141      NaN        NaN   \n",
       "138         RAMADHAN, MUSA              87.0     NaN     81.0       70.0   \n",
       "\n",
       "     mathematics  science  sst/cre Creative Arts music  \n",
       "127         87.0      NaN      NaN           96%   79%  \n",
       "128         76.0      NaN     77.0           61%   79%  \n",
       "132         68.0      NaN     56.0           70%   96%  \n",
       "133         60.0      NaN      NaN           70%   70%  \n",
       "138         64.0    680.0     88.0           76%   72%  "
      ]
     },
     "execution_count": 233,
     "metadata": {},
     "output_type": "execute_result"
    }
   ],
   "source": [
    "data.drop(index = range(134, 138, 1), inplace=True)\n",
    "data.tail()"
   ]
  },
  {
   "cell_type": "code",
   "execution_count": 236,
   "id": "9c681e21",
   "metadata": {},
   "outputs": [],
   "source": [
    "data.reset_index(drop=True, inplace=True)"
   ]
  }
 ],
 "metadata": {
  "kernelspec": {
   "display_name": "Python 3 (ipykernel)",
   "language": "python",
   "name": "python3"
  },
  "language_info": {
   "codemirror_mode": {
    "name": "ipython",
    "version": 3
   },
   "file_extension": ".py",
   "mimetype": "text/x-python",
   "name": "python",
   "nbconvert_exporter": "python",
   "pygments_lexer": "ipython3",
   "version": "3.11.3"
  }
 },
 "nbformat": 4,
 "nbformat_minor": 5
}
