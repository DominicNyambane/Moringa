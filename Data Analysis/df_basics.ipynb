{
 "cells": [
  {
   "cell_type": "code",
   "execution_count": 52,
   "id": "9de31c92-d75f-4aac-a1c8-2ea2d7b25905",
   "metadata": {
    "tags": []
   },
   "outputs": [],
   "source": [
    "import pandas as pd\n",
    "import numpy as np"
   ]
  },
  {
   "cell_type": "code",
   "execution_count": 53,
   "id": "d53e638b-8b62-4dc7-80fb-b7d1c353e947",
   "metadata": {
    "tags": []
   },
   "outputs": [],
   "source": [
    "# Set random seed for reproducibility\n",
    "np.random.seed(0)\n",
    "\n",
    "# Generate random data\n",
    "data = {\n",
    "    \"judge ID\": np.random.choice([1238,1456,2234,3345,7623,9985], size=75),\n",
    "    \"Crim-custody\": np.random.randint(0, 3, size=75),\n",
    "    \"case coming for\": np.random.choice([\"Case A\", \"Case B\", \"Case C\"], size=75),\n",
    "    \"date\": pd.date_range(start=\"2023-01-01\", periods=75).strftime(\"%Y-%m-%d\")\n",
    "}\n"
   ]
  },
  {
   "cell_type": "code",
   "execution_count": 54,
   "id": "73e319f1-d177-4542-ac93-57566054018b",
   "metadata": {
    "tags": []
   },
   "outputs": [],
   "source": [
    "# Create DataFrame\n",
    "df = pd.DataFrame(data)"
   ]
  },
  {
   "cell_type": "code",
   "execution_count": 55,
   "id": "c347870b-04ce-4cc8-9e15-5e65a47ef568",
   "metadata": {
    "tags": []
   },
   "outputs": [],
   "source": [
    "# Set some entries in \"Crim-custody\" column to missing\n",
    "df.loc[np.random.choice(df.index, size=10), \"Crim-custody\"] = np.nan"
   ]
  },
  {
   "cell_type": "code",
   "execution_count": 56,
   "id": "f9f6770c-9739-4d6d-9b0f-a209b635dc7d",
   "metadata": {
    "tags": []
   },
   "outputs": [
    {
     "data": {
      "text/html": [
       "<div>\n",
       "<style scoped>\n",
       "    .dataframe tbody tr th:only-of-type {\n",
       "        vertical-align: middle;\n",
       "    }\n",
       "\n",
       "    .dataframe tbody tr th {\n",
       "        vertical-align: top;\n",
       "    }\n",
       "\n",
       "    .dataframe thead th {\n",
       "        text-align: right;\n",
       "    }\n",
       "</style>\n",
       "<table border=\"1\" class=\"dataframe\">\n",
       "  <thead>\n",
       "    <tr style=\"text-align: right;\">\n",
       "      <th></th>\n",
       "      <th>judge ID</th>\n",
       "      <th>Crim-custody</th>\n",
       "      <th>case coming for</th>\n",
       "      <th>date</th>\n",
       "    </tr>\n",
       "  </thead>\n",
       "  <tbody>\n",
       "    <tr>\n",
       "      <th>0</th>\n",
       "      <td>7623</td>\n",
       "      <td>2.0</td>\n",
       "      <td>Case C</td>\n",
       "      <td>2023-01-01</td>\n",
       "    </tr>\n",
       "    <tr>\n",
       "      <th>1</th>\n",
       "      <td>9985</td>\n",
       "      <td>0.0</td>\n",
       "      <td>Case B</td>\n",
       "      <td>2023-01-02</td>\n",
       "    </tr>\n",
       "    <tr>\n",
       "      <th>2</th>\n",
       "      <td>1238</td>\n",
       "      <td>0.0</td>\n",
       "      <td>Case A</td>\n",
       "      <td>2023-01-03</td>\n",
       "    </tr>\n",
       "    <tr>\n",
       "      <th>3</th>\n",
       "      <td>3345</td>\n",
       "      <td>2.0</td>\n",
       "      <td>Case A</td>\n",
       "      <td>2023-01-04</td>\n",
       "    </tr>\n",
       "    <tr>\n",
       "      <th>4</th>\n",
       "      <td>3345</td>\n",
       "      <td>0.0</td>\n",
       "      <td>Case A</td>\n",
       "      <td>2023-01-05</td>\n",
       "    </tr>\n",
       "  </tbody>\n",
       "</table>\n",
       "</div>"
      ],
      "text/plain": [
       "   judge ID  Crim-custody case coming for        date\n",
       "0      7623           2.0          Case C  2023-01-01\n",
       "1      9985           0.0          Case B  2023-01-02\n",
       "2      1238           0.0          Case A  2023-01-03\n",
       "3      3345           2.0          Case A  2023-01-04\n",
       "4      3345           0.0          Case A  2023-01-05"
      ]
     },
     "execution_count": 56,
     "metadata": {},
     "output_type": "execute_result"
    }
   ],
   "source": [
    "df.head()"
   ]
  },
  {
   "cell_type": "markdown",
   "id": "e2107610-9bd3-4e37-a004-8ec65aed79c6",
   "metadata": {},
   "source": [
    "## Group by"
   ]
  },
  {
   "cell_type": "markdown",
   "id": "a2b3f61e-0602-4010-911f-b3435d3ce0e4",
   "metadata": {},
   "source": [
    "* The `groupby()` function is used to group data based on one or more columns in a DataFrame. \n",
    "* It is part of the pandas library, which provides powerful data manipulation and analysis capabilities.\n",
    "* The groupby() function allows you to split a DataFrame into groups based on a specified column or columns. \n",
    "* Once the DataFrame is grouped, you can perform various operations on each group, such as `aggregation`, `transformation`, or `filtering`."
   ]
  },
  {
   "cell_type": "code",
   "execution_count": 57,
   "id": "97d7fcc8-38e4-40b6-bbcb-43f4d25f660c",
   "metadata": {
    "tags": []
   },
   "outputs": [
    {
     "data": {
      "text/plain": [
       "<pandas.core.groupby.generic.DataFrameGroupBy object at 0x000002C9FDB576D0>"
      ]
     },
     "execution_count": 57,
     "metadata": {},
     "output_type": "execute_result"
    }
   ],
   "source": [
    "# example\n",
    "df.groupby([\"judge ID\"])"
   ]
  },
  {
   "cell_type": "markdown",
   "id": "bf03288c-440f-4506-bb4d-873438975132",
   "metadata": {},
   "source": [
    "* Note that this alone will not display a result -- although you have split the dataset into groups, you don't have a meaningful way to display information until you chain an **Aggregation**, **transformation**, or **filtering** onto the groupby."
   ]
  },
  {
   "cell_type": "code",
   "execution_count": 58,
   "id": "e395b203-bec8-4db1-83c8-2038c87b0f22",
   "metadata": {
    "tags": []
   },
   "outputs": [
    {
     "data": {
      "text/plain": [
       "judge ID\n",
       "1238    18.0\n",
       "1456    24.0\n",
       "2234     4.0\n",
       "3345    10.0\n",
       "7623    11.0\n",
       "9985     5.0\n",
       "Name: Crim-custody, dtype: float64"
      ]
     },
     "execution_count": 58,
     "metadata": {},
     "output_type": "execute_result"
    }
   ],
   "source": [
    "df.groupby([\"judge ID\"])[\"Crim-custody\"].sum()"
   ]
  },
  {
   "cell_type": "markdown",
   "id": "ed721efc-d837-4979-937b-9c47342e9a45",
   "metadata": {
    "tags": []
   },
   "source": [
    "### Aggregation functions\n",
    "There are many built-in aggregate methods provided for you in the pandas package, and you can even write and apply your own. Some of the most common aggregate methods you may want to use are:\n",
    "\n",
    "* `.min()`: returns the minimum value for each column by group\n",
    "* `.max()`: returns the maximum value for each column by group\n",
    "* `.mean()`: returns the average value for each column by group\n",
    "* `.median()`: returns the median value for each column by group\n",
    "* `.count()`: returns the count of each column by group\n"
   ]
  },
  {
   "cell_type": "code",
   "execution_count": 59,
   "id": "732c503c-1573-4b6c-b5f0-c2d66becf350",
   "metadata": {
    "tags": []
   },
   "outputs": [
    {
     "data": {
      "text/plain": [
       "case coming for\n",
       "Case A    22.0\n",
       "Case B    29.0\n",
       "Case C    21.0\n",
       "Name: Crim-custody, dtype: float64"
      ]
     },
     "execution_count": 59,
     "metadata": {},
     "output_type": "execute_result"
    }
   ],
   "source": [
    "df.groupby([\"case coming for\"])[\"Crim-custody\"].sum()"
   ]
  },
  {
   "cell_type": "markdown",
   "id": "924f46e5-236d-4595-b448-6145b97f41aa",
   "metadata": {},
   "source": [
    "### Multiple Groups"
   ]
  },
  {
   "cell_type": "code",
   "execution_count": 60,
   "id": "9933cd63-dd84-408b-bc7e-a1c41336aeb5",
   "metadata": {
    "tags": []
   },
   "outputs": [
    {
     "data": {
      "text/plain": [
       "judge ID  case coming for\n",
       "1238      Case A              3.0\n",
       "          Case B              9.0\n",
       "          Case C              6.0\n",
       "1456      Case A              6.0\n",
       "          Case B             11.0\n",
       "          Case C              7.0\n",
       "2234      Case A              3.0\n",
       "          Case C              1.0\n",
       "3345      Case A              2.0\n",
       "          Case B              5.0\n",
       "          Case C              3.0\n",
       "7623      Case A              7.0\n",
       "          Case B              2.0\n",
       "          Case C              2.0\n",
       "9985      Case A              1.0\n",
       "          Case B              2.0\n",
       "          Case C              2.0\n",
       "Name: Crim-custody, dtype: float64"
      ]
     },
     "execution_count": 60,
     "metadata": {},
     "output_type": "execute_result"
    }
   ],
   "source": [
    "df.groupby([\"judge ID\", \"case coming for\"])[\"Crim-custody\"].sum()"
   ]
  },
  {
   "cell_type": "markdown",
   "id": "386c4cf3-ca15-476f-a9c3-d7ea70fa7d35",
   "metadata": {},
   "source": [
    "## Add More Rows and columns"
   ]
  },
  {
   "cell_type": "markdown",
   "id": "79c91b2d-c0f0-44bb-97d6-2dfcbafbaf3d",
   "metadata": {},
   "source": [
    "* We can use pandas `concat()` function to concatenate DataFrames."
   ]
  },
  {
   "cell_type": "code",
   "execution_count": 61,
   "id": "ea522483-b042-4b05-a05f-85770ee41956",
   "metadata": {
    "tags": []
   },
   "outputs": [],
   "source": [
    "# Generate additional random data\n",
    "additional_data = {\n",
    "    \"judge ID\": np.random.choice([1238, 1456, 2234, 3345, 7623, 9985], size=25),\n",
    "    \"Crim-custody\": np.random.randint(0, 3, size=25),\n",
    "    \"case coming for\": np.random.choice([\"Case A\", \"Case B\", \"Case C\"], size=25),\n",
    "    \"date\": pd.date_range(start=\"2023-01-06\", periods=25).strftime(\"%Y-%m-%d\")\n",
    "}\n",
    "\n",
    "# Create additional DataFrame\n",
    "additional_df = pd.DataFrame(additional_data)"
   ]
  },
  {
   "cell_type": "code",
   "execution_count": 62,
   "id": "fc47dfae-69c2-4682-95ab-c76cf5b6d3a1",
   "metadata": {
    "tags": []
   },
   "outputs": [],
   "source": [
    "# Append additional DataFrame to the existing DataFrame\n",
    "df = pd.concat([df,additional_df], axis=0, ignore_index=True)"
   ]
  },
  {
   "cell_type": "code",
   "execution_count": 63,
   "id": "def2d688-f169-4e9f-9294-f44cc68f256a",
   "metadata": {
    "tags": []
   },
   "outputs": [
    {
     "data": {
      "text/plain": [
       "(100, 4)"
      ]
     },
     "execution_count": 63,
     "metadata": {},
     "output_type": "execute_result"
    }
   ],
   "source": [
    "df.shape"
   ]
  },
  {
   "cell_type": "code",
   "execution_count": 64,
   "id": "629c6f5a-253c-45f7-9041-361f66039958",
   "metadata": {
    "tags": []
   },
   "outputs": [],
   "source": [
    "# generate new data for columns\n",
    "new_cols_data = {\n",
    "    \"Witness-D\": np.random.choice([0, 1, 2, 3, 4, np.nan], size=100),\n",
    "    \"Crim-custody\": np.random.choice([0, 1, 2, 3, 4, 5, 6, np.nan], size=100),\n",
    "    \n",
    "}\n",
    "\n",
    "# Create dataframe for the new columns\n",
    "new_cols = pd.DataFrame(new_cols_data)"
   ]
  },
  {
   "cell_type": "code",
   "execution_count": 65,
   "id": "fb7142c0-c4dc-4e70-aa0d-701bbc27120e",
   "metadata": {
    "tags": []
   },
   "outputs": [
    {
     "data": {
      "text/html": [
       "<div>\n",
       "<style scoped>\n",
       "    .dataframe tbody tr th:only-of-type {\n",
       "        vertical-align: middle;\n",
       "    }\n",
       "\n",
       "    .dataframe tbody tr th {\n",
       "        vertical-align: top;\n",
       "    }\n",
       "\n",
       "    .dataframe thead th {\n",
       "        text-align: right;\n",
       "    }\n",
       "</style>\n",
       "<table border=\"1\" class=\"dataframe\">\n",
       "  <thead>\n",
       "    <tr style=\"text-align: right;\">\n",
       "      <th></th>\n",
       "      <th>Witness-D</th>\n",
       "      <th>Crim-custody</th>\n",
       "    </tr>\n",
       "  </thead>\n",
       "  <tbody>\n",
       "    <tr>\n",
       "      <th>0</th>\n",
       "      <td>1.0</td>\n",
       "      <td>6.0</td>\n",
       "    </tr>\n",
       "    <tr>\n",
       "      <th>1</th>\n",
       "      <td>2.0</td>\n",
       "      <td>1.0</td>\n",
       "    </tr>\n",
       "    <tr>\n",
       "      <th>2</th>\n",
       "      <td>0.0</td>\n",
       "      <td>NaN</td>\n",
       "    </tr>\n",
       "    <tr>\n",
       "      <th>3</th>\n",
       "      <td>3.0</td>\n",
       "      <td>4.0</td>\n",
       "    </tr>\n",
       "    <tr>\n",
       "      <th>4</th>\n",
       "      <td>1.0</td>\n",
       "      <td>1.0</td>\n",
       "    </tr>\n",
       "  </tbody>\n",
       "</table>\n",
       "</div>"
      ],
      "text/plain": [
       "   Witness-D  Crim-custody\n",
       "0        1.0           6.0\n",
       "1        2.0           1.0\n",
       "2        0.0           NaN\n",
       "3        3.0           4.0\n",
       "4        1.0           1.0"
      ]
     },
     "execution_count": 65,
     "metadata": {},
     "output_type": "execute_result"
    }
   ],
   "source": [
    "new_cols.head()"
   ]
  },
  {
   "cell_type": "code",
   "execution_count": 66,
   "id": "316a70f5-f452-489b-aa29-2d790af35df2",
   "metadata": {
    "tags": []
   },
   "outputs": [
    {
     "data": {
      "text/plain": [
       "(100, 2)"
      ]
     },
     "execution_count": 66,
     "metadata": {},
     "output_type": "execute_result"
    }
   ],
   "source": [
    "new_cols.shape"
   ]
  },
  {
   "cell_type": "code",
   "execution_count": 69,
   "id": "2d17ae3f-bcc5-4a1c-84be-4753da1c3d64",
   "metadata": {
    "tags": []
   },
   "outputs": [],
   "source": [
    "# Concatenate the original DataFrame with the new DataFrames along the columns (axis=0)\n",
    "new_df = pd.concat([df, new_cols], axis=1, ignore_index=False)"
   ]
  },
  {
   "cell_type": "code",
   "execution_count": 70,
   "id": "c92bbb5c-3b7f-403f-a6eb-f80d83f7e211",
   "metadata": {
    "tags": []
   },
   "outputs": [
    {
     "data": {
      "text/html": [
       "<div>\n",
       "<style scoped>\n",
       "    .dataframe tbody tr th:only-of-type {\n",
       "        vertical-align: middle;\n",
       "    }\n",
       "\n",
       "    .dataframe tbody tr th {\n",
       "        vertical-align: top;\n",
       "    }\n",
       "\n",
       "    .dataframe thead th {\n",
       "        text-align: right;\n",
       "    }\n",
       "</style>\n",
       "<table border=\"1\" class=\"dataframe\">\n",
       "  <thead>\n",
       "    <tr style=\"text-align: right;\">\n",
       "      <th></th>\n",
       "      <th>judge ID</th>\n",
       "      <th>Crim-custody</th>\n",
       "      <th>case coming for</th>\n",
       "      <th>date</th>\n",
       "      <th>Witness-D</th>\n",
       "      <th>Crim-custody</th>\n",
       "    </tr>\n",
       "  </thead>\n",
       "  <tbody>\n",
       "    <tr>\n",
       "      <th>0</th>\n",
       "      <td>7623</td>\n",
       "      <td>2.0</td>\n",
       "      <td>Case C</td>\n",
       "      <td>2023-01-01</td>\n",
       "      <td>1.0</td>\n",
       "      <td>6.0</td>\n",
       "    </tr>\n",
       "    <tr>\n",
       "      <th>1</th>\n",
       "      <td>9985</td>\n",
       "      <td>0.0</td>\n",
       "      <td>Case B</td>\n",
       "      <td>2023-01-02</td>\n",
       "      <td>2.0</td>\n",
       "      <td>1.0</td>\n",
       "    </tr>\n",
       "    <tr>\n",
       "      <th>2</th>\n",
       "      <td>1238</td>\n",
       "      <td>0.0</td>\n",
       "      <td>Case A</td>\n",
       "      <td>2023-01-03</td>\n",
       "      <td>0.0</td>\n",
       "      <td>NaN</td>\n",
       "    </tr>\n",
       "    <tr>\n",
       "      <th>3</th>\n",
       "      <td>3345</td>\n",
       "      <td>2.0</td>\n",
       "      <td>Case A</td>\n",
       "      <td>2023-01-04</td>\n",
       "      <td>3.0</td>\n",
       "      <td>4.0</td>\n",
       "    </tr>\n",
       "    <tr>\n",
       "      <th>4</th>\n",
       "      <td>3345</td>\n",
       "      <td>0.0</td>\n",
       "      <td>Case A</td>\n",
       "      <td>2023-01-05</td>\n",
       "      <td>1.0</td>\n",
       "      <td>1.0</td>\n",
       "    </tr>\n",
       "  </tbody>\n",
       "</table>\n",
       "</div>"
      ],
      "text/plain": [
       "   judge ID  Crim-custody case coming for        date  Witness-D  Crim-custody\n",
       "0      7623           2.0          Case C  2023-01-01        1.0           6.0\n",
       "1      9985           0.0          Case B  2023-01-02        2.0           1.0\n",
       "2      1238           0.0          Case A  2023-01-03        0.0           NaN\n",
       "3      3345           2.0          Case A  2023-01-04        3.0           4.0\n",
       "4      3345           0.0          Case A  2023-01-05        1.0           1.0"
      ]
     },
     "execution_count": 70,
     "metadata": {},
     "output_type": "execute_result"
    }
   ],
   "source": [
    "new_df.head()"
   ]
  },
  {
   "cell_type": "code",
   "execution_count": null,
   "id": "2acd3eea-8781-4d84-b7d2-b8e9150fcdf8",
   "metadata": {},
   "outputs": [],
   "source": []
  }
 ],
 "metadata": {
  "kernelspec": {
   "display_name": "Python 3 (ipykernel)",
   "language": "python",
   "name": "python3"
  },
  "language_info": {
   "codemirror_mode": {
    "name": "ipython",
    "version": 3
   },
   "file_extension": ".py",
   "mimetype": "text/x-python",
   "name": "python",
   "nbconvert_exporter": "python",
   "pygments_lexer": "ipython3",
   "version": "3.11.4"
  }
 },
 "nbformat": 4,
 "nbformat_minor": 5
}
