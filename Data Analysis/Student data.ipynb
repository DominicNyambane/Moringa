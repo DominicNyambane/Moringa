{
 "cells": [
  {
   "cell_type": "code",
   "execution_count": 388,
   "metadata": {},
   "outputs": [],
   "source": [
    "import numpy as np \n",
    "import pandas as pd\n",
    "import seaborn as sns\n",
    "from matplotlib import pyplot as plt"
   ]
  },
  {
   "cell_type": "code",
   "execution_count": 389,
   "metadata": {},
   "outputs": [],
   "source": [
    "data = pd.read_csv(\"Data/students_data.csv\", sep=\",\", index_col=0)"
   ]
  },
  {
   "cell_type": "code",
   "execution_count": 390,
   "metadata": {},
   "outputs": [
    {
     "data": {
      "text/html": [
       "<div>\n",
       "<style scoped>\n",
       "    .dataframe tbody tr th:only-of-type {\n",
       "        vertical-align: middle;\n",
       "    }\n",
       "\n",
       "    .dataframe tbody tr th {\n",
       "        vertical-align: top;\n",
       "    }\n",
       "\n",
       "    .dataframe thead th {\n",
       "        text-align: right;\n",
       "    }\n",
       "</style>\n",
       "<table border=\"1\" class=\"dataframe\">\n",
       "  <thead>\n",
       "    <tr style=\"text-align: right;\">\n",
       "      <th></th>\n",
       "      <th>names</th>\n",
       "      <th>admission number</th>\n",
       "      <th>house</th>\n",
       "      <th>balance</th>\n",
       "      <th>english</th>\n",
       "      <th>kiswahili</th>\n",
       "      <th>mathematics</th>\n",
       "      <th>science</th>\n",
       "      <th>sst/cre</th>\n",
       "      <th>Creative Arts</th>\n",
       "      <th>music</th>\n",
       "    </tr>\n",
       "  </thead>\n",
       "  <tbody>\n",
       "    <tr>\n",
       "      <th>0</th>\n",
       "      <td>JERIEL NDEDA, OBURA</td>\n",
       "      <td>13259.0</td>\n",
       "      <td>NaN</td>\n",
       "      <td>NaN</td>\n",
       "      <td>81.0</td>\n",
       "      <td>39.0</td>\n",
       "      <td>50.0</td>\n",
       "      <td>30.0</td>\n",
       "      <td>59.0</td>\n",
       "      <td>99%</td>\n",
       "      <td>80%</td>\n",
       "    </tr>\n",
       "    <tr>\n",
       "      <th>1</th>\n",
       "      <td>MUKUHA TIMOTHY, KAMAU</td>\n",
       "      <td>13243.0</td>\n",
       "      <td>NaN</td>\n",
       "      <td>NaN</td>\n",
       "      <td>85.0</td>\n",
       "      <td>74.0</td>\n",
       "      <td>68.0</td>\n",
       "      <td>49.0</td>\n",
       "      <td>78.0</td>\n",
       "      <td>38%</td>\n",
       "      <td>86%</td>\n",
       "    </tr>\n",
       "    <tr>\n",
       "      <th>2</th>\n",
       "      <td>JOB, NGARA</td>\n",
       "      <td>13307.0</td>\n",
       "      <td>NaN</td>\n",
       "      <td>NaN</td>\n",
       "      <td>54.0</td>\n",
       "      <td>49.0</td>\n",
       "      <td>53.0</td>\n",
       "      <td>59.0</td>\n",
       "      <td>72.0</td>\n",
       "      <td>86%</td>\n",
       "      <td>62%</td>\n",
       "    </tr>\n",
       "    <tr>\n",
       "      <th>3</th>\n",
       "      <td>CHEGE DAVID, KAMAU</td>\n",
       "      <td>13258.0</td>\n",
       "      <td>NaN</td>\n",
       "      <td>NaN</td>\n",
       "      <td>71.0</td>\n",
       "      <td>97.0</td>\n",
       "      <td>92.0</td>\n",
       "      <td>41.0</td>\n",
       "      <td>81.0</td>\n",
       "      <td>77%</td>\n",
       "      <td>80%</td>\n",
       "    </tr>\n",
       "    <tr>\n",
       "      <th>4</th>\n",
       "      <td>RAMADHAN MUSA, TEPO</td>\n",
       "      <td>13363.0</td>\n",
       "      <td>NaN</td>\n",
       "      <td>NaN</td>\n",
       "      <td>40.0</td>\n",
       "      <td>84.0</td>\n",
       "      <td>74.0</td>\n",
       "      <td>82.0</td>\n",
       "      <td>89.0</td>\n",
       "      <td>64%</td>\n",
       "      <td>46%</td>\n",
       "    </tr>\n",
       "  </tbody>\n",
       "</table>\n",
       "</div>"
      ],
      "text/plain": [
       "                   names  admission number house balance  english  kiswahili  \\\n",
       "0    JERIEL NDEDA, OBURA           13259.0   NaN     NaN     81.0       39.0   \n",
       "1  MUKUHA TIMOTHY, KAMAU           13243.0   NaN     NaN     85.0       74.0   \n",
       "2             JOB, NGARA           13307.0   NaN     NaN     54.0       49.0   \n",
       "3     CHEGE DAVID, KAMAU           13258.0   NaN     NaN     71.0       97.0   \n",
       "4    RAMADHAN MUSA, TEPO           13363.0   NaN     NaN     40.0       84.0   \n",
       "\n",
       "   mathematics  science  sst/cre Creative Arts music  \n",
       "0         50.0     30.0     59.0           99%   80%  \n",
       "1         68.0     49.0     78.0           38%   86%  \n",
       "2         53.0     59.0     72.0           86%   62%  \n",
       "3         92.0     41.0     81.0           77%   80%  \n",
       "4         74.0     82.0     89.0           64%   46%  "
      ]
     },
     "execution_count": 390,
     "metadata": {},
     "output_type": "execute_result"
    }
   ],
   "source": [
    "data.head()"
   ]
  },
  {
   "cell_type": "code",
   "execution_count": 391,
   "metadata": {},
   "outputs": [
    {
     "name": "stdout",
     "output_type": "stream",
     "text": [
      "<class 'pandas.core.frame.DataFrame'>\n",
      "Index: 147 entries, 0 to 146\n",
      "Data columns (total 11 columns):\n",
      " #   Column            Non-Null Count  Dtype  \n",
      "---  ------            --------------  -----  \n",
      " 0   names             147 non-null    object \n",
      " 1   admission number  124 non-null    float64\n",
      " 2   house             26 non-null     object \n",
      " 3   balance           58 non-null     object \n",
      " 4   english           121 non-null    float64\n",
      " 5   kiswahili         119 non-null    float64\n",
      " 6   mathematics       130 non-null    float64\n",
      " 7   science           117 non-null    float64\n",
      " 8   sst/cre           132 non-null    float64\n",
      " 9   Creative Arts     143 non-null    object \n",
      " 10  music             147 non-null    object \n",
      "dtypes: float64(6), object(5)\n",
      "memory usage: 13.8+ KB\n"
     ]
    }
   ],
   "source": [
    "data.info()"
   ]
  },
  {
   "cell_type": "code",
   "execution_count": 392,
   "metadata": {},
   "outputs": [
    {
     "data": {
      "text/plain": [
       "(147, 11)"
      ]
     },
     "execution_count": 392,
     "metadata": {},
     "output_type": "execute_result"
    }
   ],
   "source": [
    "data.shape"
   ]
  },
  {
   "cell_type": "code",
   "execution_count": 393,
   "metadata": {},
   "outputs": [
    {
     "data": {
      "text/plain": [
       "Index(['names', 'admission number', 'house', 'balance', 'english', 'kiswahili',\n",
       "       'mathematics', 'science', 'sst/cre', 'Creative Arts', 'music'],\n",
       "      dtype='object')"
      ]
     },
     "execution_count": 393,
     "metadata": {},
     "output_type": "execute_result"
    }
   ],
   "source": [
    "data.columns"
   ]
  },
  {
   "cell_type": "markdown",
   "metadata": {},
   "source": [
    "## Duplicates and Unwanted Observations\n"
   ]
  },
  {
   "cell_type": "code",
   "execution_count": 394,
   "metadata": {},
   "outputs": [
    {
     "data": {
      "text/plain": [
       "True"
      ]
     },
     "execution_count": 394,
     "metadata": {},
     "output_type": "execute_result"
    }
   ],
   "source": [
    "data.duplicated(subset=None, keep='first').any()"
   ]
  },
  {
   "cell_type": "code",
   "execution_count": 395,
   "metadata": {},
   "outputs": [
    {
     "data": {
      "text/plain": [
       "False    139\n",
       "True       8\n",
       "Name: count, dtype: int64"
      ]
     },
     "execution_count": 395,
     "metadata": {},
     "output_type": "execute_result"
    }
   ],
   "source": [
    "data.duplicated().value_counts()"
   ]
  },
  {
   "cell_type": "code",
   "execution_count": 396,
   "metadata": {},
   "outputs": [],
   "source": [
    "data.drop_duplicates(subset=None, keep=\"first\", inplace=True)"
   ]
  },
  {
   "cell_type": "code",
   "execution_count": 397,
   "metadata": {},
   "outputs": [
    {
     "data": {
      "text/plain": [
       "(139, 11)"
      ]
     },
     "execution_count": 397,
     "metadata": {},
     "output_type": "execute_result"
    }
   ],
   "source": [
    "data.shape"
   ]
  },
  {
   "cell_type": "code",
   "execution_count": 398,
   "metadata": {},
   "outputs": [],
   "source": [
    "data.drop(columns=[\"house\"], inplace=True)"
   ]
  },
  {
   "cell_type": "markdown",
   "metadata": {},
   "source": [
    "## Missing values"
   ]
  },
  {
   "cell_type": "code",
   "execution_count": 399,
   "metadata": {},
   "outputs": [
    {
     "data": {
      "text/html": [
       "<div>\n",
       "<style scoped>\n",
       "    .dataframe tbody tr th:only-of-type {\n",
       "        vertical-align: middle;\n",
       "    }\n",
       "\n",
       "    .dataframe tbody tr th {\n",
       "        vertical-align: top;\n",
       "    }\n",
       "\n",
       "    .dataframe thead th {\n",
       "        text-align: right;\n",
       "    }\n",
       "</style>\n",
       "<table border=\"1\" class=\"dataframe\">\n",
       "  <thead>\n",
       "    <tr style=\"text-align: right;\">\n",
       "      <th></th>\n",
       "      <th>names</th>\n",
       "      <th>admission number</th>\n",
       "      <th>balance</th>\n",
       "      <th>english</th>\n",
       "      <th>kiswahili</th>\n",
       "      <th>mathematics</th>\n",
       "      <th>science</th>\n",
       "      <th>sst/cre</th>\n",
       "      <th>Creative Arts</th>\n",
       "      <th>music</th>\n",
       "    </tr>\n",
       "  </thead>\n",
       "  <tbody>\n",
       "    <tr>\n",
       "      <th>0</th>\n",
       "      <td>False</td>\n",
       "      <td>False</td>\n",
       "      <td>True</td>\n",
       "      <td>False</td>\n",
       "      <td>False</td>\n",
       "      <td>False</td>\n",
       "      <td>False</td>\n",
       "      <td>False</td>\n",
       "      <td>False</td>\n",
       "      <td>False</td>\n",
       "    </tr>\n",
       "    <tr>\n",
       "      <th>1</th>\n",
       "      <td>False</td>\n",
       "      <td>False</td>\n",
       "      <td>True</td>\n",
       "      <td>False</td>\n",
       "      <td>False</td>\n",
       "      <td>False</td>\n",
       "      <td>False</td>\n",
       "      <td>False</td>\n",
       "      <td>False</td>\n",
       "      <td>False</td>\n",
       "    </tr>\n",
       "    <tr>\n",
       "      <th>2</th>\n",
       "      <td>False</td>\n",
       "      <td>False</td>\n",
       "      <td>True</td>\n",
       "      <td>False</td>\n",
       "      <td>False</td>\n",
       "      <td>False</td>\n",
       "      <td>False</td>\n",
       "      <td>False</td>\n",
       "      <td>False</td>\n",
       "      <td>False</td>\n",
       "    </tr>\n",
       "    <tr>\n",
       "      <th>3</th>\n",
       "      <td>False</td>\n",
       "      <td>False</td>\n",
       "      <td>True</td>\n",
       "      <td>False</td>\n",
       "      <td>False</td>\n",
       "      <td>False</td>\n",
       "      <td>False</td>\n",
       "      <td>False</td>\n",
       "      <td>False</td>\n",
       "      <td>False</td>\n",
       "    </tr>\n",
       "    <tr>\n",
       "      <th>4</th>\n",
       "      <td>False</td>\n",
       "      <td>False</td>\n",
       "      <td>True</td>\n",
       "      <td>False</td>\n",
       "      <td>False</td>\n",
       "      <td>False</td>\n",
       "      <td>False</td>\n",
       "      <td>False</td>\n",
       "      <td>False</td>\n",
       "      <td>False</td>\n",
       "    </tr>\n",
       "    <tr>\n",
       "      <th>...</th>\n",
       "      <td>...</td>\n",
       "      <td>...</td>\n",
       "      <td>...</td>\n",
       "      <td>...</td>\n",
       "      <td>...</td>\n",
       "      <td>...</td>\n",
       "      <td>...</td>\n",
       "      <td>...</td>\n",
       "      <td>...</td>\n",
       "      <td>...</td>\n",
       "    </tr>\n",
       "    <tr>\n",
       "      <th>142</th>\n",
       "      <td>False</td>\n",
       "      <td>False</td>\n",
       "      <td>False</td>\n",
       "      <td>False</td>\n",
       "      <td>False</td>\n",
       "      <td>False</td>\n",
       "      <td>False</td>\n",
       "      <td>False</td>\n",
       "      <td>False</td>\n",
       "      <td>False</td>\n",
       "    </tr>\n",
       "    <tr>\n",
       "      <th>143</th>\n",
       "      <td>False</td>\n",
       "      <td>False</td>\n",
       "      <td>False</td>\n",
       "      <td>False</td>\n",
       "      <td>False</td>\n",
       "      <td>False</td>\n",
       "      <td>False</td>\n",
       "      <td>False</td>\n",
       "      <td>False</td>\n",
       "      <td>False</td>\n",
       "    </tr>\n",
       "    <tr>\n",
       "      <th>144</th>\n",
       "      <td>False</td>\n",
       "      <td>False</td>\n",
       "      <td>False</td>\n",
       "      <td>False</td>\n",
       "      <td>False</td>\n",
       "      <td>False</td>\n",
       "      <td>False</td>\n",
       "      <td>False</td>\n",
       "      <td>False</td>\n",
       "      <td>False</td>\n",
       "    </tr>\n",
       "    <tr>\n",
       "      <th>145</th>\n",
       "      <td>False</td>\n",
       "      <td>False</td>\n",
       "      <td>True</td>\n",
       "      <td>False</td>\n",
       "      <td>False</td>\n",
       "      <td>False</td>\n",
       "      <td>False</td>\n",
       "      <td>False</td>\n",
       "      <td>False</td>\n",
       "      <td>False</td>\n",
       "    </tr>\n",
       "    <tr>\n",
       "      <th>146</th>\n",
       "      <td>False</td>\n",
       "      <td>False</td>\n",
       "      <td>True</td>\n",
       "      <td>False</td>\n",
       "      <td>False</td>\n",
       "      <td>False</td>\n",
       "      <td>False</td>\n",
       "      <td>False</td>\n",
       "      <td>False</td>\n",
       "      <td>False</td>\n",
       "    </tr>\n",
       "  </tbody>\n",
       "</table>\n",
       "<p>139 rows × 10 columns</p>\n",
       "</div>"
      ],
      "text/plain": [
       "     names  admission number  balance  english  kiswahili  mathematics  \\\n",
       "0    False             False     True    False      False        False   \n",
       "1    False             False     True    False      False        False   \n",
       "2    False             False     True    False      False        False   \n",
       "3    False             False     True    False      False        False   \n",
       "4    False             False     True    False      False        False   \n",
       "..     ...               ...      ...      ...        ...          ...   \n",
       "142  False             False    False    False      False        False   \n",
       "143  False             False    False    False      False        False   \n",
       "144  False             False    False    False      False        False   \n",
       "145  False             False     True    False      False        False   \n",
       "146  False             False     True    False      False        False   \n",
       "\n",
       "     science  sst/cre  Creative Arts  music  \n",
       "0      False    False          False  False  \n",
       "1      False    False          False  False  \n",
       "2      False    False          False  False  \n",
       "3      False    False          False  False  \n",
       "4      False    False          False  False  \n",
       "..       ...      ...            ...    ...  \n",
       "142    False    False          False  False  \n",
       "143    False    False          False  False  \n",
       "144    False    False          False  False  \n",
       "145    False    False          False  False  \n",
       "146    False    False          False  False  \n",
       "\n",
       "[139 rows x 10 columns]"
      ]
     },
     "execution_count": 399,
     "metadata": {},
     "output_type": "execute_result"
    }
   ],
   "source": [
    "data.isnull()"
   ]
  },
  {
   "cell_type": "code",
   "execution_count": 400,
   "metadata": {},
   "outputs": [
    {
     "data": {
      "text/plain": [
       "names               False\n",
       "admission number     True\n",
       "balance              True\n",
       "english              True\n",
       "kiswahili            True\n",
       "mathematics          True\n",
       "science              True\n",
       "sst/cre              True\n",
       "Creative Arts        True\n",
       "music               False\n",
       "dtype: bool"
      ]
     },
     "execution_count": 400,
     "metadata": {},
     "output_type": "execute_result"
    }
   ],
   "source": [
    "# Summary of missing values \n",
    "\n",
    "data.isnull().any()"
   ]
  },
  {
   "cell_type": "code",
   "execution_count": 401,
   "metadata": {},
   "outputs": [
    {
     "data": {
      "text/plain": [
       "True"
      ]
     },
     "execution_count": 401,
     "metadata": {},
     "output_type": "execute_result"
    }
   ],
   "source": [
    "# to check for specific column\n",
    "\n",
    "data[\"english\"].isnull().any()"
   ]
  },
  {
   "cell_type": "code",
   "execution_count": 402,
   "metadata": {},
   "outputs": [
    {
     "data": {
      "text/plain": [
       "names                0\n",
       "admission number    23\n",
       "balance             82\n",
       "english             26\n",
       "kiswahili           28\n",
       "mathematics         17\n",
       "science             30\n",
       "sst/cre             15\n",
       "Creative Arts        4\n",
       "music                0\n",
       "dtype: int64"
      ]
     },
     "execution_count": 402,
     "metadata": {},
     "output_type": "execute_result"
    }
   ],
   "source": [
    "# checking for number of missing values\n",
    "\n",
    "data.isnull().sum()"
   ]
  },
  {
   "cell_type": "code",
   "execution_count": 403,
   "metadata": {},
   "outputs": [
    {
     "data": {
      "text/plain": [
       "balance             82\n",
       "science             30\n",
       "kiswahili           28\n",
       "english             26\n",
       "admission number    23\n",
       "mathematics         17\n",
       "sst/cre             15\n",
       "Creative Arts        4\n",
       "names                0\n",
       "music                0\n",
       "dtype: int64"
      ]
     },
     "execution_count": 403,
     "metadata": {},
     "output_type": "execute_result"
    }
   ],
   "source": [
    "# sorting (descending)\n",
    "data.isnull().sum().sort_values(ascending=False)"
   ]
  },
  {
   "cell_type": "code",
   "execution_count": 404,
   "metadata": {},
   "outputs": [
    {
     "data": {
      "text/plain": [
       "balance             0.589928\n",
       "science             0.215827\n",
       "kiswahili           0.201439\n",
       "english             0.187050\n",
       "admission number    0.165468\n",
       "mathematics         0.122302\n",
       "sst/cre             0.107914\n",
       "Creative Arts       0.028777\n",
       "names               0.000000\n",
       "music               0.000000\n",
       "dtype: float64"
      ]
     },
     "execution_count": 404,
     "metadata": {},
     "output_type": "execute_result"
    }
   ],
   "source": [
    "# checking the ratios of the missing data\n",
    "\n",
    "(data.isnull().sum() / len(data)).sort_values(ascending=False)"
   ]
  },
  {
   "cell_type": "code",
   "execution_count": 405,
   "metadata": {},
   "outputs": [
    {
     "data": {
      "text/plain": [
       "names                object\n",
       "admission number    float64\n",
       "balance              object\n",
       "english             float64\n",
       "kiswahili           float64\n",
       "mathematics         float64\n",
       "science             float64\n",
       "sst/cre             float64\n",
       "Creative Arts        object\n",
       "music                object\n",
       "dtype: object"
      ]
     },
     "execution_count": 405,
     "metadata": {},
     "output_type": "execute_result"
    }
   ],
   "source": [
    "data.dtypes"
   ]
  },
  {
   "cell_type": "code",
   "execution_count": 406,
   "metadata": {},
   "outputs": [],
   "source": [
    "# Assuming that students with missing balances have cleared fees (fee balance is zero), we replace the blank with 0\n",
    "\n",
    "data[\"balance\"].replace(to_replace=np.NaN, value=\"0\", inplace=True, regex=True) # replace missing values with 0 and treat them as strings"
   ]
  },
  {
   "cell_type": "code",
   "execution_count": 407,
   "metadata": {},
   "outputs": [
    {
     "data": {
      "text/plain": [
       "names                0\n",
       "admission number    23\n",
       "balance              0\n",
       "english             26\n",
       "kiswahili           28\n",
       "mathematics         17\n",
       "science             30\n",
       "sst/cre             15\n",
       "Creative Arts        4\n",
       "music                0\n",
       "dtype: int64"
      ]
     },
     "execution_count": 407,
     "metadata": {},
     "output_type": "execute_result"
    }
   ],
   "source": [
    "data.isnull().sum()"
   ]
  },
  {
   "cell_type": "code",
   "execution_count": 408,
   "metadata": {},
   "outputs": [
    {
     "data": {
      "text/plain": [
       "Index(['names', 'admission number', 'balance', 'english', 'kiswahili',\n",
       "       'mathematics', 'science', 'sst/cre', 'Creative Arts', 'music'],\n",
       "      dtype='object')"
      ]
     },
     "execution_count": 408,
     "metadata": {},
     "output_type": "execute_result"
    }
   ],
   "source": [
    "data.columns"
   ]
  },
  {
   "cell_type": "code",
   "execution_count": 409,
   "metadata": {},
   "outputs": [],
   "source": [
    "subjects_num = ['english', 'kiswahili', 'mathematics', 'science', 'sst/cre']\n",
    "\n",
    "for col in subjects_num:\n",
    "    data[col].replace(to_replace=np.NaN, value=data[col].mean(), inplace=True)"
   ]
  },
  {
   "cell_type": "code",
   "execution_count": 410,
   "metadata": {},
   "outputs": [
    {
     "data": {
      "text/plain": [
       "names                0\n",
       "admission number    23\n",
       "balance              0\n",
       "english              0\n",
       "kiswahili            0\n",
       "mathematics          0\n",
       "science              0\n",
       "sst/cre              0\n",
       "Creative Arts        4\n",
       "music                0\n",
       "dtype: int64"
      ]
     },
     "execution_count": 410,
     "metadata": {},
     "output_type": "execute_result"
    }
   ],
   "source": [
    "data.isnull().sum()"
   ]
  },
  {
   "cell_type": "code",
   "execution_count": 411,
   "metadata": {},
   "outputs": [],
   "source": [
    "# From above, only admission number and Creative arts have missing values"
   ]
  },
  {
   "cell_type": "code",
   "execution_count": 412,
   "metadata": {},
   "outputs": [
    {
     "data": {
      "text/plain": [
       "0       99\n",
       "1       38\n",
       "2       86\n",
       "3       77\n",
       "4       64\n",
       "      ... \n",
       "142    99&\n",
       "143     56\n",
       "144     49\n",
       "145     88\n",
       "146     76\n",
       "Name: Creative Arts, Length: 139, dtype: object"
      ]
     },
     "execution_count": 412,
     "metadata": {},
     "output_type": "execute_result"
    }
   ],
   "source": [
    "# removing % sign from creative arts\n",
    "data[\"Creative Arts\"].str.strip(\"%\")"
   ]
  },
  {
   "cell_type": "code",
   "execution_count": 413,
   "metadata": {},
   "outputs": [],
   "source": [
    "data[\"Creative Arts\"] = data[\"Creative Arts\"].str.strip(\"%\")\n",
    "data[\"music\"] = data[\"music\"].str.strip(\"%\")"
   ]
  },
  {
   "cell_type": "code",
   "execution_count": 414,
   "metadata": {},
   "outputs": [
    {
     "data": {
      "text/html": [
       "<div>\n",
       "<style scoped>\n",
       "    .dataframe tbody tr th:only-of-type {\n",
       "        vertical-align: middle;\n",
       "    }\n",
       "\n",
       "    .dataframe tbody tr th {\n",
       "        vertical-align: top;\n",
       "    }\n",
       "\n",
       "    .dataframe thead th {\n",
       "        text-align: right;\n",
       "    }\n",
       "</style>\n",
       "<table border=\"1\" class=\"dataframe\">\n",
       "  <thead>\n",
       "    <tr style=\"text-align: right;\">\n",
       "      <th></th>\n",
       "      <th>names</th>\n",
       "      <th>admission number</th>\n",
       "      <th>balance</th>\n",
       "      <th>english</th>\n",
       "      <th>kiswahili</th>\n",
       "      <th>mathematics</th>\n",
       "      <th>science</th>\n",
       "      <th>sst/cre</th>\n",
       "      <th>Creative Arts</th>\n",
       "      <th>music</th>\n",
       "    </tr>\n",
       "  </thead>\n",
       "  <tbody>\n",
       "    <tr>\n",
       "      <th>0</th>\n",
       "      <td>JERIEL NDEDA, OBURA</td>\n",
       "      <td>13259.0</td>\n",
       "      <td>0</td>\n",
       "      <td>81.0</td>\n",
       "      <td>39.0</td>\n",
       "      <td>50.0</td>\n",
       "      <td>30.0</td>\n",
       "      <td>59.0</td>\n",
       "      <td>99</td>\n",
       "      <td>80</td>\n",
       "    </tr>\n",
       "    <tr>\n",
       "      <th>1</th>\n",
       "      <td>MUKUHA TIMOTHY, KAMAU</td>\n",
       "      <td>13243.0</td>\n",
       "      <td>0</td>\n",
       "      <td>85.0</td>\n",
       "      <td>74.0</td>\n",
       "      <td>68.0</td>\n",
       "      <td>49.0</td>\n",
       "      <td>78.0</td>\n",
       "      <td>38</td>\n",
       "      <td>86</td>\n",
       "    </tr>\n",
       "    <tr>\n",
       "      <th>2</th>\n",
       "      <td>JOB, NGARA</td>\n",
       "      <td>13307.0</td>\n",
       "      <td>0</td>\n",
       "      <td>54.0</td>\n",
       "      <td>49.0</td>\n",
       "      <td>53.0</td>\n",
       "      <td>59.0</td>\n",
       "      <td>72.0</td>\n",
       "      <td>86</td>\n",
       "      <td>62</td>\n",
       "    </tr>\n",
       "    <tr>\n",
       "      <th>3</th>\n",
       "      <td>CHEGE DAVID, KAMAU</td>\n",
       "      <td>13258.0</td>\n",
       "      <td>0</td>\n",
       "      <td>71.0</td>\n",
       "      <td>97.0</td>\n",
       "      <td>92.0</td>\n",
       "      <td>41.0</td>\n",
       "      <td>81.0</td>\n",
       "      <td>77</td>\n",
       "      <td>80</td>\n",
       "    </tr>\n",
       "    <tr>\n",
       "      <th>4</th>\n",
       "      <td>RAMADHAN MUSA, TEPO</td>\n",
       "      <td>13363.0</td>\n",
       "      <td>0</td>\n",
       "      <td>40.0</td>\n",
       "      <td>84.0</td>\n",
       "      <td>74.0</td>\n",
       "      <td>82.0</td>\n",
       "      <td>89.0</td>\n",
       "      <td>64</td>\n",
       "      <td>46</td>\n",
       "    </tr>\n",
       "  </tbody>\n",
       "</table>\n",
       "</div>"
      ],
      "text/plain": [
       "                   names  admission number balance  english  kiswahili  \\\n",
       "0    JERIEL NDEDA, OBURA           13259.0       0     81.0       39.0   \n",
       "1  MUKUHA TIMOTHY, KAMAU           13243.0       0     85.0       74.0   \n",
       "2             JOB, NGARA           13307.0       0     54.0       49.0   \n",
       "3     CHEGE DAVID, KAMAU           13258.0       0     71.0       97.0   \n",
       "4    RAMADHAN MUSA, TEPO           13363.0       0     40.0       84.0   \n",
       "\n",
       "   mathematics  science  sst/cre Creative Arts music  \n",
       "0         50.0     30.0     59.0            99    80  \n",
       "1         68.0     49.0     78.0            38    86  \n",
       "2         53.0     59.0     72.0            86    62  \n",
       "3         92.0     41.0     81.0            77    80  \n",
       "4         74.0     82.0     89.0            64    46  "
      ]
     },
     "execution_count": 414,
     "metadata": {},
     "output_type": "execute_result"
    }
   ],
   "source": [
    "data.head()"
   ]
  },
  {
   "cell_type": "code",
   "execution_count": 415,
   "metadata": {},
   "outputs": [
    {
     "ename": "ValueError",
     "evalue": "Series.replace cannot use dict-value and non-None to_replace",
     "output_type": "error",
     "traceback": [
      "\u001b[1;31m---------------------------------------------------------------------------\u001b[0m",
      "\u001b[1;31mValueError\u001b[0m                                Traceback (most recent call last)",
      "\u001b[1;32m~\\AppData\\Local\\Temp\\ipykernel_748\\3703434101.py\u001b[0m in \u001b[0;36m?\u001b[1;34m()\u001b[0m\n\u001b[1;32m----> 1\u001b[1;33m \u001b[0mdata\u001b[0m\u001b[1;33m[\u001b[0m\u001b[1;34m\"Creative Arts\"\u001b[0m\u001b[1;33m]\u001b[0m\u001b[1;33m.\u001b[0m\u001b[0mreplace\u001b[0m\u001b[1;33m(\u001b[0m\u001b[0mto_replace\u001b[0m \u001b[1;33m=\u001b[0m \u001b[0mnp\u001b[0m\u001b[1;33m.\u001b[0m\u001b[0mNaN\u001b[0m\u001b[1;33m,\u001b[0m \u001b[0mvalue\u001b[0m\u001b[1;33m=\u001b[0m \u001b[0mdata\u001b[0m\u001b[1;33m[\u001b[0m\u001b[1;34m\"Creative Arts\"\u001b[0m\u001b[1;33m]\u001b[0m\u001b[1;33m.\u001b[0m\u001b[0mmode\u001b[0m\u001b[1;33m(\u001b[0m\u001b[1;33m)\u001b[0m\u001b[1;33m,\u001b[0m \u001b[0minplace\u001b[0m\u001b[1;33m=\u001b[0m\u001b[1;32mTrue\u001b[0m\u001b[1;33m,\u001b[0m \u001b[0mregex\u001b[0m\u001b[1;33m=\u001b[0m\u001b[1;32mTrue\u001b[0m\u001b[1;33m)\u001b[0m\u001b[1;33m\u001b[0m\u001b[1;33m\u001b[0m\u001b[0m\n\u001b[0m",
      "\u001b[1;32mc:\\Users\\J\\AppData\\Local\\Programs\\Python\\Python311\\Lib\\site-packages\\pandas\\core\\generic.py\u001b[0m in \u001b[0;36m?\u001b[1;34m(self, to_replace, value, inplace, limit, regex, method)\u001b[0m\n\u001b[0;32m   7887\u001b[0m                 \u001b[1;31m# dest iterable dict-like\u001b[0m\u001b[1;33m\u001b[0m\u001b[1;33m\u001b[0m\u001b[0m\n\u001b[0;32m   7888\u001b[0m                 \u001b[1;32mif\u001b[0m \u001b[0mis_dict_like\u001b[0m\u001b[1;33m(\u001b[0m\u001b[0mvalue\u001b[0m\u001b[1;33m)\u001b[0m\u001b[1;33m:\u001b[0m  \u001b[1;31m# NA -> {'A' : 0, 'B' : -1}\u001b[0m\u001b[1;33m\u001b[0m\u001b[1;33m\u001b[0m\u001b[0m\n\u001b[0;32m   7889\u001b[0m                     \u001b[1;31m# Operate column-wise\u001b[0m\u001b[1;33m\u001b[0m\u001b[1;33m\u001b[0m\u001b[0m\n\u001b[0;32m   7890\u001b[0m                     \u001b[1;32mif\u001b[0m \u001b[0mself\u001b[0m\u001b[1;33m.\u001b[0m\u001b[0mndim\u001b[0m \u001b[1;33m==\u001b[0m \u001b[1;36m1\u001b[0m\u001b[1;33m:\u001b[0m\u001b[1;33m\u001b[0m\u001b[1;33m\u001b[0m\u001b[0m\n\u001b[1;32m-> 7891\u001b[1;33m                         raise ValueError(\n\u001b[0m\u001b[0;32m   7892\u001b[0m                             \u001b[1;34m\"Series.replace cannot use dict-value and \"\u001b[0m\u001b[1;33m\u001b[0m\u001b[1;33m\u001b[0m\u001b[0m\n\u001b[0;32m   7893\u001b[0m                             \u001b[1;34m\"non-None to_replace\"\u001b[0m\u001b[1;33m\u001b[0m\u001b[1;33m\u001b[0m\u001b[0m\n\u001b[0;32m   7894\u001b[0m                         )\n",
      "\u001b[1;31mValueError\u001b[0m: Series.replace cannot use dict-value and non-None to_replace"
     ]
    }
   ],
   "source": [
    "data[\"Creative Arts\"].replace(to_replace = np.NaN, value= data[\"Creative Arts\"].mode(), inplace=True, regex=True)"
   ]
  }
 ],
 "metadata": {
  "kernelspec": {
   "display_name": "Python 3",
   "language": "python",
   "name": "python3"
  },
  "language_info": {
   "codemirror_mode": {
    "name": "ipython",
    "version": 3
   },
   "file_extension": ".py",
   "mimetype": "text/x-python",
   "name": "python",
   "nbconvert_exporter": "python",
   "pygments_lexer": "ipython3",
   "version": "3.11.5"
  },
  "orig_nbformat": 4
 },
 "nbformat": 4,
 "nbformat_minor": 2
}
