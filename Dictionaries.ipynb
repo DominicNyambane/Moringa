{
 "cells": [
  {
   "cell_type": "markdown",
   "metadata": {},
   "source": [
    "# Dictionary\n",
    "* Data type that stores data using ```Key value``` pairs.\n",
    "* USe curly brackets (```{}```) to define dictionaries in python\n",
    "\n",
    "* Syntax\n",
    "```key : value```"
   ]
  },
  {
   "cell_type": "code",
   "execution_count": 3,
   "metadata": {},
   "outputs": [
    {
     "name": "stdout",
     "output_type": "stream",
     "text": [
      "{'Name': 'Antonny Muiko', 'Id': 1245, 'Gender': 'Male'}\n"
     ]
    }
   ],
   "source": [
    "# example\n",
    "\n",
    "student = {\n",
    "    \"Name\" : \"Antonny Muiko\",\n",
    "    \"Id\" : 1245,\n",
    "    \"Gender\" : \"Male\"\n",
    "}\n",
    "print(student)"
   ]
  },
  {
   "cell_type": "code",
   "execution_count": 5,
   "metadata": {},
   "outputs": [
    {
     "name": "stdout",
     "output_type": "stream",
     "text": [
      "{'sky': ['Nyanmbane', 'Eugene', 'Yusuf'], 'friends of sky': ['Martin', 'Lumumba', 'Chemu'], 'Kitchen cabinet': ['Maggy', 'Eva', 'Linda'], 'Office Keepers': ['Kocheli', 'Ngobiro', 'John']}\n"
     ]
    }
   ],
   "source": [
    "# example 2\n",
    "\n",
    "office = {\n",
    "    \"sky\" : [\"Nyanmbane\", \"Eugene\", \"Yusuf\"],\n",
    "    \"friends of sky\" : [\"Martin\", \"Lumumba\", \"Chemu\"],\n",
    "    \"Kitchen cabinet\" : [\"Maggy\", \"Eva\", \"Linda\"],\n",
    "    \"Office Keepers\" : [\"Kocheli\", \"Ngobiro\", \"John\"]\n",
    "}\n",
    "\n",
    "print(office)"
   ]
  },
  {
   "cell_type": "code",
   "execution_count": 6,
   "metadata": {},
   "outputs": [
    {
     "data": {
      "text/plain": [
       "dict_keys(['sky', 'friends of sky', 'Kitchen cabinet', 'Office Keepers'])"
      ]
     },
     "execution_count": 6,
     "metadata": {},
     "output_type": "execute_result"
    }
   ],
   "source": [
    "# keys of the dictionary\n",
    "office.keys()\n"
   ]
  },
  {
   "cell_type": "code",
   "execution_count": 8,
   "metadata": {},
   "outputs": [
    {
     "name": "stdout",
     "output_type": "stream",
     "text": [
      "['Kocheli', 'Ngobiro', 'John']\n"
     ]
    }
   ],
   "source": [
    "# access values in a dictionary using keys\n",
    "# syntax dictionary_name(key)\n",
    "print(office ['Office Keepers'])"
   ]
  },
  {
   "cell_type": "code",
   "execution_count": 9,
   "metadata": {},
   "outputs": [
    {
     "name": "stdout",
     "output_type": "stream",
     "text": [
      "['Nyanmbane', 'Eugene', 'Yusuf']\n"
     ]
    }
   ],
   "source": [
    "# sky team\n",
    "print(office['sky'])"
   ]
  },
  {
   "cell_type": "code",
   "execution_count": 16,
   "metadata": {},
   "outputs": [
    {
     "name": "stdout",
     "output_type": "stream",
     "text": [
      "{'sky': ['Nyanmbane', 'Eugene', 'Yusuf', 'Kirui', 'Kirui', 'Kirui'], 'friends of sky': ['Martin', 'Lumumba', 'Chemu'], 'Kitchen cabinet': ['Maggy', 'Eva', 'Linda'], 'Office Keepers': ['Kocheli', 'Ngobiro', 'John']}\n"
     ]
    }
   ],
   "source": [
    "# Remember lists append?\n",
    "office[\"sky\"].append(\"Kirui\")\n",
    "print(office)"
   ]
  },
  {
   "cell_type": "code",
   "execution_count": 17,
   "metadata": {},
   "outputs": [
    {
     "name": "stdout",
     "output_type": "stream",
     "text": [
      "Nyanmbane\n"
     ]
    }
   ],
   "source": [
    "print(office[\"sky\"][0])"
   ]
  },
  {
   "cell_type": "code",
   "execution_count": 21,
   "metadata": {},
   "outputs": [],
   "source": [
    "# cafe\n",
    "\n",
    "menu = {\n",
    "      \"Breakfast\" : {\n",
    "        \"Beverages\" : {\n",
    "            \"Tea\" : [\"Masala\", \"Ginger\", \"Caramel\"],\n",
    "            \"Coffee\" : [\"Black\", \"White\", \"Latte\"],\n",
    "            \"Cocoa\" : [\"hot chocolate\", \"free range\"] \n",
    "        },\n",
    "        \"accompaniment\" : {\n",
    "        \"wings\" : [\"hot wings\", \"spicy\", \"lemon and herbs\"],\n",
    "        \"kienyeji\" : [\"nduma\", \"nguashe\", \"cassave\"],\n",
    "        }\n",
    "    },\n",
    "    \"lunch\" : {\n",
    "        \"carbohydrates\" : [\"ugali\", \"mokimo\", \"rice\"],\n",
    "        \"Vegs\" : [\"sukuma\", \"cabbage\"],\n",
    "        \"proteins\" : [\"chicken\", \"fish\", \"mutton\"],\n",
    "    }\n",
    "}"
   ]
  },
  {
   "cell_type": "code",
   "execution_count": 34,
   "metadata": {},
   "outputs": [
    {
     "name": "stdout",
     "output_type": "stream",
     "text": [
      "{'Breakfast': {'Beverages': {'Tea': ['Masala', 'Ginger', 'Caramel'], 'Coffee': ['Black', 'White', 'Latte'], 'Cocoa': ['hot chocolate', 'free range']}, 'accompaniment': {'wings': ['hot wings', 'spicy', 'lemon and herbs'], 'kienyeji': ['nduma', 'nguashe', 'cassave']}}, 'lunch': {'carbohydrates': ['ugali', 'mokimo', 'rice'], 'Vegs': ['sukuma', 'cabbage'], 'proteins': ['chicken', 'fish', 'mutton']}}\n"
     ]
    }
   ],
   "source": [
    "print(menu)"
   ]
  },
  {
   "cell_type": "code",
   "execution_count": 35,
   "metadata": {},
   "outputs": [
    {
     "name": "stdout",
     "output_type": "stream",
     "text": [
      "{'Beverages': {'Tea': ['Masala', 'Ginger', 'Caramel'], 'Coffee': ['Black', 'White', 'Latte'], 'Cocoa': ['hot chocolate', 'free range']}, 'accompaniment': {'wings': ['hot wings', 'spicy', 'lemon and herbs'], 'kienyeji': ['nduma', 'nguashe', 'cassave']}}\n"
     ]
    }
   ],
   "source": [
    "print(menu[\"Breakfast\"])"
   ]
  },
  {
   "cell_type": "code",
   "execution_count": 36,
   "metadata": {},
   "outputs": [
    {
     "data": {
      "text/plain": [
       "dict"
      ]
     },
     "execution_count": 36,
     "metadata": {},
     "output_type": "execute_result"
    }
   ],
   "source": [
    "type(menu[\"Breakfast\"])"
   ]
  },
  {
   "cell_type": "code",
   "execution_count": 37,
   "metadata": {},
   "outputs": [
    {
     "data": {
      "text/plain": [
       "dict_keys(['Beverages', 'accompaniment'])"
      ]
     },
     "execution_count": 37,
     "metadata": {},
     "output_type": "execute_result"
    }
   ],
   "source": [
    "menu[\"Breakfast\"].keys()"
   ]
  },
  {
   "cell_type": "code",
   "execution_count": 40,
   "metadata": {},
   "outputs": [
    {
     "name": "stdout",
     "output_type": "stream",
     "text": [
      "{'Tea': ['Masala', 'Ginger', 'Caramel'], 'Coffee': ['Black', 'White', 'Latte'], 'Cocoa': ['hot chocolate', 'free range']}\n"
     ]
    }
   ],
   "source": [
    "print(menu[\"Breakfast\"][\"Beverages\"])"
   ]
  },
  {
   "cell_type": "code",
   "execution_count": 42,
   "metadata": {},
   "outputs": [
    {
     "name": "stdout",
     "output_type": "stream",
     "text": [
      "['Masala', 'Ginger', 'Caramel']\n"
     ]
    }
   ],
   "source": [
    "print(menu[\"Breakfast\"][\"Beverages\"][\"Tea\"])"
   ]
  },
  {
   "cell_type": "code",
   "execution_count": 44,
   "metadata": {},
   "outputs": [
    {
     "ename": "SyntaxError",
     "evalue": "closing parenthesis ')' does not match opening parenthesis '[' (2904213397.py, line 1)",
     "output_type": "error",
     "traceback": [
      "\u001b[1;36m  Cell \u001b[1;32mIn[44], line 1\u001b[1;36m\u001b[0m\n\u001b[1;33m    print(menu[\"Breakfast\"][\"Beverages\"][\"Tea\"[1])\u001b[0m\n\u001b[1;37m                                                 ^\u001b[0m\n\u001b[1;31mSyntaxError\u001b[0m\u001b[1;31m:\u001b[0m closing parenthesis ')' does not match opening parenthesis '['\n"
     ]
    }
   ],
   "source": [
    "print(menu[\"Breakfast\"][\"Beverages\"][\"Tea\"[1])"
   ]
  },
  {
   "cell_type": "code",
   "execution_count": 45,
   "metadata": {},
   "outputs": [
    {
     "name": "stdout",
     "output_type": "stream",
     "text": [
      "Ginger\n"
     ]
    }
   ],
   "source": [
    "print(menu[\"Breakfast\"][\"Beverages\"][\"Tea\"][1])"
   ]
  },
  {
   "cell_type": "code",
   "execution_count": 51,
   "metadata": {},
   "outputs": [
    {
     "name": "stdout",
     "output_type": "stream",
     "text": [
      "Dominic had the following for breakfast:\n",
      "\t* Ginger\n"
     ]
    }
   ],
   "source": [
    "print(f'Dominic had the following for breakfast:\\n\\t* {menu[\"Breakfast\"][\"Beverages\"][\"Tea\"][1]}')"
   ]
  }
 ],
 "metadata": {
  "kernelspec": {
   "display_name": "base",
   "language": "python",
   "name": "python3"
  },
  "language_info": {
   "codemirror_mode": {
    "name": "ipython",
    "version": 3
   },
   "file_extension": ".py",
   "mimetype": "text/x-python",
   "name": "python",
   "nbconvert_exporter": "python",
   "pygments_lexer": "ipython3",
   "version": "3.11.3"
  },
  "orig_nbformat": 4
 },
 "nbformat": 4,
 "nbformat_minor": 2
}
