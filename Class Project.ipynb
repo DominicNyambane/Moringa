{
 "cells": [
  {
   "cell_type": "code",
   "execution_count": 30,
   "metadata": {},
   "outputs": [
    {
     "name": "stdout",
     "output_type": "stream",
     "text": [
      "{1: 'Add task', 2: 'Mark task as completed', 3: 'List task', 4: 'Remove task', 5: 'Quit'}\n",
      "Eating has been removed from the task from the list\n",
      "The following tasks are remaining:['Playing Football', 'Coding', 'Washing']\n"
     ]
    }
   ],
   "source": [
    "task = [\"Playing Football\", \"Eating\", \"Coding\", \"Washing\"]\n",
    "index = 0\n",
    "def user_interface():\n",
    "    interface = {\n",
    "    1 : \"Add task\", \n",
    "    2 : \"Mark task as completed\",\n",
    "    3 : \"List task\",\n",
    "    4 : \"Remove task\",\n",
    "    5 : \"Quit\"\n",
    "    }\n",
    "    return str(interface)\n",
    "print(user_interface())\n",
    "task_option = int(input(\"Please select an option from the list from the user interface\"))\n",
    "if task_option == 1:\n",
    "    add_task = input(\"Add a new task\")\n",
    "    task.append(add_task)\n",
    "    print(task)\n",
    "elif task_option == 2:\n",
    "    completed_task = input(\"Indicate the completed task\")\n",
    "    if completed_task in task:\n",
    "       print(f'{completed_task} has been completed')\n",
    "    else:\n",
    "        print(f\"{completed_task} is not in the task list\")\n",
    "elif task_option == 3:\n",
    "    print(task)\n",
    "elif task_option == 4:\n",
    "    remove_task = input(\"Remove task from the list\")\n",
    "    if remove_task in task:\n",
    "       task.remove(remove_task)\n",
    "       print(f'{remove_task} has been removed from the task from the list')\n",
    "       print(f\"The following tasks are remaining:{task}\")\n",
    "    else:\n",
    "        print(f\"{remove_task} is not in the task list. Please choose a task from the list\")\n",
    "elif task_option == 5:\n",
    "    quit()\n",
    "else:\n",
    "    print(\"Select options 1-5 from the task interface\")\n",
    "    \n",
    "    "
   ]
  }
 ],
 "metadata": {
  "kernelspec": {
   "display_name": "base",
   "language": "python",
   "name": "python3"
  },
  "language_info": {
   "codemirror_mode": {
    "name": "ipython",
    "version": 3
   },
   "file_extension": ".py",
   "mimetype": "text/x-python",
   "name": "python",
   "nbconvert_exporter": "python",
   "pygments_lexer": "ipython3",
   "version": "3.11.3"
  },
  "orig_nbformat": 4
 },
 "nbformat": 4,
 "nbformat_minor": 2
}
