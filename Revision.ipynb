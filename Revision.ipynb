{
 "cells": [
  {
   "cell_type": "markdown",
   "metadata": {},
   "source": [
    "# Functions\n",
    "* Definition\n",
    "* Call"
   ]
  },
  {
   "cell_type": "code",
   "execution_count": null,
   "metadata": {},
   "outputs": [],
   "source": [
    "def get_grade():\n",
    "    \"\"\"get user input\"\"\"\n",
    "    count = 5\n",
    "    student_scores = []\n",
    "    subjects=[\"English\", \"Kiswahili\", \"Math\", \"Science\", \"GHC\"]\n",
    "    for subject in subjects:\n",
    "        score = input(f\"Enter {subject} score\")\n",
    "        student_scores.append(score)\n",
    "    return student_scores\n",
    "get_grade()\n"
   ]
  },
  {
   "cell_type": "code",
   "execution_count": null,
   "metadata": {},
   "outputs": [],
   "source": [
    "# Recap 1\n",
    "condition = True\n",
    "while condition:\n",
    "    print(\"Dominic\")\n",
    "    condition = False\n"
   ]
  },
  {
   "cell_type": "code",
   "execution_count": null,
   "metadata": {},
   "outputs": [],
   "source": [
    "# Recap 2\n",
    "condition = 0\n",
    "while (condition == 0):\n",
    "    print(\"Dominic\")\n",
    "    condition += 1\n"
   ]
  },
  {
   "cell_type": "code",
   "execution_count": null,
   "metadata": {},
   "outputs": [],
   "source": [
    "# Recap 3\n",
    "condition == 1"
   ]
  },
  {
   "cell_type": "code",
   "execution_count": null,
   "metadata": {},
   "outputs": [],
   "source": [
    "# Get student name\n",
    "def get_student_name():\n",
    "    name = input(\"student name e.g John Joe \\n\")\n",
    "    return name\n",
    "    \n",
    "get_student_name()"
   ]
  },
  {
   "cell_type": "code",
   "execution_count": null,
   "metadata": {},
   "outputs": [],
   "source": [
    "# Get the student scores\n",
    "\n",
    "def get_scores():\n",
    "    \"\"\"get user input\"\"\"\n",
    "    student_scores = []\n",
    "    subjects=[\"English\", \"Kiswahili\", \"Math\", \"Science\", \"GHC\"]\n",
    "    for subject in subjects:\n",
    "        score = int(input(f\"Enter {subject} score\"))\n",
    "        student_scores.append(score)\n",
    "    return student_scores\n",
    "get_scores()\n"
   ]
  },
  {
   "cell_type": "code",
   "execution_count": 60,
   "metadata": {},
   "outputs": [],
   "source": [
    "def student_performance():\n",
    "    \"\"\"\n",
    "    Get student name\n",
    "    Get student scores\n",
    "    Grade student scores\n",
    "    Sum of student scores\n",
    "    return:\n",
    "        student name, student scores, student grades, Sum\n",
    "    \"\"\"\n",
    "    student_name = get_student_name()\n",
    "    student_scores = get_scores()\n",
    "    student_grades = []\n",
    "    # loop through the grades\n",
    "    for score in student_scores:\n",
    "        if (score >= 70) and (score <= 100):\n",
    "            grade = \"A\"\n",
    "            student_grades.append(grade)\n",
    "        elif  (score <= 69) and (score >= 60):\n",
    "            grade = \"B\"\n",
    "            student_grades.append(grade)\n",
    "        elif  (score <= 59) and (score >= 50):\n",
    "            grade = \"C\"\n",
    "            student_grades.append(grade)\n",
    "        elif  (score <= 49) and (score >= 40):\n",
    "            grade = \"D\"\n",
    "            student_grades.append(grade)\n",
    "        elif  (score <= 39) and (score >= 0):\n",
    "            grade = \"E\"\n",
    "            student_grades.append(grade)\n",
    "\n",
    "        else:\n",
    "            print(\"Invalid grade\")\n",
    "            student_grades.append(None)\n",
    "\n",
    "    total = sum(student_scores)\n",
    "\n",
    "    return student_name, student_scores, student_grades, total"
   ]
  },
  {
   "cell_type": "code",
   "execution_count": 61,
   "metadata": {},
   "outputs": [
    {
     "ename": "ValueError",
     "evalue": "invalid literal for int() with base 10: ''",
     "output_type": "error",
     "traceback": [
      "\u001b[1;31m---------------------------------------------------------------------------\u001b[0m",
      "\u001b[1;31mValueError\u001b[0m                                Traceback (most recent call last)",
      "Cell \u001b[1;32mIn[61], line 1\u001b[0m\n\u001b[1;32m----> 1\u001b[0m student_performance()\n",
      "Cell \u001b[1;32mIn[60], line 11\u001b[0m, in \u001b[0;36mstudent_performance\u001b[1;34m()\u001b[0m\n\u001b[0;32m      2\u001b[0m \u001b[39m\u001b[39m\u001b[39m\"\"\"\u001b[39;00m\n\u001b[0;32m      3\u001b[0m \u001b[39mGet student name\u001b[39;00m\n\u001b[0;32m      4\u001b[0m \u001b[39mGet student scores\u001b[39;00m\n\u001b[1;32m   (...)\u001b[0m\n\u001b[0;32m      8\u001b[0m \u001b[39m    student name, student scores, student grades, Sum\u001b[39;00m\n\u001b[0;32m      9\u001b[0m \u001b[39m\"\"\"\u001b[39;00m\n\u001b[0;32m     10\u001b[0m student_name \u001b[39m=\u001b[39m get_student_name()\n\u001b[1;32m---> 11\u001b[0m student_scores \u001b[39m=\u001b[39m get_scores()\n\u001b[0;32m     12\u001b[0m student_grades \u001b[39m=\u001b[39m []\n\u001b[0;32m     13\u001b[0m \u001b[39m# loop through the grades\u001b[39;00m\n",
      "Cell \u001b[1;32mIn[51], line 8\u001b[0m, in \u001b[0;36mget_scores\u001b[1;34m()\u001b[0m\n\u001b[0;32m      6\u001b[0m subjects\u001b[39m=\u001b[39m[\u001b[39m\"\u001b[39m\u001b[39mEnglish\u001b[39m\u001b[39m\"\u001b[39m, \u001b[39m\"\u001b[39m\u001b[39mKiswahili\u001b[39m\u001b[39m\"\u001b[39m, \u001b[39m\"\u001b[39m\u001b[39mMath\u001b[39m\u001b[39m\"\u001b[39m, \u001b[39m\"\u001b[39m\u001b[39mScience\u001b[39m\u001b[39m\"\u001b[39m, \u001b[39m\"\u001b[39m\u001b[39mGHC\u001b[39m\u001b[39m\"\u001b[39m]\n\u001b[0;32m      7\u001b[0m \u001b[39mfor\u001b[39;00m subject \u001b[39min\u001b[39;00m subjects:\n\u001b[1;32m----> 8\u001b[0m     score \u001b[39m=\u001b[39m \u001b[39mint\u001b[39m(\u001b[39minput\u001b[39m(\u001b[39mf\u001b[39m\u001b[39m\"\u001b[39m\u001b[39mEnter \u001b[39m\u001b[39m{\u001b[39;00msubject\u001b[39m}\u001b[39;00m\u001b[39m score\u001b[39m\u001b[39m\"\u001b[39m))\n\u001b[0;32m      9\u001b[0m     student_scores\u001b[39m.\u001b[39mappend(score)\n\u001b[0;32m     10\u001b[0m \u001b[39mreturn\u001b[39;00m student_scores\n",
      "\u001b[1;31mValueError\u001b[0m: invalid literal for int() with base 10: ''"
     ]
    }
   ],
   "source": [
    "student_performance()"
   ]
  },
  {
   "cell_type": "code",
   "execution_count": 67,
   "metadata": {},
   "outputs": [],
   "source": [
    "# adding additional students performance\n",
    "\n",
    "student_number = 0\n",
    "Class_Performance = {\n",
    "    \"Name\":[], \n",
    "    \"English\": [],\n",
    "    \"English_grade\":[],\n",
    "    \"Kiswahili\": [],\n",
    "    \"Kiswahili_grade\":[],\n",
    "    \"Maths\": [],\n",
    "    \"Maths_grade\":[],\n",
    "    \"Science\": [],\n",
    "    \"Science_grade\":[],\n",
    "    \"GHC\": [],\n",
    "    \"GHC_grade\":[],\n",
    "    \"Total\": []\n",
    "}\n",
    "while (student_number < 2):\n",
    "    Individual_student = student_performance()\n",
    "    Individual_student = list(Individual_student)\n",
    "    Class_Performance[\"Name\"].append(Individual_student[0]) \n",
    "    Class_Performance[\"English\"].append(Individual_student[1][0])\n",
    "    Class_Performance[\"English_grade\"].append(Individual_student[2][0])\n",
    "    Class_Performance[\"Kiswahili\"].append(Individual_student[1][1])\n",
    "    Class_Performance[\"Kiswahili_grade\"].append(Individual_student[2][1])\n",
    "    Class_Performance[\"Maths\"].append(Individual_student[1][2])\n",
    "    Class_Performance[\"Maths_grade\"].append(Individual_student[2][2])\n",
    "    Class_Performance[\"Science\"].append(Individual_student[1][3])\n",
    "    Class_Performance[\"Science_grade\"].append(Individual_student[2][3])\n",
    "    Class_Performance[\"GHC\"].append(Individual_student[1][4])\n",
    "    Class_Performance[\"GHC_grade\"].append(Individual_student[2][4])\n",
    "    Class_Performance[\"Total\"].append(Individual_student[3])\n",
    "    student_number += 1\n"
   ]
  },
  {
   "cell_type": "code",
   "execution_count": 68,
   "metadata": {},
   "outputs": [
    {
     "name": "stdout",
     "output_type": "stream",
     "text": [
      "{'Name': ['Onana', 'Varane'], 'English': [79, 90], 'English_grade': ['A', 'A'], 'Kiswahili': [34, 56], 'Kiswahili_grade': ['E', 'C'], 'Maths': [67, 53], 'Maths_grade': ['B', 'C'], 'Science': [90, 89], 'Science_grade': ['A', 'A'], 'GHC': [32, 67], 'GHC_grade': ['E', 'B'], 'Total': [302, 355]}\n"
     ]
    }
   ],
   "source": [
    "print(Class_Performance)"
   ]
  },
  {
   "cell_type": "code",
   "execution_count": 69,
   "metadata": {},
   "outputs": [
    {
     "data": {
      "text/html": [
       "<div>\n",
       "<style scoped>\n",
       "    .dataframe tbody tr th:only-of-type {\n",
       "        vertical-align: middle;\n",
       "    }\n",
       "\n",
       "    .dataframe tbody tr th {\n",
       "        vertical-align: top;\n",
       "    }\n",
       "\n",
       "    .dataframe thead th {\n",
       "        text-align: right;\n",
       "    }\n",
       "</style>\n",
       "<table border=\"1\" class=\"dataframe\">\n",
       "  <thead>\n",
       "    <tr style=\"text-align: right;\">\n",
       "      <th></th>\n",
       "      <th>Name</th>\n",
       "      <th>English</th>\n",
       "      <th>English_grade</th>\n",
       "      <th>Kiswahili</th>\n",
       "      <th>Kiswahili_grade</th>\n",
       "      <th>Maths</th>\n",
       "      <th>Maths_grade</th>\n",
       "      <th>Science</th>\n",
       "      <th>Science_grade</th>\n",
       "      <th>GHC</th>\n",
       "      <th>GHC_grade</th>\n",
       "      <th>Total</th>\n",
       "    </tr>\n",
       "  </thead>\n",
       "  <tbody>\n",
       "    <tr>\n",
       "      <th>0</th>\n",
       "      <td>Onana</td>\n",
       "      <td>79</td>\n",
       "      <td>A</td>\n",
       "      <td>34</td>\n",
       "      <td>E</td>\n",
       "      <td>67</td>\n",
       "      <td>B</td>\n",
       "      <td>90</td>\n",
       "      <td>A</td>\n",
       "      <td>32</td>\n",
       "      <td>E</td>\n",
       "      <td>302</td>\n",
       "    </tr>\n",
       "    <tr>\n",
       "      <th>1</th>\n",
       "      <td>Varane</td>\n",
       "      <td>90</td>\n",
       "      <td>A</td>\n",
       "      <td>56</td>\n",
       "      <td>C</td>\n",
       "      <td>53</td>\n",
       "      <td>C</td>\n",
       "      <td>89</td>\n",
       "      <td>A</td>\n",
       "      <td>67</td>\n",
       "      <td>B</td>\n",
       "      <td>355</td>\n",
       "    </tr>\n",
       "  </tbody>\n",
       "</table>\n",
       "</div>"
      ],
      "text/plain": [
       "     Name  English English_grade  Kiswahili Kiswahili_grade  Maths  \\\n",
       "0   Onana       79             A         34               E     67   \n",
       "1  Varane       90             A         56               C     53   \n",
       "\n",
       "  Maths_grade  Science Science_grade  GHC GHC_grade  Total  \n",
       "0           B       90             A   32         E    302  \n",
       "1           C       89             A   67         B    355  "
      ]
     },
     "execution_count": 69,
     "metadata": {},
     "output_type": "execute_result"
    }
   ],
   "source": [
    "import pandas as pd\n",
    "df = pd.DataFrame(Class_Performance)\n",
    "df"
   ]
  },
  {
   "cell_type": "code",
   "execution_count": 57,
   "metadata": {},
   "outputs": [
    {
     "name": "stdout",
     "output_type": "stream",
     "text": [
      "{'name': 'Dominic'}\n"
     ]
    }
   ],
   "source": [
    "Class_Performance = {}\n",
    "Class_Performance[\"name\"] = \"Dominic\"\n",
    "print(Class_Performance)\n"
   ]
  },
  {
   "cell_type": "code",
   "execution_count": null,
   "metadata": {},
   "outputs": [],
   "source": [
    "# get student total\n",
    "\n",
    "def student_total():\n",
    "    \"\"\" Get total scores\n",
    "    Returns: \n",
    "        Total student scores out of 500\n",
    "    \"\"\"\n",
    "    student_scores = get_grade()\n",
    "    total = sum(student_scores)\n",
    "\n",
    "    return total\n",
    "    \n",
    "student_total()"
   ]
  },
  {
   "cell_type": "code",
   "execution_count": null,
   "metadata": {},
   "outputs": [],
   "source": [
    "# Wrapping everything (name, scores, grade and total)\n",
    "\n",
    "def student_performance():\n",
    "    student_name = get_student_name()\n",
    "    student_scores = get_grade()\n",
    "    student_grade = grade_student()\n",
    "    total_scores = student_total()\n",
    "\n",
    "    return student_name, student_scores, student_grade, total_scores    \n",
    "\n",
    "student_performance() "
   ]
  }
 ],
 "metadata": {
  "kernelspec": {
   "display_name": "base",
   "language": "python",
   "name": "python3"
  },
  "language_info": {
   "codemirror_mode": {
    "name": "ipython",
    "version": 3
   },
   "file_extension": ".py",
   "mimetype": "text/x-python",
   "name": "python",
   "nbconvert_exporter": "python",
   "pygments_lexer": "ipython3",
   "version": "3.11.3"
  },
  "orig_nbformat": 4
 },
 "nbformat": 4,
 "nbformat_minor": 2
}
