{
 "cells": [
  {
   "cell_type": "markdown",
   "metadata": {},
   "source": [
    "# Functions\n",
    "* Definition\n",
    "* Call"
   ]
  },
  {
   "cell_type": "code",
   "execution_count": 9,
   "metadata": {},
   "outputs": [
    {
     "data": {
      "text/plain": [
       "['30', '50', '79', '90', '70']"
      ]
     },
     "execution_count": 9,
     "metadata": {},
     "output_type": "execute_result"
    }
   ],
   "source": [
    "def get_grade():\n",
    "    \"\"\"get user input\"\"\"\n",
    "    count = 5\n",
    "    student_scores = []\n",
    "    subjects=[\"English\", \"Kiswahili\", \"Math\", \"Science\", \"GHC\"]\n",
    "    for subject in subjects:\n",
    "        score = input(f\"Enter {subject} score\")\n",
    "        student_scores.append(score)\n",
    "    return student_scores\n",
    "get_grade()\n"
   ]
  },
  {
   "cell_type": "code",
   "execution_count": 13,
   "metadata": {},
   "outputs": [
    {
     "data": {
      "text/plain": [
       "[80, 70, 79, 98, 89]"
      ]
     },
     "execution_count": 13,
     "metadata": {},
     "output_type": "execute_result"
    }
   ],
   "source": [
    "# Type hinting\n",
    "\n",
    "def get_grade():\n",
    "    \"\"\"get user input\"\"\"\n",
    "    student_scores = []\n",
    "    subjects=[\"English\", \"Kiswahili\", \"Math\", \"Science\", \"GHC\"]\n",
    "    for subject in subjects:\n",
    "        score = int(input(f\"Enter {subject} score\"))\n",
    "        student_scores.append(score)\n",
    "    return student_scores\n",
    "get_grade()\n"
   ]
  },
  {
   "cell_type": "code",
   "execution_count": null,
   "metadata": {},
   "outputs": [],
   "source": [
    "def grade_class():\n",
    "    \"\"\"Grade student\"\"\"\n",
    "    exam_score = get_grade()\n",
    "    "
   ]
  }
 ],
 "metadata": {
  "kernelspec": {
   "display_name": "base",
   "language": "python",
   "name": "python3"
  },
  "language_info": {
   "codemirror_mode": {
    "name": "ipython",
    "version": 3
   },
   "file_extension": ".py",
   "mimetype": "text/x-python",
   "name": "python",
   "nbconvert_exporter": "python",
   "pygments_lexer": "ipython3",
   "version": "3.11.3"
  },
  "orig_nbformat": 4
 },
 "nbformat": 4,
 "nbformat_minor": 2
}
