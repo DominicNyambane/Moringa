{
 "cells": [
  {
   "cell_type": "code",
   "execution_count": 10,
   "metadata": {},
   "outputs": [
    {
     "name": "stdout",
     "output_type": "stream",
     "text": [
      "3\n"
     ]
    }
   ],
   "source": [
    "#set-up vacation_days variable\n",
    "vacation_days = 0\n",
    "\n",
    "# add 1 to vacation_days and rewrite itself\n",
    "vacation_days = vacation_days + 1\n",
    "vacation_days = vacation_days + 1\n",
    "vacation_days = vacation_days + 1\n",
    "\n",
    "print(vacation_days)\n",
    "\n",
    "\n"
   ]
  },
  {
   "cell_type": "code",
   "execution_count": 13,
   "metadata": {},
   "outputs": [
    {
     "name": "stdout",
     "output_type": "stream",
     "text": [
      "2\n"
     ]
    }
   ],
   "source": [
    "vacation_days = 0\n",
    "vacation_days += 1\n",
    "vacation_days += 1\n",
    "print(vacation_days)"
   ]
  },
  {
   "cell_type": "code",
   "execution_count": 22,
   "metadata": {},
   "outputs": [
    {
     "name": "stdout",
     "output_type": "stream",
     "text": [
      "vacation_days =  2\n",
      "we incremented vacation days\n"
     ]
    }
   ],
   "source": [
    "vacation_days = 1\n",
    "goals_met = True\n",
    "if goals_met:\n",
    "    vacation_days += 1\n",
    "    print(\"vacation_days = \", vacation_days)\n",
    "    print(\"we incremented vacation days\")"
   ]
  },
  {
   "cell_type": "code",
   "execution_count": 24,
   "metadata": {},
   "outputs": [
    {
     "name": "stdout",
     "output_type": "stream",
     "text": [
      "you can join the bouncing castle\n"
     ]
    }
   ],
   "source": [
    "weight = 20\n",
    "if (weight < 60):\n",
    "    print(\"you can join the bouncing castle\")"
   ]
  },
  {
   "cell_type": "code",
   "execution_count": 25,
   "metadata": {},
   "outputs": [
    {
     "name": "stdout",
     "output_type": "stream",
     "text": [
      "you will break the bouncing castle\n"
     ]
    }
   ],
   "source": [
    "weight = 65\n",
    "if (weight < 60):\n",
    "    print(\"you can join the bouncing castle\")\n",
    "else:\n",
    "    print(\"you will break the bouncing castle\")"
   ]
  },
  {
   "cell_type": "code",
   "execution_count": 31,
   "metadata": {},
   "outputs": [
    {
     "name": "stdout",
     "output_type": "stream",
     "text": [
      "try the swimming pool\n"
     ]
    }
   ],
   "source": [
    "weight = 110\n",
    "if (weight <= 60):\n",
    "    print(\"you can join the bouncing castle\")\n",
    "elif (weight > 100):\n",
    "    print(\"try the swimming pool\")\n",
    "else:\n",
    "    print(\"you will break the bouncing castle\")"
   ]
  },
  {
   "cell_type": "code",
   "execution_count": 33,
   "metadata": {},
   "outputs": [
    {
     "name": "stdout",
     "output_type": "stream",
     "text": [
      "7\n"
     ]
    }
   ],
   "source": [
    "a = 5\n",
    "a = 7\n",
    "print(a)"
   ]
  },
  {
   "cell_type": "code",
   "execution_count": 36,
   "metadata": {},
   "outputs": [
    {
     "name": "stdout",
     "output_type": "stream",
     "text": [
      "you will break the bouncing castle\n"
     ]
    }
   ],
   "source": [
    "weight = 110\n",
    "height = 30\n",
    "if (weight <= 60) and (height < 60):\n",
    "    print(\"you can join the bouncing castle\")\n",
    "else:\n",
    "    print(\"you will break the bouncing castle\")"
   ]
  },
  {
   "cell_type": "code",
   "execution_count": 38,
   "metadata": {},
   "outputs": [
    {
     "name": "stdout",
     "output_type": "stream",
     "text": [
      "you can join the bouncing castle\n"
     ]
    }
   ],
   "source": [
    "weight = 110\n",
    "height = 30\n",
    "if (weight <= 60) or (height < 60):\n",
    "    print(\"you can join the bouncing castle\")\n",
    "else:\n",
    "    print(\"you will break the bouncing castle\")"
   ]
  }
 ],
 "metadata": {
  "kernelspec": {
   "display_name": "base",
   "language": "python",
   "name": "python3"
  },
  "language_info": {
   "codemirror_mode": {
    "name": "ipython",
    "version": 3
   },
   "file_extension": ".py",
   "mimetype": "text/x-python",
   "name": "python",
   "nbconvert_exporter": "python",
   "pygments_lexer": "ipython3",
   "version": "3.11.3"
  },
  "orig_nbformat": 4
 },
 "nbformat": 4,
 "nbformat_minor": 2
}
