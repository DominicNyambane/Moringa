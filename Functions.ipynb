{
 "cells": [
  {
   "cell_type": "markdown",
   "metadata": {},
   "source": [
    "# Functions"
   ]
  },
  {
   "cell_type": "markdown",
   "metadata": {},
   "source": [
    "* A named block of code that are designed to do a specific job. \n",
    "* When you want to perform a particular task that you have defined in a function, you *call* the function responsible to it.\n",
    "* If you need to perform that task multiple times throughout your program, you dont need to type the code all over again abd again; you just call the function dedicated to handling that task. \n",
    "* Using functions makes your program easier to write, read, test and fix. "
   ]
  },
  {
   "cell_type": "code",
   "execution_count": 1,
   "metadata": {},
   "outputs": [
    {
     "name": "stdout",
     "output_type": "stream",
     "text": [
      "The Zen of Python, by Tim Peters\n",
      "\n",
      "Beautiful is better than ugly.\n",
      "Explicit is better than implicit.\n",
      "Simple is better than complex.\n",
      "Complex is better than complicated.\n",
      "Flat is better than nested.\n",
      "Sparse is better than dense.\n",
      "Readability counts.\n",
      "Special cases aren't special enough to break the rules.\n",
      "Although practicality beats purity.\n",
      "Errors should never pass silently.\n",
      "Unless explicitly silenced.\n",
      "In the face of ambiguity, refuse the temptation to guess.\n",
      "There should be one-- and preferably only one --obvious way to do it.\n",
      "Although that way may not be obvious at first unless you're Dutch.\n",
      "Now is better than never.\n",
      "Although never is often better than *right* now.\n",
      "If the implementation is hard to explain, it's a bad idea.\n",
      "If the implementation is easy to explain, it may be a good idea.\n",
      "Namespaces are one honking great idea -- let's do more of those!\n"
     ]
    }
   ],
   "source": [
    "# zen of python\n",
    "import this\n",
    "\n"
   ]
  },
  {
   "cell_type": "markdown",
   "metadata": {},
   "source": [
    "## Types of Functions\n",
    "\n",
    "1. `User-defined functions` - Functions that we create/define ourselves in our program and then call them wherever we want to use them.\n",
    "2. `Built-in Functions` - Functions already used in Python Libraries and we call them directly"
   ]
  },
  {
   "cell_type": "markdown",
   "metadata": {},
   "source": [
    "## Defining a Function"
   ]
  },
  {
   "cell_type": "code",
   "execution_count": 103,
   "metadata": {},
   "outputs": [
    {
     "name": "stdout",
     "output_type": "stream",
     "text": [
      "Hello!\n"
     ]
    }
   ],
   "source": [
    "# example\n",
    "def greet_user():\n",
    "    \"\"\"Display a simple greetings\"\"\"\n",
    "    print(\"Hello!\")\n",
    "\n",
    "greet_user()\n",
    "    "
   ]
  },
  {
   "cell_type": "markdown",
   "metadata": {},
   "source": [
    "`def greet_user():`\n",
    "* Using the keyword `def` to inform python that you are defining a function, refered to as *function definition*.\n",
    "* Function definition tells python the name of the function, in the example above, **greet_user**\n",
    "* lt also informs python, if applicable, what kind of information the function needs to perform its tasks/job, passed into the function using the `()`. In this case, the function needs no information to perform its tasks hence the empty brackets.\n",
    "* Any idented lines that follow the `:` make up the body of the function.\n",
    "\n",
    "`\"\"Dispaly a simple greeting\"\"`\n",
    "\n",
    "* Comment called *docstring*, that describes what the function does.\n",
    "* if a single short one statement, we can use  a `#`.\n",
    "\n",
    "`print(\"Hello World!\")`\n",
    "* Function body lines() indented inside the function.\n",
    "* Contains set of instructions on the code to be executed.\n",
    "\n",
    "`greet_user()`\n",
    "* When you want to use a function you call it.\n",
    "* A **function call** tells python to execute the indentedc ode in the function body.\n",
    "* To call a function, write the function name, in our example, `greet_user`, followed by any necessary information in the `()`.\n",
    "\n"
   ]
  },
  {
   "cell_type": "code",
   "execution_count": 104,
   "metadata": {},
   "outputs": [
    {
     "name": "stdout",
     "output_type": "stream",
     "text": [
      "Antonny\n"
     ]
    }
   ],
   "source": [
    "# comment\n",
    "\n",
    "\"\"\"Comment\"\"\"\n",
    "\n",
    "# This is a multiple line comment\n",
    "# The tripple double quotes \n",
    "# Used to create multiple line comments\n",
    "\n",
    "\"\"\"\n",
    "This is a multiple line comment\n",
    "The tripple double quotes \n",
    "Used to create multiple line comments\n",
    "\"\"\"\n",
    "print(\"Antonny\")"
   ]
  },
  {
   "cell_type": "code",
   "execution_count": 105,
   "metadata": {},
   "outputs": [
    {
     "name": "stdout",
     "output_type": "stream",
     "text": [
      "7\n"
     ]
    }
   ],
   "source": [
    "# example 2\n",
    "def add_number(): # defining our function\n",
    "    \"\"\"Simple function to add numbers\"\"\"\n",
    "    a = 2\n",
    "    b = 5\n",
    "    sum = a + b\n",
    "    print(sum)\n",
    "add_number() # calling our function"
   ]
  },
  {
   "cell_type": "markdown",
   "metadata": {},
   "source": [
    "## Passing information to a function\n",
    "\n",
    "* The functon greet_user can only tell the user *Hello!* but not greet them by name."
   ]
  },
  {
   "cell_type": "code",
   "execution_count": 106,
   "metadata": {},
   "outputs": [
    {
     "name": "stdout",
     "output_type": "stream",
     "text": [
      "Hello Antonny!\n"
     ]
    }
   ],
   "source": [
    "# example\n",
    "def greet_user(username):\n",
    "    \"\"\"Display a simple greetings\"\"\"\n",
    "    print(f\"Hello {username}!\")\n",
    "\n",
    "greet_user('Antonny')\n",
    "    "
   ]
  },
  {
   "cell_type": "markdown",
   "metadata": {},
   "source": [
    "* By adding `username` in our function definition, we are allowing the function to accept any value for *username*.\n",
    "* Expectations: - provide a value for a *username* each time you call it."
   ]
  },
  {
   "cell_type": "code",
   "execution_count": 107,
   "metadata": {},
   "outputs": [
    {
     "name": "stdout",
     "output_type": "stream",
     "text": [
      "Hello Melly!\n"
     ]
    }
   ],
   "source": [
    "# second function call\n",
    "greet_user('Melly')  #changed username value"
   ]
  },
  {
   "cell_type": "markdown",
   "metadata": {},
   "source": [
    "* `parameters` - in the example greet_user(username), *username* is the parameter.\n",
    "A piece of information the function needs to do its job/task.\n",
    "* `arguments` - the value *Antonny* and *Melly* are arguments.\n",
    "A piece of information that's passed from a function call to a function."
   ]
  },
  {
   "cell_type": "code",
   "execution_count": 108,
   "metadata": {},
   "outputs": [
    {
     "ename": "TypeError",
     "evalue": "greet_user() missing 1 required positional argument: 'username'",
     "output_type": "error",
     "traceback": [
      "\u001b[1;31m---------------------------------------------------------------------------\u001b[0m",
      "\u001b[1;31mTypeError\u001b[0m                                 Traceback (most recent call last)",
      "Cell \u001b[1;32mIn[108], line 2\u001b[0m\n\u001b[0;32m      1\u001b[0m \u001b[39m# third function call\u001b[39;00m\n\u001b[1;32m----> 2\u001b[0m greet_user()\n",
      "\u001b[1;31mTypeError\u001b[0m: greet_user() missing 1 required positional argument: 'username'"
     ]
    }
   ],
   "source": [
    "# third function call\n",
    "greet_user()"
   ]
  },
  {
   "cell_type": "markdown",
   "metadata": {},
   "source": [
    "* We must pass in argyments during function calls to avoid errors."
   ]
  },
  {
   "cell_type": "code",
   "execution_count": null,
   "metadata": {},
   "outputs": [
    {
     "name": "stdout",
     "output_type": "stream",
     "text": [
      "I have a Cat.\n",
      "My Cat's name is Missy.\n"
     ]
    }
   ],
   "source": [
    "# example\n",
    "\n",
    "def describe_pet(animal_type, pet_name):\n",
    "    \"\"\"Display information about a pet\"\"\"\n",
    "    print (f\"I have a {animal_type}.\")\n",
    "    print(f\"My {animal_type}'s name is {pet_name}.\")\n",
    "\n",
    "describe_pet('Cat', 'Missy')"
   ]
  },
  {
   "cell_type": "markdown",
   "metadata": {},
   "source": [
    "* Whe you call a function, Python must match each argument in the function call with a parameted in the function definition.\n"
   ]
  },
  {
   "cell_type": "code",
   "execution_count": null,
   "metadata": {},
   "outputs": [
    {
     "name": "stdout",
     "output_type": "stream",
     "text": [
      "I have a Scooby.\n",
      "My Scooby's name is Dog.\n"
     ]
    }
   ],
   "source": [
    "# the arguments match the order of the parameter\n",
    "\n",
    "describe_pet('Scooby', 'Dog') # this is wrong"
   ]
  },
  {
   "cell_type": "code",
   "execution_count": null,
   "metadata": {},
   "outputs": [
    {
     "name": "stdout",
     "output_type": "stream",
     "text": [
      "I have a Dog.\n",
      "My Dog's name is Scooby.\n"
     ]
    }
   ],
   "source": [
    "# alternatively use keyword arguments\n",
    "describe_pet(pet_name='Scooby', animal_type='Dog') # assign arguments to parameters"
   ]
  },
  {
   "cell_type": "code",
   "execution_count": null,
   "metadata": {},
   "outputs": [
    {
     "name": "stdout",
     "output_type": "stream",
     "text": [
      "I have a Dog.\n",
      "My Dog's name is Missy.\n"
     ]
    }
   ],
   "source": [
    "# default values\n",
    "def describe_pet(pet_name, animal_type = 'Dog'):\n",
    "    \"\"\"Display information about a pet\"\"\"\n",
    "    print (f\"I have a {animal_type}.\")\n",
    "    print(f\"My {animal_type}'s name is {pet_name}.\")\n",
    "\n",
    "describe_pet('Missy')"
   ]
  },
  {
   "cell_type": "markdown",
   "metadata": {},
   "source": [
    "* Defining a **default values** for the parameter `animal_type` and setting it as `Dog`."
   ]
  },
  {
   "cell_type": "code",
   "execution_count": null,
   "metadata": {},
   "outputs": [
    {
     "name": "stdout",
     "output_type": "stream",
     "text": [
      "I have a Dog.\n",
      "My Dog's name is Missy.\n"
     ]
    }
   ],
   "source": [
    "describe_pet('Missy')"
   ]
  },
  {
   "cell_type": "markdown",
   "metadata": {},
   "source": [
    "If an argument for a parameter is provided in the function call, python uses the argument value provided and not the default value"
   ]
  },
  {
   "cell_type": "code",
   "execution_count": null,
   "metadata": {},
   "outputs": [
    {
     "name": "stdout",
     "output_type": "stream",
     "text": [
      "I have a Cat.\n",
      "My Cat's name is Scooby.\n"
     ]
    }
   ],
   "source": [
    "describe_pet('Scooby', 'Cat')"
   ]
  },
  {
   "cell_type": "markdown",
   "metadata": {},
   "source": [
    "If an argument is not provided, python uses the default value"
   ]
  },
  {
   "cell_type": "code",
   "execution_count": null,
   "metadata": {},
   "outputs": [
    {
     "name": "stdout",
     "output_type": "stream",
     "text": [
      "I have a Cow.\n",
      "My Cow's name is Hope.\n"
     ]
    }
   ],
   "source": [
    "describe_pet('Hope', 'Cow')"
   ]
  },
  {
   "cell_type": "code",
   "execution_count": null,
   "metadata": {},
   "outputs": [
    {
     "name": "stdout",
     "output_type": "stream",
     "text": [
      "I have a Goat.\n",
      "My Goat's name is Missy.\n"
     ]
    }
   ],
   "source": [
    "describe_pet('Missy', 'Goat')"
   ]
  },
  {
   "cell_type": "markdown",
   "metadata": {},
   "source": [
    "## Return Values\n",
    "\n",
    "* A function doesnt hace to display its output directly.\n"
   ]
  },
  {
   "cell_type": "code",
   "execution_count": null,
   "metadata": {},
   "outputs": [],
   "source": [
    "# example\n",
    "def add_numbers(a, b):\n",
    "    \"\"\"Sums two numbers\"\"\"\n",
    "    sum = a + b\n",
    "    output = f\"{a} + {b} = {sum}\"\n",
    "\n",
    "add_numbers(9, 6)"
   ]
  },
  {
   "cell_type": "markdown",
   "metadata": {},
   "source": [
    "* Functions process data and then return a value or set of values. "
   ]
  },
  {
   "cell_type": "code",
   "execution_count": null,
   "metadata": {},
   "outputs": [
    {
     "data": {
      "text/plain": [
       "'9 + 6 = 15'"
      ]
     },
     "execution_count": 84,
     "metadata": {},
     "output_type": "execute_result"
    }
   ],
   "source": [
    "# modify the example \n",
    "def add_numbers(a, b):\n",
    "    \"\"\"Sums two numbers\"\"\"\n",
    "    sum =  a + b\n",
    "    Prof = f\"{a} + {b} = {sum}\"\n",
    "    return Prof      # return displays Prof\n",
    "\n",
    "add_numbers(9, 6)"
   ]
  },
  {
   "cell_type": "code",
   "execution_count": null,
   "metadata": {},
   "outputs": [
    {
     "data": {
      "text/plain": [
       "\"Welcome Yusuf to Nyambane and Ida's Wedding!\""
      ]
     },
     "execution_count": 96,
     "metadata": {},
     "output_type": "execute_result"
    }
   ],
   "source": [
    "# example\n",
    "def send_greeting(user):\n",
    "    \"\"\"Welcome users to a wedding\"\"\"\n",
    "    message = f\"Welcome {user} to Nyambane and Ida's Wedding!\"\n",
    "    return message\n",
    "send_greeting('Yusuf')"
   ]
  },
  {
   "cell_type": "code",
   "execution_count": null,
   "metadata": {},
   "outputs": [
    {
     "data": {
      "text/plain": [
       "\"Welcome Eugene to Nyambane and Ida's Wedding!\""
      ]
     },
     "execution_count": 101,
     "metadata": {},
     "output_type": "execute_result"
    }
   ],
   "source": [
    "def send_greeting(user):\n",
    "    \"\"\"Welcome users to a wedding\"\"\"\n",
    "    message = f\"Welcome {user} to Nyambane and Ida's Wedding!\"\n",
    "    return message\n",
    "send_greeting('Eugene')"
   ]
  },
  {
   "cell_type": "markdown",
   "metadata": {},
   "source": [
    "* The `return` statement takes a value or set of values from inside a function and send it back to the line that called the function."
   ]
  },
  {
   "cell_type": "code",
   "execution_count": null,
   "metadata": {},
   "outputs": [
    {
     "name": "stdout",
     "output_type": "stream",
     "text": [
      "Welcome Kocheli to Nyambane and Ida's Wedding!\n"
     ]
    }
   ],
   "source": [
    "# Challenge\n",
    "\n",
    "welcome_message = send_greeting('Kocheli')\n",
    "print(welcome_message)"
   ]
  },
  {
   "cell_type": "code",
   "execution_count": null,
   "metadata": {},
   "outputs": [
    {
     "data": {
      "text/plain": [
       "'4 * 6 = 24'"
      ]
     },
     "execution_count": 23,
     "metadata": {},
     "output_type": "execute_result"
    }
   ],
   "source": [
    "# example \n",
    "\n",
    "def calculator(a, b, operator):\n",
    "    \"\"\"Simple arithmetic operations\"\"\"\n",
    "    if (operator == \"+\"):\n",
    "        sum = a + b\n",
    "        sum_out = f\"{a} + {b} = {sum}\"\n",
    "\n",
    "        return sum_out\n",
    "    elif (operator == \"-\"):\n",
    "        diff = a - b\n",
    "        diff_out = f\"{a} - {b} = {diff}\"\n",
    "\n",
    "        return diff_out\n",
    "    elif (operator == \"*\"):\n",
    "        times = a * b\n",
    "        times_out = f\"{a} * {b} = {times}\"\n",
    "\n",
    "        return times_out\n",
    "    else:\n",
    "       print(\"Enter maths operators\")\n",
    "            \n",
    "calculator(4, 6, \"*\")\n"
   ]
  },
  {
   "cell_type": "code",
   "execution_count": null,
   "metadata": {},
   "outputs": [
    {
     "data": {
      "text/plain": [
       "(10, 4, 21)"
      ]
     },
     "execution_count": 36,
     "metadata": {},
     "output_type": "execute_result"
    }
   ],
   "source": [
    "def alt_calculator(a, b):\n",
    "    \"\"\"Alternative calculator\"\"\"\n",
    "    sum = a + b\n",
    "    diff = a - b\n",
    "    multiplication = a * b\n",
    "\n",
    "    # return a set of values.\n",
    "    return sum, diff, multiplication\n",
    "\n",
    "alt_calculator(7, 3)"
   ]
  },
  {
   "cell_type": "code",
   "execution_count": null,
   "metadata": {},
   "outputs": [
    {
     "name": "stdout",
     "output_type": "stream",
     "text": [
      "<class 'tuple'>\n",
      "4\n",
      "21\n"
     ]
    }
   ],
   "source": [
    "# assigned variable to our function call\n",
    "alt_calculator_output = alt_calculator(7, 3)\n",
    "\n",
    "print(type(alt_calculator_output))\n",
    "\n",
    "# Accessing individual values in the return of values\n",
    "# Using the index\n",
    "\n",
    "difference = alt_calculator_output[1]\n",
    "\n",
    "print(difference)\n",
    "\n",
    "prod = alt_calculator_output[-1]\n",
    "\n",
    "print(prod)\n"
   ]
  },
  {
   "cell_type": "code",
   "execution_count": null,
   "metadata": {},
   "outputs": [
    {
     "data": {
      "text/plain": [
       "(14, [1, 4, 9])"
      ]
     },
     "execution_count": 71,
     "metadata": {},
     "output_type": "execute_result"
    }
   ],
   "source": [
    "# sum of squares\n",
    "\n",
    "def sum_squares(numbers):\n",
    "    \"\"\"\n",
    "    parameters:\n",
    "        numbers - list of numbers\n",
    "    return:\n",
    "        sum of the squares of the list numbers\n",
    "    \"\"\"\n",
    "\n",
    "    # empty list to store numbers\n",
    "    squared_numbers = []\n",
    "    # loop through the list numbers\n",
    "    for num in numbers:\n",
    "        squared_value = num ** 2\n",
    "        # add the squared_valye to empty the list \n",
    "        squared_numbers.append(squared_value)\n",
    "\n",
    "    # calculate sum of sqauares\n",
    "    squares_sum = sum(squared_numbers) \n",
    "\n",
    "    return squares_sum, squared_numbers\n",
    "\n",
    "sum_squares([1, 2, 4])\n",
    "\n"
   ]
  },
  {
   "cell_type": "markdown",
   "metadata": {},
   "source": [
    "# Built-in Function"
   ]
  },
  {
   "cell_type": "code",
   "execution_count": 2,
   "metadata": {},
   "outputs": [
    {
     "name": "stdout",
     "output_type": "stream",
     "text": [
      "Dominic\n"
     ]
    }
   ],
   "source": [
    "# example\n",
    "print(\"Dominic\")"
   ]
  },
  {
   "cell_type": "code",
   "execution_count": 6,
   "metadata": {},
   "outputs": [],
   "source": [
    "# input - takes in user input\n",
    "first_name = input(\"Enter your name: \\n\")"
   ]
  },
  {
   "cell_type": "code",
   "execution_count": 7,
   "metadata": {},
   "outputs": [
    {
     "name": "stdout",
     "output_type": "stream",
     "text": [
      "Dominic\n"
     ]
    }
   ],
   "source": [
    "print(first_name)"
   ]
  },
  {
   "cell_type": "code",
   "execution_count": 5,
   "metadata": {},
   "outputs": [
    {
     "data": {
      "text/plain": [
       "str"
      ]
     },
     "execution_count": 5,
     "metadata": {},
     "output_type": "execute_result"
    }
   ],
   "source": [
    "# what if we want an integer\n",
    "number = input(\"Enter a number: \\n\")\n",
    "\n",
    "type(number)\n"
   ]
  },
  {
   "cell_type": "code",
   "execution_count": 9,
   "metadata": {},
   "outputs": [
    {
     "data": {
      "text/plain": [
       "int"
      ]
     },
     "execution_count": 9,
     "metadata": {},
     "output_type": "execute_result"
    }
   ],
   "source": [
    "# type hinting - specify the expected types of variables, function parameters and return values\n",
    "\n",
    "number_2 = int(input(\"Enter number (0-9): \\n\"))\n",
    "\n",
    "type(number_2)"
   ]
  },
  {
   "cell_type": "code",
   "execution_count": 11,
   "metadata": {},
   "outputs": [],
   "source": [
    "def even_or_odd(number):\n",
    "    if number % 2 == 0:\n",
    "        return \"Even\"\n",
    "    else:\n",
    "        return \"Odd\""
   ]
  }
 ],
 "metadata": {
  "kernelspec": {
   "display_name": "base",
   "language": "python",
   "name": "python3"
  },
  "language_info": {
   "codemirror_mode": {
    "name": "ipython",
    "version": 3
   },
   "file_extension": ".py",
   "mimetype": "text/x-python",
   "name": "python",
   "nbconvert_exporter": "python",
   "pygments_lexer": "ipython3",
   "version": "3.11.5"
  },
  "orig_nbformat": 4
 },
 "nbformat": 4,
 "nbformat_minor": 2
}
